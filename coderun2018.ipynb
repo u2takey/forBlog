{
  "nbformat": 4,
  "nbformat_minor": 0,
  "metadata": {
    "colab": {
      "name": "coderun2018.ipynb",
      "version": "0.3.2",
      "provenance": [],
      "collapsed_sections": [],
      "toc_visible": true,
      "include_colab_link": true
    },
    "kernelspec": {
      "name": "python3",
      "display_name": "Python 3"
    }
  },
  "cells": [
    {
      "cell_type": "markdown",
      "metadata": {
        "id": "view-in-github",
        "colab_type": "text"
      },
      "source": [
        "<a href=\"https://colab.research.google.com/github/u2takey/forBlog/blob/master/coderun2018.ipynb\" target=\"_parent\"><img src=\"https://colab.research.google.com/assets/colab-badge.svg\" alt=\"Open In Colab\"/></a>"
      ]
    },
    {
      "metadata": {
        "id": "XjrYVkLH53gV",
        "colab_type": "text"
      },
      "cell_type": "markdown",
      "source": [
        "# 概念和理论"
      ]
    },
    {
      "metadata": {
        "id": "qbb7bH6u9Yo2",
        "colab_type": "text"
      },
      "cell_type": "markdown",
      "source": [
        "## 主定理\n",
        "![定理](https://note.youdao.com/yws/public/resource/d8656d8508f9e26258de7a9bab2ed8f7/xmlnote/D24BDDDF84F74784919C228C1DCBE92A/19392)\n",
        "\n",
        "https://zh.wikipedia.org/wiki/%E4%B8%BB%E5%AE%9A%E7%90%86\n",
        "\n",
        "\n",
        "主定理说明的是对于一个递推公式：`T(n) = a*T(n/b) + f(n)`, 时间复杂度`T(n)`是如何被n^logba 和 f(n) 影响的.\n",
        "http://blog.lirui.me/posts/d53d7104/\n",
        "```\n",
        "# 记忆\n",
        "对于T(n) = a*T(n/b) + f(n), 令：x = n^logba\n",
        "1. f(n)(多项式) < x => T(n) = Θ(x)\n",
        "2. f(n)        = x => T(n) = Θ(x*lgn)\n",
        "3. f(n) (多项式)> x => T(n) = Θ(f(n))\n",
        "```\n",
        "\n"
      ]
    },
    {
      "metadata": {
        "id": "gYmDYPkv5-2F",
        "colab_type": "text"
      },
      "cell_type": "markdown",
      "source": [
        "# 基础数据结构\n",
        "\n"
      ]
    },
    {
      "metadata": {
        "id": "Chz1wCJ06OFG",
        "colab_type": "code",
        "colab": {}
      },
      "cell_type": "code",
      "source": [
        "# 这部分放所有下面的示例代码中用的数据结构utils函数\n",
        "class TreeNode:\n",
        "  def __init__(self, x, left=None, right=None):\n",
        "    self.val = x\n",
        "    self.left = left\n",
        "    self.right = right\n",
        "    \n",
        "# Definition for singly-linked list.\n",
        "class ListNode:\n",
        "    def __init__(self, x, next=None):\n",
        "        self.val = x\n",
        "        self.next = next\n",
        "\n",
        "# Input:\n",
        "# [\n",
        "#   1->4->5,\n",
        "#   1->3->4,\n",
        "#   2->6\n",
        "# ]\n",
        "\n",
        "def buildLists():\n",
        "  n11 = ListNode(5)\n",
        "  n12 = ListNode(4, n11)\n",
        "  n13 = ListNode(1, n12)\n",
        "  \n",
        "  n21 = ListNode(4)\n",
        "  n22 = ListNode(3, n21)\n",
        "  n23 = ListNode(1, n22)\n",
        "  \n",
        "  n31 = ListNode(6)\n",
        "  n32 = ListNode(2, n31)\n",
        "\n",
        "def printList(node):\n",
        "  while node:\n",
        "    print(node.val, end=' ')\n",
        "    node = node.next"
      ],
      "execution_count": 0,
      "outputs": []
    },
    {
      "metadata": {
        "id": "ESqqYu6H59R0",
        "colab_type": "text"
      },
      "cell_type": "markdown",
      "source": [
        "## 栈"
      ]
    },
    {
      "metadata": {
        "id": "qRWMue7cAO9C",
        "colab_type": "text"
      },
      "cell_type": "markdown",
      "source": [
        "### 例子：转逆波兰式\n",
        "波兰式(后缀表达式)是算算术表达式的很好的办法。\n",
        "\n",
        "需要用两个栈一个符号栈s1, 一个数字栈s2\n",
        "遍历方式为：\n",
        "\n",
        "1.   数字 -> s2\n",
        "2.   符号:\n",
        "  1.   为 ')' 则 s1 pop到 '(' 到 s2, 为\"(\" 则 ->s1\n",
        "  2.   为其他符号则和s1.top()比较优先级，优先级高->s1, 优先级低则一直pop -> s2 直到优先级比s1.top() 高或者相等\n",
        "3. 遍历完成后 s1.pop所有-> s2"
      ]
    },
    {
      "metadata": {
        "id": "zyQj7htJAMcE",
        "colab_type": "code",
        "colab": {}
      },
      "cell_type": "code",
      "source": [
        "def polish(input):\n",
        "    # 注意\"(\"的情况需要在if 和 priority都做处理\n",
        "    def priority(op):\n",
        "        d = {\"*\":2, \"/\":2, \"+\":1, \"-\":1, \"(\" :0}\n",
        "        return d[op]\n",
        "    \n",
        "    s1, s2 = [], []\n",
        "    for a in input:\n",
        "        if a.isdigit(): s2.append(a)\n",
        "        elif a == \"(\": s1.append(a)\n",
        "        elif a == \")\":\n",
        "            while s1 and s1[-1] != \"(\":\n",
        "                s2.append(s1.pop())\n",
        "            s1.pop(-1)\n",
        "        else:\n",
        "            while s1 and priority(s1[-1])>priority(a):\n",
        "                s2.append(s1.pop())\n",
        "            s1.append(a)\n",
        "    for b in reversed(s1):\n",
        "        s2.append(b)\n",
        "    print(s2)\n",
        "  "
      ],
      "execution_count": 0,
      "outputs": []
    },
    {
      "metadata": {
        "id": "5TlWCN_IFfNC",
        "colab_type": "code",
        "outputId": "d8ae4e6f-000d-4516-84c5-047f840852e5",
        "colab": {
          "base_uri": "https://localhost:8080/",
          "height": 34
        }
      },
      "cell_type": "code",
      "source": [
        "polish('1+(2+3)*4')"
      ],
      "execution_count": 11,
      "outputs": [
        {
          "output_type": "stream",
          "text": [
            "['1', '2', '3', '+', '4', '*', '+']\n"
          ],
          "name": "stdout"
        }
      ]
    },
    {
      "metadata": {
        "id": "goUpFzlO-1t6",
        "colab_type": "text"
      },
      "cell_type": "markdown",
      "source": [
        "### 例子：132 Pattern\n",
        "https://leetcode.com/problems/132-pattern/description/"
      ]
    },
    {
      "metadata": {
        "id": "9eJ8iOtC_AMQ",
        "colab_type": "code",
        "colab": {}
      },
      "cell_type": "code",
      "source": [
        "class Solution:\n",
        "    def find132pattern(self, nums):\n",
        "        \"\"\"\n",
        "        :type nums: List[int]\n",
        "        :rtype: bool\n",
        "        \"\"\"\n",
        "        # 这题的关键是反向遍历 132 如果正向遍历，最后面那个既不是最大也不是最小，很难处理\n",
        "        # 贪心：s1 < s3 < s2; 如果遍历s1 那么s2取s1 左边最大的，s3取s2左边而且比s2小的最大的\n",
        "        # 使用 stack 记录\"最大\", 找s1 < s3, 因为stack里面始终放大的，那么s3存在，就存在s2\n",
        "        stack = []\n",
        "        s3 = float(\"-inf\")\n",
        "        for a in reversed(nums):\n",
        "            s1 = a\n",
        "            if s1 < s3:return True\n",
        "            else:\n",
        "                while stack and a > stack[-1]:\n",
        "                    s3 = stack.pop()\n",
        "                stack.append(a)\n",
        "        return False"
      ],
      "execution_count": 0,
      "outputs": []
    },
    {
      "metadata": {
        "id": "pwXU6p4c8EhY",
        "colab_type": "text"
      },
      "cell_type": "markdown",
      "source": [
        "## 最小/最大堆"
      ]
    },
    {
      "metadata": {
        "id": "IYdf3yXCs67J",
        "colab_type": "text"
      },
      "cell_type": "markdown",
      "source": [
        "### 例子：最小堆的实现\n",
        "http://128kj.iteye.com/blog/1728555\n",
        "\n",
        "http://interactivepython.org/courselib/static/pythonds/Trees/BinaryHeapImplementation.html\n",
        "\n",
        "最小堆的操作\n",
        "0. **上浮**：swap(father, son); **下沉**：swap(father, min of son)\n",
        "1. 增：append, 上浮\n",
        "2. 删：替换尾，下沉\n",
        "3. 查（最小）：顶\n",
        "4. 建堆：从 n/2->1（这里采用了0为guard的方式）, 下沉\n"
      ]
    },
    {
      "metadata": {
        "id": "C2eTWA8CqY6m",
        "colab_type": "code",
        "colab": {}
      },
      "cell_type": "code",
      "source": [
        "class MinHeap:\n",
        "    def __init__(self):\n",
        "        self.heap = [0]\n",
        "    \n",
        "    # 上浮\n",
        "    def up(self, i):\n",
        "      while i//2 > 0 and self.heap[i//2] > self.heap[i]:\n",
        "        self.heap[i//2], self.heap[i] = self.heap[i], self.heap[i//2]\n",
        "        i = i //2\n",
        "    \n",
        "    # 下沉\n",
        "    def down(self, i):\n",
        "      while i*2 < len(self.heap):\n",
        "        # 最小堆下沉到小的那个儿子\n",
        "        son = i*2 \n",
        "        if i*2+1 < len(self.heap) and self.heap[i*2+1] < self.heap[i*2]:\n",
        "          son = i*2+1\n",
        "        if self.heap[i] > self.heap[son]:\n",
        "          self.heap[son], self.heap[i] = self.heap[i], self.heap[son]\n",
        "        i = son\n",
        "    \n",
        "    # 放在最后，然后上浮\n",
        "    def push(self, k):\n",
        "      self.heap.append(k)\n",
        "      self.up(len(self.heap) - 1)\n",
        "    \n",
        "    # 用最后的一个元素替换，然后下沉这个元素\n",
        "    def delete(self, i):\n",
        "      self.heap[i], self.heap[-1] = self.heap[-1], self.heap[i]\n",
        "      self.heap.pop()\n",
        "      self.down(i)\n",
        "    \n",
        "    # 从n/2->1; 依次下沉\n",
        "    def buildHeap(self, alist):\n",
        "      self.heap = [0] + alist[:]\n",
        "      for i in reversed(range(1, len(self.heap))):\n",
        "        self.down(i)\n",
        "    \n",
        "    def p(self):\n",
        "      print(self.heap)\n",
        "\n",
        "a = MinHeap()\n",
        "a.push(2)\n",
        "a.push(1)\n",
        "a.push(4)\n",
        "a.push(5)\n",
        "a.push(3)\n",
        "a.p()\n",
        "\n",
        "a.delete(1)\n",
        "a.p()\n",
        "\n",
        "b = MinHeap()\n",
        "b.buildHeap([2,1,4,5,3])\n",
        "b.p()                     "
      ],
      "execution_count": 0,
      "outputs": []
    },
    {
      "metadata": {
        "id": "K5l3y-kC8Ki2",
        "colab_type": "text"
      },
      "cell_type": "markdown",
      "source": [
        "### 例子：Merge k Sorted Lists\n",
        "https://leetcode.com/problems/merge-k-sorted-lists/solution/\n",
        "\n",
        "这个问题里面有个找最小的操作，如果是比较找最小，那么复杂度是K，而如果是最小堆 插入删除操作时间复杂度是O(lgK)"
      ]
    },
    {
      "metadata": {
        "id": "xPhgaTUNj2EP",
        "colab_type": "text"
      },
      "cell_type": "markdown",
      "source": [
        "### 例子：Find Median from Data Stream\n",
        "https://leetcode.com/problems/find-median-from-data-stream/description/\n",
        "这道题目的技巧在于把数字分成两个堆来存，保证两个堆长度相同（最多差1），并且两个堆的顶分别为两个中位数"
      ]
    },
    {
      "metadata": {
        "id": "ZcNLCzIJnRB7",
        "colab_type": "code",
        "colab": {}
      },
      "cell_type": "code",
      "source": [
        "from heapq import *\n",
        "\n",
        "class MedianFinder:\n",
        "\n",
        "    def __init__(self):\n",
        "        self.small, self.large = [], []\n",
        "    #234  \n",
        "    def addNum(self, num):\n",
        "        #python 中只有最小堆\n",
        "        # 所以self.large堆顶是最小的数，而self.small堆顶是最大的那个数(因为用负号间接完成的最大堆)\n",
        "        # 这里的计算只是为了保持两个堆的平衡，而且self.large里面的数量>= self.small里面的数量\n",
        "        heappush(self.large, num)\n",
        "        heappush(self.small, -heappop(self.large))\n",
        "        if len(self.large) < len(self.small):\n",
        "            heappush(self.large, -heappop(self.small))\n",
        "    \n",
        "    def findMedian(self):\n",
        "        if len(self.large) > len(self.small):\n",
        "            return self.large[0]\n",
        "        else:\n",
        "            return (self.large[0] - self.small[0])/2"
      ],
      "execution_count": 0,
      "outputs": []
    },
    {
      "metadata": {
        "id": "SsXt1yUptI_H",
        "colab_type": "text"
      },
      "cell_type": "markdown",
      "source": [
        "### 例子：窗口下的最大值\n",
        "\n",
        "寻找某个限定条件下的最大、最小值常用的两种解法：\n",
        "1. 用array，array中维护某种关系，遍历的时候去掉不满足条件的数字\n",
        "2. 用heap，遍历的时候检查heap[0]是否满足条件\n",
        "\n",
        "例子：寻找数组[4,3,45,4,3,3,6,7]在window k=3的时候的最大值 [5,5,5,4,6,7]\n"
      ]
    },
    {
      "metadata": {
        "id": "8MNoIdTrxTW2",
        "colab_type": "code",
        "colab": {}
      },
      "cell_type": "code",
      "source": [
        "# 解法1:用array\n",
        "def find_max_in_window_1(l, k):\n",
        "    ret, q = [], []\n",
        "    # q中存(number, index)\n",
        "    for i, a in enumerate(l):\n",
        "        while q and a >= q[-1][0]:\n",
        "            q.pop()\n",
        "        q.append((a, i))\n",
        "        if q and i - q[0][1] >= k:\n",
        "            q.pop(0)\n",
        "        if i >= k-1:\n",
        "            ret.append(q[0][0])\n",
        "    return ret\n",
        "\n",
        "# 解法2:用heapq\n",
        "import heapq\n",
        "def find_max_in_window_2(l, k):\n",
        "    ret, q = [], []\n",
        "    # q中存(number, index)\n",
        "    for i, a in enumerate(l):\n",
        "        while q and i - q[0][1] >= k:\n",
        "            heapq.heappop(q)\n",
        "        heapq.heappush(q, (-a, i))\n",
        "        if i >= k-1:\n",
        "            ret.append(-q[0][0])\n",
        "    return ret"
      ],
      "execution_count": 0,
      "outputs": []
    },
    {
      "metadata": {
        "id": "jJNwJ3Xrc0-y",
        "colab_type": "text"
      },
      "cell_type": "markdown",
      "source": [
        "## 链表"
      ]
    },
    {
      "metadata": {
        "id": "C1vyRsUzc7ST",
        "colab_type": "text"
      },
      "cell_type": "markdown",
      "source": [
        "### 链表问题的技巧\n",
        "1. dummy node\n",
        "2. 快慢指针，两个指针，步长不一样，比如 判断有环: 快是慢的两倍，能相遇则有环。求中间的node，快是慢的两倍，快到尾，则慢到中间\n",
        "\n",
        "\n",
        "---\n",
        "\n",
        "\n",
        "### 链表相交的问题: \n",
        "1. 无环相交，找交点 : 找到 end, end一样则相交；看到end走了多少步m, n,那么 长的先走m-n步，然后同时走, 第一次相遇就是交点 \n",
        "2. 有环相交，找交点:\n",
        "  1. 先找入环点loop_entry: 用快慢指针判断有环，第一次相遇之后fast 回到head, 改为一步走，再次相遇就是loop_entry\n",
        "  2. 如果loop_entry1 = loop_entry2, 那么同问题1\n",
        "  3. 如果loop_entry1 != loop_entry2, 那么固定loop_entry2, loop_entry1那边继续走一圈，相遇则相交，loop_entry1/2都算交点。如果不相遇，那么不相交，各自有环\n",
        "\n",
        "\n",
        "关于上面的2.1如何证明：\n",
        "```python\n",
        "Consider the following linked list, where E is the cylce entry and X, the crossing point of fast and slow.\n",
        "H: distance from head to cycle entry E\n",
        "D: distance from E to X\n",
        "L: cycle length\n",
        "                  _____\n",
        "                 /     \\\n",
        "head_____H______E       \\\n",
        "               _\\|       /\n",
        "                 X_____/\n",
        " slow 走了 H + D + i*L; fast 走了  H + D + j *L = 2(H + D + i*L)\n",
        " =>  H + D = nL    =>   H = nL - D\n",
        " =>  根据现在的位置可以看出，如果 一个从Head走H，另一个从X走H，那么两者肯定会在E处相遇\n",
        " \n",
        "```\n"
      ]
    },
    {
      "metadata": {
        "id": "cgX-zG8rqzO3",
        "colab_type": "text"
      },
      "cell_type": "markdown",
      "source": [
        "### 例子：Palindrome Linked List\n",
        "\n",
        "https://leetcode.com/problems/palindrome-linked-list/description/\n",
        "\n"
      ]
    },
    {
      "metadata": {
        "id": "BimGNZUiq3Nk",
        "colab_type": "code",
        "colab": {}
      },
      "cell_type": "code",
      "source": [
        "# Definition for singly-linked list.\n",
        "# class ListNode(object):\n",
        "#     def __init__(self, x):\n",
        "#         self.val = x\n",
        "#         self.next = None\n",
        "\n",
        "class Solution(object):\n",
        "    def isPalindrome(self, head):\n",
        "        \"\"\"\n",
        "        :type head: ListNode\n",
        "        :rtype: bool\n",
        "        \"\"\"\n",
        "        # 1. find middle\n",
        "        prev = None\n",
        "        slow = fast = head\n",
        "        while fast and fast.next:\n",
        "            fast = fast.next.next\n",
        "            \n",
        "            # 同时逆转\n",
        "            tmp = prev\n",
        "            prev, slow = slow, slow.next\n",
        "            prev.next = tmp\n",
        "            #prev, prev.next, slow = slow, prev, slow.next\n",
        "        \n",
        "        if fast:\n",
        "            slow = slow.next\n",
        "            \n",
        "        # 2. compare\n",
        "        while prev and prev.val == slow.val:\n",
        "            slow = slow.next\n",
        "            prev = prev.next\n",
        "        return prev == None"
      ],
      "execution_count": 0,
      "outputs": []
    },
    {
      "metadata": {
        "id": "_r-20-erg6G4",
        "colab_type": "text"
      },
      "cell_type": "markdown",
      "source": [
        "## 重要：树的分类、概念和性质\n",
        "树的分类和形式\n",
        "\n",
        "|分类|是否是二叉树| 是否是查找树 | 是否平衡 | 其他性质\n",
        "|---|--|--|--|\n",
        "|树|否|否|否|叶子出度都是0，除了根入度都为1，总入度等于总出度（一般度指出度）\n",
        "|二叉树|是| 否| 否| 节点（出）度最大为2\n",
        "|完全二叉树|是|否|否|除了最后一层外，其它各层的节点数目均已达最大值，可用数组存：0位置如果放guard，那么parent_index = son_index // 2\n",
        "|二叉搜索树|是|是|否|各节点值不同，并且对于任意一个子树：左<根<右\n",
        "|平衡二叉查找树/AVL树|是|是|是|任何节点的两棵子树的高度差不大于1的二叉树|\n",
        "|红黑树|是|是|是|和AVL树的不同之处在于：对平衡的要求没有AVL树高\n",
        "|B树|否|是|是| 平衡多路查找树\n",
        "|B+树|否|是|是| 是B树的一种变形：非叶结点索引，数据存在叶结点中，所有叶结点构成一个有序链表\n",
        "\n",
        "### AVL树\n",
        "1. 查找树都有的性质：左子树值 < root < 右子树值，利用这个性质可以二分找值\n",
        "2. 查找：最大值：递归最右；最小值：递归最左\n",
        "3. 插入：找到位置 =》 Balance\n",
        "4. 删除：找到节点 =》bst删除操作（无儿子直接删；有一个儿子则用儿子替换；有两个儿子则用前驱或者后继来替换） =》 Balance  http://alrightchiu.github.io/SecondRound/binary-search-tree-sortpai-xu-deleteshan-chu-zi-liao.html\n",
        "5. Balance：LL，RR，LR，RL"
      ]
    },
    {
      "metadata": {
        "id": "QMV08I9cnsah",
        "colab_type": "text"
      },
      "cell_type": "markdown",
      "source": [
        "### 例子：Verify Preorder Serialization of a Binary Tree\n",
        "https://leetcode.com/problems/verify-preorder-serialization-of-a-binary-tree/description/\n",
        "这道题可以\n",
        "1. 利用树的性质来解：即入度出度之和为0\n",
        "2. 用stack\n",
        "3. 递归恢复这个树"
      ]
    },
    {
      "metadata": {
        "id": "uQKuTVw4wcD7",
        "colab_type": "text"
      },
      "cell_type": "markdown",
      "source": [
        "## 字典树（前缀树）\n",
        "主要使用场景：\n",
        "1. 词频统计：比hash表省空间\n",
        "2. 前缀匹配：比如查询所有以\"a\"开头的字符串（或个数）\n",
        "\n",
        "![替代文字](https://github.com/julycoding/The-Art-Of-Programming-By-July/blob/master/ebook/images/8/8.4/1.jpg?raw=true)\n"
      ]
    },
    {
      "metadata": {
        "id": "qyigij9oyENN",
        "colab_type": "text"
      },
      "cell_type": "markdown",
      "source": [
        "### 例子：前缀树实现\n",
        "https://leetcode.com/problems/implement-trie-prefix-tree/description/\n",
        "\n",
        "比较重要的是表达TrieNode的结构\n",
        "最方便和用途最广的是下面这种结构\n",
        "```python\n",
        "Node{\n",
        "    int path  // 经过这个Node的数量\n",
        "    int end   // 以这个Node结尾的数量\n",
        "    map[string]Node children // key是children的字母，children这里也可以用list，因为字母只有26个\n",
        "}\n",
        "\n",
        "```\n"
      ]
    },
    {
      "metadata": {
        "id": "H1H_XjsGzmf1",
        "colab_type": "code",
        "colab": {}
      },
      "cell_type": "code",
      "source": [
        "# 这个实现里面把Trie作为TrieNode\n",
        "import collections\n",
        "class Trie(object):\n",
        "\n",
        "    def __init__(self):\n",
        "        \"\"\"\n",
        "        Initialize your data structure here.\n",
        "        \"\"\"\n",
        "        self.path = 0\n",
        "        self.end = 0\n",
        "        self.children = collections.defaultdict(Trie)\n",
        "        \n",
        "\n",
        "    def insert(self, word):\n",
        "        \"\"\"\n",
        "        Inserts a word into the trie.\n",
        "        :type word: str\n",
        "        :rtype: void\n",
        "        \"\"\"\n",
        "        node = self\n",
        "        for a in word:\n",
        "            node = node.children[a]\n",
        "            node.path += 1\n",
        "        node.end += 1\n",
        "\n",
        "    def search(self, word):\n",
        "        \"\"\"\n",
        "        Returns if the word is in the trie.\n",
        "        :type word: str\n",
        "        :rtype: bool\n",
        "        \"\"\"\n",
        "        node = self\n",
        "        for a in word:\n",
        "            node = node.children[a]\n",
        "        return node.end != 0\n",
        "        \n",
        "\n",
        "    def startsWith(self, prefix):\n",
        "        \"\"\"\n",
        "        Returns if there is any word in the trie that starts with the given prefix.\n",
        "        :type prefix: str\n",
        "        :rtype: bool\n",
        "        \"\"\"\n",
        "        node = self\n",
        "        for a in prefix:\n",
        "            node = node.children[a]\n",
        "        return node.path != 0\n",
        "        \n",
        "\n",
        "\n",
        "# Your Trie object will be instantiated and called as such:\n",
        "# obj = Trie()\n",
        "# obj.insert(word)\n",
        "# param_2 = obj.search(word)\n",
        "# param_3 = obj.startsWith(prefix)"
      ],
      "execution_count": 0,
      "outputs": []
    },
    {
      "metadata": {
        "id": "-MlBheAYAXpa",
        "colab_type": "text"
      },
      "cell_type": "markdown",
      "source": [
        "### 例子：Maximum XOR of Two Numbers in an Array\n",
        "https://leetcode.com/problems/maximum-xor-of-two-numbers-in-an-array/description\n",
        "\n",
        "对于一个数10001 就是从前到后找和它字符不同的，也就是说找一个前缀为01110的（如果存在），如果不存在，也可以用这个思路找尽量大的。用这个思路就可以建一个前缀数，把所有的数据放进去。"
      ]
    },
    {
      "metadata": {
        "id": "kbsl814HA9H2",
        "colab_type": "code",
        "colab": {}
      },
      "cell_type": "code",
      "source": [
        "class TrieNode:\n",
        "    def __init__(self, val=-1):\n",
        "        self.left = None  # 0\n",
        "        self.right = None # 1\n",
        "        self.val = val\n",
        "        \n",
        "    def add(self, val):\n",
        "        # self as root\n",
        "        node = self\n",
        "        for i in reversed(range(32)):\n",
        "            if val & (1<<i):\n",
        "                if not node.right:\n",
        "                    node.right = TrieNode()\n",
        "                node = node.right\n",
        "            else:\n",
        "                if not node.left:\n",
        "                    node.left = TrieNode()\n",
        "                node = node.left\n",
        "        node.val = val\n",
        "                \n",
        "    def findMaxDiff(self, val):\n",
        "        node = self\n",
        "        for i in reversed(range(32)):\n",
        "            if (val & (1<<i) and node.left) or not node.right:\n",
        "                node = node.left\n",
        "            else:\n",
        "                node = node.right\n",
        "        return node.val\n",
        "        \n",
        "\n",
        "class Solution:\n",
        "    def findMaximumXOR(self, nums):\n",
        "        \"\"\"\n",
        "        :type nums: List[int]\n",
        "        :rtype: int\n",
        "        \"\"\"\n",
        "        # 前缀树\n",
        "        root = TrieNode()\n",
        "        maxxor = 0 \n",
        "        for a in nums:\n",
        "            root.add(a)\n",
        "            b = root.findMaxDiff(a)\n",
        "            maxxor = max(maxxor, b^a)\n",
        "        return maxxor"
      ],
      "execution_count": 0,
      "outputs": []
    },
    {
      "metadata": {
        "id": "xW1nRnXKEbEC",
        "colab_type": "text"
      },
      "cell_type": "markdown",
      "source": [
        "### 例子：Prefix and Suffix Search\n",
        "\n",
        "https://leetcode.com/problems/prefix-and-suffix-search/description/\n",
        "\n",
        "        #两个技巧\n",
        "        #技巧1，创造出可以查询 f(\"a\", \"e\") 这样的单词, 如apple 增加 #apple e#apple el#apple elp#apple  elpp#apple elppa#apple\n",
        "        #技巧2，因为返回最大weight, 从前到后迭代覆盖weight节点weight即可"
      ]
    },
    {
      "metadata": {
        "id": "BhulyShIEal1",
        "colab_type": "code",
        "colab": {}
      },
      "cell_type": "code",
      "source": [
        "import collections\n",
        "class Trie:\n",
        "    def __init__(self):\n",
        "        self.children = collections.defaultdict(Trie)\n",
        "        self.weight = 0\n",
        "        \n",
        "    def add(self, word, weight):\n",
        "        n = self\n",
        "        n.weight = weight\n",
        "        for w in word:\n",
        "            n = n.children[w]\n",
        "            n.weight = weight\n",
        "    \n",
        "    def search(self, prefix):\n",
        "        n = self\n",
        "        for w in prefix:\n",
        "            if w in n.children:\n",
        "                n = n.children[w]\n",
        "            else:\n",
        "                return -1\n",
        "        return n.weight\n",
        "        \n",
        "\n",
        "class WordFilter(object):\n",
        "\n",
        "    def __init__(self, words):\n",
        "        \"\"\"\n",
        "        :type words: List[str]\n",
        "        \"\"\"\n",
        "        self.root=Trie()\n",
        "        for weight, w in enumerate(words):\n",
        "            for i in range(len(w)+1):\n",
        "                new_w = w[i:]+ \"#\" + w\n",
        "                self.root.add(new_w, weight)\n",
        "        \n",
        "\n",
        "    def f(self, prefix, suffix):\n",
        "        \"\"\"\n",
        "        :type prefix: str\n",
        "        :type suffix: str\n",
        "        :rtype: int\n",
        "        \"\"\"\n",
        "        #两个技巧\n",
        "        #技巧1，创造出可以查询 f(\"a\", \"e\") 这样的单词, 如apple 增加 #apple e#apple el#apple elp#apple  elpp#apple elppa#apple\n",
        "        #技巧2，因为返回最大weight, 从前到后迭代覆盖weight节点weight即可\n",
        "        if prefix == \"\" and suffix == \"\":\n",
        "            return 0\n",
        "        new_prefix = suffix + \"#\" + prefix\n",
        "        return self.root.search(new_prefix)\n",
        "        \n",
        "\n",
        "\n",
        "# Your WordFilter object will be instantiated and called as such:\n",
        "# obj = WordFilter(words)\n",
        "# param_1 = obj.f(prefix,suffix)"
      ],
      "execution_count": 0,
      "outputs": []
    },
    {
      "metadata": {
        "id": "DaBmpGM3B1v5",
        "colab_type": "text"
      },
      "cell_type": "markdown",
      "source": [
        "## 线段树/Segment Tree\n",
        "\n",
        "线段树（segment tree），是用来存放给定区间（segment, or interval）内对应信息的一种数据结构（比如每个区间的最小值，最大值，区间和等）如果是数组，区间就是index (i, j)  为一个区间\n",
        "\n",
        "```python\n",
        "# 这样一种树形区间结构，能够吧区间问题变成binary search的问题\n",
        "|----------------------|\n",
        "|----------||----------|\n",
        "|----||----||----||----|\n",
        ".....\n",
        "\n",
        "```\n",
        "\n",
        "https://leetcode.com/problems/range-sum-query-mutable/solution/\n",
        "这里是一个利用循环的实现\n",
        "使用递归实现更好理解和记忆\n",
        "\n",
        "https://www.geeksforgeeks.org/segment-tree-set-1-sum-of-given-range/\n",
        "\n",
        "**重要：记住线段树的实现方式2（class实现）、1（数组实现）**\n",
        "\n",
        "应用：\n",
        "https://leetcode.com/problems/number-of-longest-increasing-subsequence/description/"
      ]
    },
    {
      "metadata": {
        "id": "cta1ROhff63y",
        "colab_type": "code",
        "colab": {}
      },
      "cell_type": "code",
      "source": [
        "# 实现1，用数组存\n",
        "\n",
        "import math\n",
        "class SegmentTree(object):\n",
        "    def __init__(self, nums):\n",
        "        self.n = len(nums)\n",
        "        if self.n == 0:\n",
        "            return\n",
        "        self.nums = nums\n",
        "        x = math.ceil(math.log(self.n, 2))\n",
        "        self.segment_tree = [0] * (2**int(x+1))\n",
        "        self.build_tree(nums, 0, 0, self.n-1)\n",
        "        \n",
        "    # node为节点，因为使用数组存的，所以node为i, 左儿子为2n+1, 右儿子为2n+2\n",
        "    # nstart, nend为node表示的区间\n",
        "    def build_tree(self, nums, node, nstart, nend):\n",
        "        if nstart == nend:\n",
        "            # 叶子\n",
        "            self.segment_tree[node] = nums[nstart]\n",
        "        else:\n",
        "            mid = (nstart + nend) // 2\n",
        "            # build 左右子树\n",
        "            l = self.build_tree(nums, node*2+1, nstart, mid)\n",
        "            r = self.build_tree(nums, node*2+2, mid+1, nend)\n",
        "            # 因为这里线段树是为了求和设计的，所以这里存区间和\n",
        "            self.segment_tree[node] = l + r\n",
        "        return self.segment_tree[node] \n",
        "    \n",
        "    def update(self, pos, val):\n",
        "        diff = val - self.nums[pos]\n",
        "        self.nums[pos] = val\n",
        "        self._update(0, 0, self.n-1, pos, diff)\n",
        "\n",
        "    #  pos为在数组中的位置\n",
        "    #  node为节点\n",
        "    #  nstart, nend为node表示的区间\n",
        "    def _update(self, node, nstart, nend, pos, diff):\n",
        "        if pos < nstart or pos > nend:\n",
        "            return\n",
        "        self.segment_tree[node] += diff;\n",
        "        if nstart != nend:\n",
        "            mid = (nstart + nend) // 2\n",
        "            self._update(node*2+1, nstart, mid, pos, diff)\n",
        "            self._update(node*2+2, mid+1, nend, pos, diff)\n",
        "    \n",
        "    def query(self, qstart, qend):\n",
        "        return self._query(0, 0, self.n-1, qstart, qend)\n",
        "    \n",
        "     #  node：为节点\n",
        "     #  [nstart, nend]: node所表示的区间\n",
        "     #  [qstart, qend]: 查询的区间     \n",
        "    def _query(self, node, nstart, nend, qstart, qend):\n",
        "        if qstart > nend or qend < nstart:\n",
        "            return 0\n",
        "        elif qstart <= nstart and qend >= nend:\n",
        "            return self.segment_tree[node]\n",
        "        else:\n",
        "            mid = (nstart+nend)//2\n",
        "            l = self._query(node*2+1, nstart, mid, qstart, qend)\n",
        "            r = self._query(node*2+2, mid+1, nend, qstart, qend)\n",
        "            return l + r\n",
        "    \n",
        "class NumArray(object):\n",
        "\n",
        "    def __init__(self, nums):\n",
        "        \"\"\"\n",
        "        :type nums: List[int]\n",
        "        \"\"\"\n",
        "        self.nums = nums\n",
        "        self.segment_tree = SegmentTree(nums)\n",
        "        \n",
        "    \n",
        "    def update(self, i, val):\n",
        "        \"\"\"\n",
        "        :type i: int\n",
        "        :type val: int\n",
        "        :rtype: void\n",
        "        \"\"\"\n",
        "        self.segment_tree.update(i, val)\n",
        "        \n",
        "\n",
        "    def sumRange(self, i, j):\n",
        "        \"\"\"\n",
        "        :type i: int\n",
        "        :type j: int\n",
        "        :rtype: int\n",
        "        \"\"\"\n",
        "        return self.segment_tree.query(i, j)"
      ],
      "execution_count": 0,
      "outputs": []
    },
    {
      "metadata": {
        "id": "K8jexMDnnqQq",
        "colab_type": "code",
        "colab": {}
      },
      "cell_type": "code",
      "source": [
        "# 实现2，用class存\n",
        "# 同时参考这一题的实现（Lazy SegmentTree) https://leetcode.com/problems/my-calendar-iii/description/\n",
        "class SegmentTreeNode(object):\n",
        "    def __init__(self, start, end, left=None, right=None, s=0):\n",
        "        self.sum = s\n",
        "        self.start, self.end, self.left, self.right= start, end, left, right\n",
        "        \n",
        "def buildSegmentTree(nums, start, end):\n",
        "    if start > end:\n",
        "        return None\n",
        "    elif start == end:\n",
        "        return SegmentTreeNode(start, end, None, None, nums[start])\n",
        "    else:\n",
        "        mid = (start + end) //2\n",
        "        l = buildSegmentTree(nums, start, mid)\n",
        "        r = buildSegmentTree(nums, mid+1, end)\n",
        "        return SegmentTreeNode(start, end, l, r, l.sum + r.sum)\n",
        "    \n",
        "def updateSegmentTree(root, pos, val):\n",
        "    if root.start == root.end:\n",
        "        root.sum = val\n",
        "    else:\n",
        "        mid = (root.start + root.end) //2\n",
        "        if pos <= mid:\n",
        "            updateSegmentTree(root.left, pos, val)\n",
        "        else:\n",
        "            updateSegmentTree(root.right, pos, val)\n",
        "        root.sum = root.left.sum + root.right.sum \n",
        "        \n",
        "def querySegmentTree(root, start, end):\n",
        "    if not root or start > root.end or end < root.start:\n",
        "        return 0\n",
        "    elif start <= root.start and end >= root.end:\n",
        "        return root.sum\n",
        "    else:\n",
        "        mid = (root.start + root.end) //2\n",
        "        if end <= mid:\n",
        "            return querySegmentTree(root.left, start, end);\n",
        "        elif start >= mid+1: \n",
        "            return querySegmentTree(root.right, start, end);\n",
        "        else:   \n",
        "            return querySegmentTree(root.right, mid+1, end) + querySegmentTree(root.left, start, mid);\n",
        "    \n",
        "    \n",
        "class NumArray(object):\n",
        "\n",
        "    def __init__(self, nums):\n",
        "        \"\"\"\n",
        "        :type nums: List[int]\n",
        "        \"\"\"\n",
        "        self.segment_tree = buildSegmentTree(nums, 0, len(nums)-1)\n",
        "        \n",
        "    \n",
        "    def update(self, i, val):\n",
        "        \"\"\"\n",
        "        :type i: int\n",
        "        :type val: int\n",
        "        :rtype: void\n",
        "        \"\"\"\n",
        "        updateSegmentTree(self.segment_tree, i, val)\n",
        "        \n",
        "\n",
        "    def sumRange(self, i, j):\n",
        "        \"\"\"\n",
        "        :type i: int\n",
        "        :type j: int\n",
        "        :rtype: int\n",
        "        \"\"\"\n",
        "        return querySegmentTree(self.segment_tree, i, j)\n",
        "        "
      ],
      "execution_count": 0,
      "outputs": []
    },
    {
      "metadata": {
        "id": "9PoU5AkMnwWZ",
        "colab_type": "code",
        "colab": {}
      },
      "cell_type": "code",
      "source": [
        "# 实现3: https://leetcode.com/problems/range-sum-query-mutable/solution/"
      ],
      "execution_count": 0,
      "outputs": []
    },
    {
      "metadata": {
        "id": "cvDBNOZodo5p",
        "colab_type": "text"
      },
      "cell_type": "markdown",
      "source": [
        "### 例子：My Calendar III\n",
        "\n",
        "https://leetcode.com/problems/my-calendar-iii/description/\n",
        "\n",
        "这道题同My Calendar II，实际不用segment tree 实现，可以用下面的bisect方法解决，但是这里是一个演示使用segment tree的一个很好的例子，值得记住segment tree的解法\n",
        "\n",
        "附My Calendar II的解法:\n",
        "```python\n",
        "#My Calendar II的题目也不错，但是和线段树无关，这里贴一下代码\n",
        "#https://leetcode.com/problems/my-calendar-ii/description/\n",
        "import bisect\n",
        "class MyCalendarTwo:\n",
        "\n",
        "    def __init__(self):\n",
        "        self.calendar = []\n",
        "        self.overlaps = []\n",
        "    \n",
        "    # 方法1: overlap1次的存一个数组，用于第二次比较\n",
        "    def book1(self, start, end):\n",
        "        for i, j in self.overlaps:\n",
        "            if start < j and end > i:\n",
        "                return False\n",
        "        for i, j in self.calendar:\n",
        "            if start < j and end > i:\n",
        "                self.overlaps.append((max(start, i), min(end, j)))\n",
        "        self.calendar.append((start, end))\n",
        "        return True\n",
        "    \n",
        "    # 方法2：start了3次的有问题，就不插入了(使用tmp), 这个方法扩展性很好\n",
        "    def book(self, start, end):\n",
        "        tmp = list(self.calendar)\n",
        "        bisect.insort(tmp, (start, True))\n",
        "        bisect.insort(tmp, (end, False))\n",
        "        c = 0\n",
        "        for a, isStart in tmp:\n",
        "            if isStart:\n",
        "                c += 1\n",
        "                if c >= 3:\n",
        "                    return False\n",
        "            else:\n",
        "                c -= 1\n",
        "        \n",
        "        self.calendar = tmp\n",
        "        return True\n",
        "```\n",
        "\n"
      ]
    },
    {
      "metadata": {
        "id": "aKxL0H_97Ntz",
        "colab_type": "code",
        "colab": {}
      },
      "cell_type": "code",
      "source": [
        "class SegNode:\n",
        "    # start, end是区间, left, right是左右儿子\n",
        "    def __init__(self, start, end, left=None, right=None):\n",
        "        self.start, self.end = start, end\n",
        "        self.left, self.right = left, right\n",
        "        self.booked = 0\n",
        "        self.maxIntersects = 0\n",
        "    \n",
        "    def add(self, start, end):\n",
        "        if start <= self.start and end >= self.end:\n",
        "            self.booked += 1\n",
        "            self.maxIntersects += 1\n",
        "            return \n",
        "        # 说明有重叠\n",
        "        if not (start >= self.end or end <= self.start):\n",
        "            mid = (self.start + self.end) // 2\n",
        "            if self.left == None:\n",
        "                self.left = SegNode(self.start, mid)\n",
        "            self.left.add(start, end)\n",
        "            if self.right == None:\n",
        "                # 为什么这里mid不加1? 因为 start, end已经是左开右闭区间\n",
        "                self.right = SegNode(mid, self.end)\n",
        "            self.right.add(start, end)\n",
        "            self.maxIntersects = max(self.left.maxIntersects, self.right.maxIntersects) + self.booked\n",
        "    \n",
        "    # 用于展示，最后生成的是一颗什么样的树\n",
        "    def print(self):\n",
        "        #bfs\n",
        "        q = [(self, 1)]\n",
        "        ll = []\n",
        "        while q:\n",
        "            n, l = q.pop(0)\n",
        "            if l > len(ll):\n",
        "                ll.append([(n.start, n.end)])\n",
        "            else:\n",
        "                ll[-1].append((n.start, n.end))\n",
        "            if n.left:\n",
        "                q.append((n.left, l + 1))\n",
        "            if n.right:\n",
        "                q.append((n.right, l + 1))\n",
        "        print(\"----------------------\")   \n",
        "        for l in ll:\n",
        "            print(l)\n",
        "        \n",
        "    \n",
        "class MyCalendarThree:\n",
        "\n",
        "    def __init__(self):\n",
        "        self.root = SegNode(0, 1000000000)\n",
        "\n",
        "    def book(self, start, end):\n",
        "        \"\"\"\n",
        "        :type start: int\n",
        "        :type end: int\n",
        "        :rtype: int\n",
        "        \"\"\"\n",
        "        self.root.add(start, end);\n",
        "        #self.root.print()\n",
        "        return self.root.maxIntersects\n",
        "        \n",
        "        \n",
        "\n",
        "        \n",
        "\n",
        "\n",
        "# Your MyCalendarThree object will be instantiated and called as such:\n",
        "# obj = MyCalendarThree()\n",
        "# param_1 = obj.book(start,end)\n",
        "\n",
        "\n",
        "\n",
        "# bisect解法：\n",
        "import bisect\n",
        "class MyCalendarThree:\n",
        "\n",
        "    def __init__(self):\n",
        "        self.calendar = []\n",
        "\n",
        "    def book(self, start, end):\n",
        "        \"\"\"\n",
        "        :type start: int\n",
        "        :type end: int\n",
        "        :rtype: int\n",
        "        \"\"\"\n",
        "        bisect.insort(self.calendar, (start, True))\n",
        "        bisect.insort(self.calendar, (end, False))\n",
        "        c, maxc = 0, 0\n",
        "        for t, isStart in self.calendar:\n",
        "            if isStart:\n",
        "                c += 1\n",
        "                maxc = max(c, maxc)\n",
        "            else:\n",
        "                c -= 1\n",
        "        return maxc"
      ],
      "execution_count": 0,
      "outputs": []
    },
    {
      "metadata": {
        "id": "vuM8DifloCYo",
        "colab_type": "text"
      },
      "cell_type": "markdown",
      "source": [
        "## Binary Indexed Tree\n",
        "https://blog.csdn.net/Yaokai_AssultMaster/article/details/79492190\n",
        "\n",
        "\n",
        "**对于 Binary Indexed Tree 主要记住如下实现**\n",
        "1. c数组的index从1开始，c[i] 中存的是 num[i-1] 之前的多个数字的和，具体range长度和i末尾的0的个数有关系\n",
        "2. 从num -> c, 对于一个num[i] 需要加在 k=i+1; k += lowbit(k); k < len上面，其中lowbit指把保留最后一个1得到的数字，常用k & (-k)\n",
        "3. 从c -> sum_range(j), 对于一个sum_range(0, j); 需要求和c[k], 其中k = j+ 1; k-=lowbit(k);k > 0; 其中lowbit指把保留最后一个1得到的数字，常用k & (-k)"
      ]
    },
    {
      "metadata": {
        "id": "9c2lKbHPoOBc",
        "colab_type": "code",
        "colab": {}
      },
      "cell_type": "code",
      "source": [
        "class NumArray(object):\n",
        "    def __init__(self, nums):\n",
        "        self.n = len(nums)\n",
        "        self.a, self.c = nums, [0] * (self.n + 1)\n",
        "        for i in range(self.n):\n",
        "            k = i + 1\n",
        "            while k <= self.n:\n",
        "                self.c[k] += nums[i]\n",
        "                k += (k & -k)\n",
        "\n",
        "    def update(self, i, val):\n",
        "        diff, self.a[i] = val - self.a[i], val\n",
        "        i += 1\n",
        "        while i <= self.n:\n",
        "            self.c[i] += diff\n",
        "            i += (i & -i)\n",
        "\n",
        "    def sumRange(self, i, j):\n",
        "        res, j = 0, j + 1\n",
        "        while j:\n",
        "            res += self.c[j]\n",
        "            j -= (j & -j)\n",
        "        while i:\n",
        "            res -= self.c[i]\n",
        "            i -= (i & -i)\n",
        "        return res"
      ],
      "execution_count": 0,
      "outputs": []
    },
    {
      "metadata": {
        "id": "SZS4SF21ytmP",
        "colab_type": "text"
      },
      "cell_type": "markdown",
      "source": [
        "## 哈夫曼（huffman）树和哈夫曼编码\n",
        "哈夫曼树性质：\n",
        "1. wpl（加权路径和）最小的树\n",
        "2. 左右子树还是哈夫曼树\n",
        "\n",
        "构建树：\n",
        "循环把权值最小的树合并\n",
        "https://blog.csdn.net/FX677588/article/details/70767446\n",
        "\n",
        "```python\n",
        "Q = minQueue(nodes)\n",
        "for i in range(1, len):\n",
        "  node.left = ExtractMin(Q)\n",
        "  node.right= ExtractMin(Q)\n",
        "  insert(Q, node)\n",
        "```"
      ]
    },
    {
      "metadata": {
        "id": "zxdKk_rskufd",
        "colab_type": "text"
      },
      "cell_type": "markdown",
      "source": [
        "## 哈希表\n",
        "\n",
        "在这里 https://www.cs.usfca.edu/~galles/visualization/Algorithms.html  看哈希表的几种实现\n",
        "\n",
        "直接使用hash就能解决的典型的例子有two sum和其变种"
      ]
    },
    {
      "metadata": {
        "id": "VECPB5kalKHC",
        "colab_type": "text"
      },
      "cell_type": "markdown",
      "source": [
        "### 例子：和为0的4个值\n",
        "有四个数字集合A, B, C, D,要求从中各选一个数字，使得和为0\n",
        "\n",
        "O(n^2)的解法为，对A,B 算出和的种类和每类的个数。然后对CD遍历，按照和s求对应的-s在AB和中的个数。"
      ]
    },
    {
      "metadata": {
        "id": "KaJdefGNYS-w",
        "colab_type": "text"
      },
      "cell_type": "markdown",
      "source": [
        "## 数据结构设计\n"
      ]
    },
    {
      "metadata": {
        "id": "C2lIY0ngY4xf",
        "colab_type": "text"
      },
      "cell_type": "markdown",
      "source": [
        "### 例子: Insert Delete GetRandom O(1)\n",
        "\n",
        "https://leetcode.com/problems/insert-delete-getrandom-o1/description/\n",
        "\n",
        "**这个题的关键是使用 array + map: map 记录 index, pop的时候 swap(index, tail) 并更新index\n",
        "这是一个常用的数据结构设计，array删除index非O(1), 把删除转化成pop()，就能避免这个问题**"
      ]
    },
    {
      "metadata": {
        "id": "P5E6vr1ZOCrQ",
        "colab_type": "text"
      },
      "cell_type": "markdown",
      "source": [
        "## Python Library\n",
        "如果使用python3解决算法题，这些库需要记住用法\n",
        "\n",
        "\n",
        "|类别|模块|\n",
        "|---|--|\n",
        "|itertools-Infinite iterators|count,repeat, cycle|\n",
        "|itertools-Iterators terminating|accumulate(累加), chain, groupby(类似defaultdict(list))|\n",
        "|itertools-Combinatoric iterators|product(*),permutations(A),combinations(C),combinations_with_replacement(C可重复)|\n",
        "|collections|deque,Counter,OrderedDict(按照插入的顺序排列),defaultdict\n",
        "|functools|partial/warp(warp函数),reduce,cmp_to_key(cmp函数转key函数)\n",
        "|数据结构/算法|heapq, bisect|\n",
        "|内置|filter, map, zip|\n",
        "|内置|yield(使用yield常能简化算法，减少内存占用)\n",
        "|数字|random.randint, math.(log...), divmod\n",
        "|字符串|str.(replace,split, isdigit, find, index, strip..)\n",
        "|正则表达式|re(match(如果match返回match对象，常^..$), findall(返回list), split（返回list，注意可能有空的）...), \n",
        "\n",
        "\n",
        "参考：\n",
        "https://docs.python.org/3/library/itertools.html\n",
        "https://docs.python.org/3/library/collections.html"
      ]
    },
    {
      "metadata": {
        "id": "mH6zQH_WmO8F",
        "colab_type": "text"
      },
      "cell_type": "markdown",
      "source": [
        "# 图"
      ]
    },
    {
      "metadata": {
        "id": "-KvM9IBemR6h",
        "colab_type": "text"
      },
      "cell_type": "markdown",
      "source": [
        "## 图的遍历\n",
        "同树的遍历：bfs, dfs，唯一不同的是比如部分有向图或者无向图，需要加一个visited table记录遍历状态"
      ]
    },
    {
      "metadata": {
        "id": "4ovVjjQd6gPF",
        "colab_type": "text"
      },
      "cell_type": "markdown",
      "source": [
        "### 例子：Pacific Atlantic Water Flow\n",
        "\n",
        "https://leetcode.com/problems/pacific-atlantic-water-flow/description/\n",
        "\n",
        "这个例子可以虚拟出一个Pacific, Atlantic Node，也可以start就是多个边缘上的节点"
      ]
    },
    {
      "metadata": {
        "id": "x3XAOdOJpMbG",
        "colab_type": "text"
      },
      "cell_type": "markdown",
      "source": [
        "### 例子：Concatenated Words\n",
        "https://leetcode.com/problems/concatenated-words/description/\n",
        "\n",
        "找出这样的string，他可以由其他至少两个string连接构成（可以重复使用）\n",
        "Input: [\"cat\",\"cats\",\"catsdogcats\",\"dog\",\"dogcatsdog\",\"hippopotamuses\",\"rat\",\"ratcatdogcat\"]\n",
        "\n",
        "Output: [\"catsdogcats\",\"dogcatsdog\",\"ratcatdogcat\"]\n",
        "\n"
      ]
    },
    {
      "metadata": {
        "id": "hH2X5bKKpW9E",
        "colab_type": "code",
        "colab": {}
      },
      "cell_type": "code",
      "source": [
        "\n",
        "class Solution(object):\n",
        "    # 可以看成dfs问题或者是dp的问题\n",
        "    def findAllConcatenatedWordsInADict(self, words):\n",
        "        words = sorted(words,key=lambda t:len(t))\n",
        "        d = set()\n",
        "        def dfs(w):\n",
        "            if w in d:return True\n",
        "            for i in range(1,len(w)):\n",
        "                if w[:i] in d and dfs(w[i:]):\n",
        "                    return True\n",
        "            return False\n",
        "        res = []\n",
        "        for w in words:\n",
        "            if dfs(w):\n",
        "                res.append(w)\n",
        "            # 这里加w 这样搜索的时候就不用 d-{w}\n",
        "            d.add(w)\n",
        "        return res\n",
        "    \n",
        "\n",
        "    # 思路2: 看成了图问题：Let's discuss whether a word should be included in our answer.\n",
        "    # Consider the word as a topologically sorted directed graph, where each node is a letter,\n",
        "    # and an edge exists from i to j if word[i:j] is in our wordlist, \n",
        "    # [and there is no edge from i=0 to j=len(word)-1]. \n",
        "    # We want to know if there is a path from beginning to end. If there is,\n",
        "    # then the word can be broken into concatenated parts from our wordlist. \n",
        "    # To answer this question, we DFS over this graph."
      ],
      "execution_count": 0,
      "outputs": []
    },
    {
      "metadata": {
        "id": "R22u4Fv9N7IS",
        "colab_type": "text"
      },
      "cell_type": "markdown",
      "source": [
        "## 例子：Cat and Mouse\n",
        "用state作为node\n",
        "https://leetcode.com/problems/cat-and-mouse"
      ]
    },
    {
      "metadata": {
        "id": "7MInZ0WiYvPK",
        "colab_type": "text"
      },
      "cell_type": "markdown",
      "source": [
        "## 欧拉回路\n",
        "有两种欧拉路。第一种叫做 Eulerian path(trail)，沿着这条路径走能够走遍图中每一条边；第二种叫做 Eularian cycle，沿着这条路径走，不仅能走遍图中每一条边，而且起点和终点都是同一个顶点。注意：欧拉路要求每条边只能走一次，但是对顶点经过的次数没有限制。\n",
        "\n",
        "满足什么性质的图才能有欧拉路？\n",
        "\n",
        "1. **在无向图中，所有顶点的度数均为偶，则存在 Eularian cycle**；**若有且仅有两个顶点的度数为奇，其余的都为偶，则存在 Eularian path**；\n",
        "\n",
        "2. **在有向图中，所有顶点的入度数等于出度数，则存在 Eularian cycle**；**若有且仅有两个顶点：其中一个入度数比出度数大 1，另一个入度数比出度数小 1，其余的顶点入度数等于出度数，则存在 Eularian path**.\n",
        "\n",
        "解法\n",
        "\n",
        "\n",
        "```python\n",
        "# 1. 可以看成一种post order的dfs遍历\n",
        "# 2. 注意这里mark的是edge, 即seen add edge或者pop edge\n",
        "path = []\n",
        "\n",
        "DFS(u):\n",
        "    While (u存在未被访问的边e(u,v))\n",
        "        mark边e(u,v)为访问\n",
        "        DFS(v)\n",
        "    End\n",
        "    path.append(u)\n",
        "    \n",
        "path = path[::-1]\n",
        "\n",
        "```"
      ]
    },
    {
      "metadata": {
        "id": "amarQIpVa9NW",
        "colab_type": "text"
      },
      "cell_type": "markdown",
      "source": [
        "### 例子: Reconstruct Itinerary\n",
        "https://leetcode.com/problems/reconstruct-itinerary/description/"
      ]
    },
    {
      "metadata": {
        "id": "bd960smkcjFr",
        "colab_type": "code",
        "colab": {}
      },
      "cell_type": "code",
      "source": [
        "from collections import defaultdict\n",
        "class Solution:\n",
        "    def findItinerary(self, tickets):\n",
        "        \"\"\"\n",
        "        :type tickets: List[List[str]]\n",
        "        :rtype: List[str]\n",
        "        \"\"\"\n",
        "        \n",
        "        def dfs(u, edges, path):\n",
        "            while edges[u]:\n",
        "                d = edges[u].pop(0)\n",
        "                dfs(d, edges, path)\n",
        "            path.append(u)\n",
        "        \n",
        "        \n",
        "        edges = defaultdict(list)\n",
        "        for s, e in sorted(tickets):\n",
        "            edges[s].append(e)\n",
        "         \n",
        "        path = []\n",
        "        dfs(\"JFK\", edges, path)\n",
        "        return path[::-1]"
      ],
      "execution_count": 0,
      "outputs": []
    },
    {
      "metadata": {
        "id": "Ik49alqtPZth",
        "colab_type": "text"
      },
      "cell_type": "markdown",
      "source": [
        "### 例子: Cracking the Safe\n",
        "\n",
        "https://leetcode.com/problems/cracking-the-safe/description/\n",
        "https://leetcode.com/problems/cracking-the-safe/solution/\n",
        "\n",
        "抽象这个问题为欧拉回路问题，比如k=4，n=3 那么node为00, 01, 02,... 32, 33, 每个node都有4个边为0,1,2,3 那么一个node+edge就是一个可能解，也是欧拉回路的一个substring。那么我们可以从\"00\"开始找这欧拉回路"
      ]
    },
    {
      "metadata": {
        "id": "eVapTIKJSBiS",
        "colab_type": "code",
        "colab": {}
      },
      "cell_type": "code",
      "source": [
        "class Solution:\n",
        "    def crackSafe(self, n, k):\n",
        "        \"\"\"\n",
        "        :type n: int\n",
        "        :type k: int\n",
        "        :rtype: str\n",
        "        \"\"\"\n",
        "        #00 11 10 01   011  100 011\n",
        "        seen = set()\n",
        "        path = []\n",
        "        def dfs(node):\n",
        "            for a in map(str, range(k)):\n",
        "                candi = node + a\n",
        "                if candi not in seen:\n",
        "                    seen.add(candi)\n",
        "                    # candi[1:] 是next_node\n",
        "                    dfs(candi[1:])\n",
        "                    path.append(a)\n",
        "                    \n",
        "        dfs(\"0\"*(n-1))\n",
        "        path.append(\"0\"*(n-1))\n",
        "        return \"\".join(path)\n",
        "                    "
      ],
      "execution_count": 0,
      "outputs": []
    },
    {
      "metadata": {
        "id": "KuSDDGCJmb-i",
        "colab_type": "text"
      },
      "cell_type": "markdown",
      "source": [
        "## 强连通分支\n",
        "1. 无向图的连通子图：bfs，dfs搜索即可\n",
        "2. 有向图的强连通子图：主要有两种算法 https://www.cnblogs.com/bethunebtj/p/4854946.html 记住Kosaraju算法就可以了：\n",
        "  1. DFS(G). 完成次序（后序）为Q\n",
        "  2. DFS(G-T). 考虑次序为Q-T\n",
        "  3. 得到的字树就是强连通子图\n",
        "\n",
        "\n",
        "在有向图G中，如果两个顶点间至少存在一条路径，称两个顶点强连通(strongly connected)。如果有向图G的每两个顶点都强连通，称G是一个强连通图。非强连通图有向图的极大强连通子图，称为强连通分量(strongly connected components)。"
      ]
    },
    {
      "metadata": {
        "id": "im6EHgP8mdNV",
        "colab_type": "text"
      },
      "cell_type": "markdown",
      "source": [
        "## 最短路径问题\n",
        "\n",
        "|问题|算法| 复杂度 | 算法描述 |\n",
        "|---|--|--|--|\n",
        "|单源无权图|bfs|O(V+E)|queue, table: Dist;Prev\n",
        "|单源有权图(无负边)|dijkstra|O(Elgv) -> O(E+VlgV)|见下\n",
        "|单源有权图(可能有负边)|Bellman-Ford|O(EV)| 可以检测到负权环\n",
        "|多源有/无权图|前面的算法重复n次|O(v^2+VE)~O(EVlgV)|\n",
        "|多源有/无权图|Floyd算法|O(V^ 3)|这是一个dp算法d[i,j] = min(d[i,k] + d[k, j] for k in connected nodes) 注意k在最外层循环\n",
        "|多源有/无权图|Jason算法|O(V^2lgV+VE)|一种重新赋权技术，同时也是一种改进的dijkstra，使之适合负环"
      ]
    },
    {
      "metadata": {
        "id": "Ln0lI1e-29T4",
        "colab_type": "code",
        "colab": {}
      },
      "cell_type": "code",
      "source": [
        "# 1. dijkstra\n",
        "# 伪代码\n",
        "# init 距离矩阵Q, start为0 其他都是inf; \n",
        "# Q = V[G]\n",
        "# While Q\n",
        "#    u <- ExtratMin(Q)\n",
        "#    for v in u's neighbors:\n",
        "#         do relax(u, v, w)\n",
        "\n",
        "from collections import defaultdict\n",
        "from heapq import *\n",
        "\n",
        "# https://gist.github.com/kachayev/5990802#gistcomment-1423176\n",
        "\n",
        "def dijkstra(edges, f, t):\n",
        "    g = defaultdict(list)\n",
        "    for l,r,c in edges:\n",
        "        # 存邻接点 \n",
        "        g[l].append((c,r))\n",
        "        # 如果是undirected的 加这一行\n",
        "        #g[r].append((c,l)) \n",
        "    \n",
        "    # q用于ExtratMin, dist为距离\n",
        "    # q中存的格式为 (距离,节点,当前走的路径)\n",
        "    q, dist = [(0,f,())], {f: 0}\n",
        "    while q:\n",
        "        # 这种解法可能relax多次，但是pop出来的都是最短距离\n",
        "        (cost, node, path) = heappop(q) \n",
        "        # 去重复relax的节点\n",
        "        if cost > dist[node]: continue\n",
        "        path += (node, ) # 拼接path\n",
        "        if node == t: \n",
        "            return (cost, path)\n",
        "        # 访问所有邻接点 w:weight, n:neighbor\n",
        "        for w, n in g.get(node, ()):\n",
        "            oldc = dist.get(n, float(\"inf\"))\n",
        "            newc = cost + w\n",
        "            if newc < oldc:\n",
        "                dist[n] = newc # relax\n",
        "                heappush(q, (newc, n, path))\n",
        "\n",
        "    return float(\"inf\")\n",
        "  \n",
        "\n",
        "# 2. Bellman-Ford\n",
        "# Init: 距离矩阵Q，start为0 其他都是inf; \n",
        "# for u in V[G]:\n",
        "#    for edge(u, v) in E[G]:\n",
        "#       Relax(u, v, w)\n",
        "# for edge in E[G]:\n",
        "#   # 还有relax的余地？检测到负权环\n",
        "#   if d[v] > d[u] + w(u, w):\n",
        "#     return False\n",
        "\n",
        "\n",
        "\n",
        "# 3. jason\n",
        "# 1) 新建一个点S，这个S和图中所有的点连线，距离为0\n",
        "# 2) 因为有负边，可以用Bellman-Ford算法算出h[u] 表示点S到任意点u的最小距离\n",
        "# 3) 重新赋权w_new(u, v) = w(u, v) + h[u] - h[v] 这样weight都会>=0\n",
        "# 4) 用dijkstra算出多源最小距离 d_new\n",
        "# 5）使用h来恢复距离，d(u, v) = d_new(u, v) + h(v) - h(u)\n",
        "\n",
        "\n",
        "# 4. floyd\n",
        "# 1) let dist be a |V| × |V| array of minimum distances initialized to ∞ (infinity)\n",
        "# 2) for each vertex v\n",
        "# 3)    dist[v][v] ← 0\n",
        "# 4) for each edge (u,v)\n",
        "# 5)    dist[u][v] ← w(u,v)  // the weight of the edge (u,v)\n",
        "# 6) for k from 1 to |V|\n",
        "# 7)    for i from 1 to |V|\n",
        "# 8)       for j from 1 to |V|\n",
        "# 9)          if dist[i][j] > dist[i][k] + dist[k][j] \n",
        "# 10)             dist[i][j] ← dist[i][k] + dist[k][j]\n",
        "# 11)         end if\n"
      ],
      "execution_count": 0,
      "outputs": []
    },
    {
      "metadata": {
        "id": "KTYzxiGRtWuW",
        "colab_type": "code",
        "colab": {
          "base_uri": "https://localhost:8080/",
          "height": 170
        },
        "outputId": "d691791f-b7a9-4630-c428-464c71a6881e"
      },
      "cell_type": "code",
      "source": [
        "#dijkstra测试\n",
        "edges = [(0, 1, 4), \n",
        "(0, 7, 8),\n",
        "(1, 2, 8), \n",
        "(1, 7, 11), \n",
        "(2, 3, 7), \n",
        "(2, 8, 2), \n",
        "(2, 5, 4), \n",
        "(3, 4, 9), \n",
        "(3, 5, 14), \n",
        "(4, 5, 10), \n",
        "(5, 6, 2), \n",
        "(6, 7, 1), \n",
        "(6, 8, 6), \n",
        "(7, 8, 7)]\n",
        "for i in range(9):\n",
        "    print(\"from 0 to\", i, \":\", dijkstra(edges, 0, i))"
      ],
      "execution_count": 4,
      "outputs": [
        {
          "output_type": "stream",
          "text": [
            "from 0 to 0 : (0, (0,))\n",
            "from 0 to 1 : (4, (0, 1))\n",
            "from 0 to 2 : (12, (0, 1, 2))\n",
            "from 0 to 3 : (19, (0, 1, 2, 3))\n",
            "from 0 to 4 : (28, (0, 1, 2, 3, 4))\n",
            "from 0 to 5 : (16, (0, 1, 2, 5))\n",
            "from 0 to 6 : (18, (0, 1, 2, 5, 6))\n",
            "from 0 to 7 : (8, (0, 7))\n",
            "from 0 to 8 : (14, (0, 1, 2, 8))\n"
          ],
          "name": "stdout"
        }
      ]
    },
    {
      "metadata": {
        "id": "qjilOX4A3CW0",
        "colab_type": "text"
      },
      "cell_type": "markdown",
      "source": [
        "### 例子：Evaluate Division\n",
        "\n",
        "https://leetcode.com/problems/evaluate-division/description/\n",
        "\n",
        "这个例子可以看成一个求多源路径（Floyd–Warshall）的问题，除数和被除数连线，那么能求解 等价于 这两个点之间有路径，路径的距离可以用除法算出来，由于query次数多，先把多源路径都先算出来也是最合适的办法。"
      ]
    },
    {
      "metadata": {
        "id": "_kgsiPaw3sDJ",
        "colab_type": "code",
        "colab": {}
      },
      "cell_type": "code",
      "source": [
        "import collections \n",
        "class Solution:\n",
        "    def calcEquation(self, equations, values, queries):\n",
        "        \"\"\"\n",
        "        :type equations: List[List[str]]\n",
        "        :type values: List[float]\n",
        "        :type queries: List[List[str]]\n",
        "        :rtype: List[float]\n",
        "        \"\"\"\n",
        "        edges = collections.defaultdict(dict)\n",
        "        for i, (src, dst) in enumerate(equations):\n",
        "            edges[src][dst] = values[i]\n",
        "            edges[dst][src] = 1/ values[i]\n",
        "            edges[src][src] = 1\n",
        "            edges[dst][dst] = 1\n",
        "        \n",
        "        # every node\n",
        "        for k in edges:\n",
        "            # 这样遍历不用判断边在不在了\n",
        "            for i in edges[k]:\n",
        "                for j in edges[k]:\n",
        "                    edges[i][j] = edges[i][k] * edges[k][j]\n",
        "        \n",
        "        return [edges[src].get(dst, -1.0) for src, dst in queries]"
      ],
      "execution_count": 0,
      "outputs": []
    },
    {
      "metadata": {
        "id": "dq9w5-AGXBaW",
        "colab_type": "text"
      },
      "cell_type": "markdown",
      "source": [
        "## 例子：几种算法实现对比\n",
        "https://leetcode.com/problems/cut-off-trees-for-golf-event/description/\n",
        "\n",
        "这个题目里面A*是比较好的算法\n",
        "\n",
        "A*搜索算法，俗称A星算法。这是一种在图形平面上，有多个节点的路径，求出最低通过成本的算法。常用于游戏中的NPC的移动计算，或网络游戏的BOT的移动计算上。\n",
        "\n",
        "该算法综合了Best-First Search和Dijkstra算法的优点：在进行启发式搜索提高算法效率的同时，可以保证找到一条最优路径（基于评估函数）。\n",
        "\n",
        "在此算法中，如果以  g(n)表示从起点到任意顶点  n的实际距离，  h(n)表示任意顶点  n到目标顶点的估算距离（根据所采用的评估函数的不同而变化），那么A*算法的估算函数为：\n",
        "\n",
        "** f(n)=g(n)+h(n)**\n",
        "\n",
        "这个公式遵循以下特性：\n",
        "\n",
        "1. 如果 g(n)为0，即只计算任意顶点 n到目标的评估函数 h(n)，而不计算起点到顶点n的距离，则算法转化为使用贪心策略的Best-First Search，速度最快，但可能得不出最优解；\n",
        "2. 如果 h(n)不大于顶点 n到目标顶点的实际距离，则一定可以求出最优解，而且 h(n)越小，需要计算的节点越多，算法效率越低，常见的评估函数有——欧几里得距离、曼哈顿距离、切比雪夫距离；\n",
        "3. 如果 h(n)为0，即只需求出起点到任意顶点 n的最短路径 g(n)，而不计算任何评估函数 h(n)，则转化为单源最短路径问题，即Dijkstra算法，此时需要计算最多的定点；\n"
      ]
    },
    {
      "metadata": {
        "id": "jyrL8vTDXGEP",
        "colab_type": "code",
        "colab": {}
      },
      "cell_type": "code",
      "source": [
        "import itertools\n",
        "import collections\n",
        "import heapq\n",
        "class Solution(object):\n",
        "    def __init__(self):\n",
        "        self.d = {}\n",
        "        \n",
        "    def dist(self, forest, start, end):\n",
        "        # return self.floyd(forest, start, end)\n",
        "        # return self.bfs(forest, start, end)\n",
        "        # return self.dijkstra(forest, start, end)\n",
        "        return self.hadlocks(forest, start, end)\n",
        "    \n",
        "    # 1. 使用floyd 算距离，耗时比较长，因为会把很多没必要的距离也算出来\n",
        "    def floyd(self, forest, start, end):\n",
        "        if self.d:\n",
        "            return self.d[(start, end)]\n",
        "        def default():\n",
        "            return -1\n",
        "        m, n = len(forest), len(forest[0])\n",
        "        v = list(a for a in itertools.product(range(m), range(n)) if forest[a[0]][a[1]] != 0)\n",
        "        self.d = collections.defaultdict(default)\n",
        "        for i in range(m):\n",
        "            for j in range(n):\n",
        "                if forest[i][j] != 0:\n",
        "                    self.d[((i, j), (i, j))] = 0\n",
        "                    for (a, b) in {(i-1, j), (i+1, j), (i, j-1), (i, j+1)}:\n",
        "                        if 0 <= a < m and 0 <=b < n and forest[a][b] != 0:\n",
        "                            self.d[((a, b), (i, j))] = 1\n",
        "                            self.d[((i, j), (a, b))] = 1\n",
        "        for k in v:\n",
        "            for a in v:\n",
        "                for b in v:\n",
        "                    self.d[(a, b)] = min(self.d[(a, b)], self.d[(a, k)] + self.d[(k, b)])\n",
        "        return self.d[(start, end)]\n",
        "    \n",
        "    # 2. 使用bfs算距离，耗时也比较长，比floyd略好\n",
        "    def bfs(self, forest, start, end):\n",
        "        \n",
        "        m, n = len(forest), len(forest[0])\n",
        "        queue = collections.deque([(start, 0)])\n",
        "        seen = {start}\n",
        "        while queue:\n",
        "            node, d = queue.popleft()\n",
        "            if node == end:\n",
        "                return d\n",
        "            i, j = node[0], node[1]\n",
        "            for (a, b) in {(i-1, j), (i+1, j), (i, j-1), (i, j+1)}:\n",
        "                if 0 <= a < m and 0 <=b < n and forest[a][b] != 0 and (a, b) not in seen:\n",
        "                    seen.add((a, b))\n",
        "                    queue.append(((a, b), d+1))\n",
        "        return -1\n",
        "    \n",
        "    # 3. 使用dijkstra算法\n",
        "    def dijkstra(self, forest, start, end):\n",
        "        m, n = len(forest), len(forest[0])\n",
        "        heap = [(0, start)] # dist, node\n",
        "        mindist, seen = {start: 0}, {start}\n",
        "        while heap:\n",
        "            dist, node = heapq.heappop(heap)\n",
        "            seen.add(node)\n",
        "            if node == end: \n",
        "                return dist\n",
        "            i, j = node\n",
        "            for (a, b) in {(i-1, j), (i+1, j), (i, j-1), (i, j+1)}:\n",
        "                if 0 <= a < m and 0 <=b < n and forest[a][b] != 0 and (a, b) not in seen:\n",
        "                    new_dist = dist + 1\n",
        "                    if new_dist < mindist.get((a, b), 9999):\n",
        "                        mindist[(a, b)] = new_dist\n",
        "                        heapq.heappush(heap, (new_dist, (a, b)))\n",
        "                        \n",
        "        return -1\n",
        "            \n",
        "    \n",
        "    # 4. 使用A*算法，A*使用一套启发估算，并且当估算函数合适的时候肯定能找到最优解\n",
        "    #    使用A*算法不需要seen, A*需要遍历的点比 dijkstra 可能少很多\n",
        "    #     https://qiao.github.io/PathFinding.js/visual/\n",
        "    #    https://zh.wikipedia.org/wiki/A*%E6%90%9C%E5%B0%8B%E6%BC%94%E7%AE%97%E6%B3%95\n",
        "    #    dijkstra 可以看成A*算法的特殊情况(h(v) = 0) \n",
        "    #    https://stackoverflow.com/questions/13031462/difference-and-advantages-between-dijkstra-a-star\n",
        "    \n",
        "    def astar(self, forest, start, end):\n",
        "        if (start, end) in self.d:\n",
        "            return self.d[start, end]\n",
        "        m, n = len(forest), len(forest[0])\n",
        "        mincost = {start:0}\n",
        "        q = [(0, 0, start)] # cost, dist, node\n",
        "        while q:\n",
        "            cost, dist, node = heapq.heappop(q)\n",
        "            self.d[start, node] = dist\n",
        "            if node == end:\n",
        "                return dist\n",
        "            i, j = node\n",
        "            for a, b in {(i-1, j), (i+1, j), (i, j-1), (i, j+1)}:\n",
        "                if 0 <= a < m and 0 <= b < n and forest[a][b] != 0:\n",
        "                    cost = dist + 1 + abs(end[0] - a) + abs(end[1] - b)\n",
        "                    if cost < mincost.get((a, b), float(\"inf\")):\n",
        "                        mincost[a, b] = cost\n",
        "                        heapq.heappush(q, (cost, dist+1, (a, b)))\n",
        "        return -1\n",
        "    \n",
        "    # 5. hadlocks算法：这是grid里面算路的一种特殊算法，detours是偏离target的距离\n",
        "    # dist(source, target) = taxi(source, target) + 2 * detours\n",
        "    # 比如x，y方向偏离了target方向，那么把这一步增加一个detours\n",
        "    def hadlocks(self, forest, start, end):\n",
        "        sr, sc = start\n",
        "        tr, tc = end\n",
        "        R, C = len(forest), len(forest[0])\n",
        "        processed = set()\n",
        "        deque = collections.deque([(0, sr, sc)])\n",
        "        while deque:\n",
        "            detours, r, c = deque.popleft()\n",
        "            if (r, c) not in processed:\n",
        "                processed.add((r, c))\n",
        "                if r == tr and c == tc:\n",
        "                    return abs(sr-tr) + abs(sc-tc) + 2*detours\n",
        "                for nr, nc, closer in ((r-1, c, r > tr), (r+1, c, r < tr),\n",
        "                                       (r, c-1, c > tc), (r, c+1, c < tc)):\n",
        "                    if 0 <= nr < R and 0 <= nc < C and forest[nr][nc]:\n",
        "                        if closer:\n",
        "                            deque.appendleft((detours, nr, nc))\n",
        "                        else:\n",
        "                            deque.append((detours+1, nr, nc))\n",
        "    # 本质是算dist，算dist这里距离了4种算法\n",
        "    def cutOffTree(self, forest):\n",
        "        \"\"\"\n",
        "        :type forest: List[List[int]]\n",
        "        :rtype: int\n",
        "        \"\"\"\n",
        "    \n",
        "        m, n = len(forest), len(forest[0])\n",
        "        queue = sorted((forest[i][j], (i, j)) for i in range(m) for j in range(n) if forest[i][j] > 1)\n",
        "        p = (0, 0)\n",
        "        c = 0\n",
        "        for _, n in queue:\n",
        "            dist = self.dist(forest, p, n)\n",
        "            if dist < 0:\n",
        "                return -1\n",
        "            c += dist\n",
        "            p = n\n",
        "                    \n",
        "        return c\n",
        "        \n",
        "        "
      ],
      "execution_count": 0,
      "outputs": []
    },
    {
      "metadata": {
        "id": "ay3wawTnmc7x",
        "colab_type": "text"
      },
      "cell_type": "markdown",
      "source": [
        "## 最小生成树\n",
        "最小生成树是一副连通加权无向图中一棵权值最小的生成树\n",
        "https://zh.wikipedia.org/wiki/%E6%9C%80%E5%B0%8F%E7%94%9F%E6%88%90%E6%A0%91\n",
        "\n",
        "主要有两种算法Prim算法和Kruskal算法\n",
        "\n",
        "\n",
        "Prim算法(让树成长，找距离树最近的边)\n",
        "```python\n",
        "1).输入：一个加权连通图，其中顶点集合为V，边集合为E；\n",
        "2).初始化：Vnew = {x}，其中x为集合V中的任一节点（起始点，Enew = {},为空；\n",
        "3).重复下列操作，直到Vnew = V：\n",
        "  a.在集合E中选取权值最小的边<u, v>，其中u为集合Vnew中的元素，而v不在Vnew集合当中，并且v∈V（如果存在有多条满足前述条件即具有相同权值的边，则可任意选取其中之一）；\n",
        "  b.将v加入集合Vnew中，将<u, v>边加入集合Enew中；\n",
        "4).输出：使用集合Vnew和Enew来描述所得到的最小生成树。\n",
        "\n",
        "```\n",
        "\n",
        "Kruskal算法(森林合并, 总拿最小的边但是和已经拿的边不构成回路)\n",
        "```python\n",
        "1).记Graph中有v个顶点，e个边\n",
        "2).新建图Graphnew，Graphnew中拥有原图中相同的e个顶点，但没有边\n",
        "3).将原图Graph中所有e个边按权值从小到大排序\n",
        "4).循环：从权值最小的边开始遍历每条边 直至图Graph中所有的节点都在同一个连通分量中\n",
        "  if 这条边连接的两个节点于图Graphnew中不在同一个连通分量中:\n",
        "    添加这条边到图Graphnew中\n",
        "\n",
        "```\n",
        "Kruskal算法里面会用到并查集算法\n",
        "\n",
        "```python\n",
        "# a. make_set\n",
        "def make_set(x): \n",
        "  father(x) = x\n",
        "# b. find_set\n",
        "def find_set(x): \n",
        "  while(x != father(x)): \n",
        "    x = father(x)\n",
        "# c. union_set\n",
        "def union_set(x,y):\n",
        "  xf, yf =find_set(x), find_set(y), \n",
        "  if xf == yf:\n",
        "    return \n",
        "  else:\n",
        "    father(xf) = yf\n",
        "  \n",
        "```\n",
        "\n"
      ]
    },
    {
      "metadata": {
        "id": "fdlU8H_gmcfk",
        "colab_type": "text"
      },
      "cell_type": "markdown",
      "source": [
        "## 拓扑排序\n",
        "拓扑排序主要有两种常见的解决方法\n",
        "1. Kahn算法：优先使用的办法，可以检测有环的情况（即：不需要输入为DAG），**所以这种算法也常用来检测图有无环**  (**网上对于这种也有‘dfs’, ‘bfs’ 实现，但是其实pop的时候不关心次序，所以在这种算法实现下面的dfs, bfs并没有必要区分**)\n",
        "2. 基于dfs的算法：检测有环情况比较麻烦，需要在dfs的时候同时判断有无环\n",
        "\n",
        "\n",
        "---\n",
        "\n",
        "```python\n",
        "// Kahn算法算法描述\n",
        "L ← 用来存拓扑排序结果\n",
        "S ← 入度为0的节点集合, 先要算一下入度，把入度为0的先放进S\n",
        "// 这里入度的统计也可以直接用edge_dict{edge: in_edge_list}来表示，这样同时可以表示入度以及入边列表\n",
        "\n",
        "while S:\n",
        "    n = S.pop()\n",
        "    L.append(n)\n",
        "    for m in n's neighbors( 有边 n->m): \n",
        "        m的入度 -=1，总入度 -= 1，如果m的入度==0: S.append(m)\n",
        "if 总入度不为0：\n",
        "    有环推出\n",
        "else \n",
        "    return L\n",
        "    \n",
        "// 基于dfs的算法描述\n",
        "L ← 用来存拓扑排序结果\n",
        "S ← 入度为0的节点集合, 先要算一下入度，把入度为0的先放进S\n",
        "for each node n in S：\n",
        "    dfs(n) \n",
        "dfs的每个node的结束时append进L\n",
        "把L逆序（即：拓扑排序结果和dfs完成时间的次序相反）\n",
        "```"
      ]
    },
    {
      "metadata": {
        "id": "Lt8U8ZxAshCd",
        "colab_type": "text"
      },
      "cell_type": "markdown",
      "source": [
        "### 例子:  Course Schedule\n",
        "https://leetcode.com/problems/course-schedule/description/"
      ]
    },
    {
      "metadata": {
        "id": "fVYXZK1ZsdIu",
        "colab_type": "code",
        "colab": {}
      },
      "cell_type": "code",
      "source": [
        "import collections\n",
        "class Solution:\n",
        "    def canFinish(self, numCourses, prerequisites):\n",
        "        \"\"\"\n",
        "        :type numCourses: int\n",
        "        :type prerequisites: List[List[int]]\n",
        "        :rtype: bool\n",
        "        \"\"\"\n",
        "        dgrees = collections.defaultdict(int)\n",
        "        edges = collections.defaultdict(list)\n",
        "        totaldgree, s = 0, set(range(0, numCourses))\n",
        "        for e in prerequisites:\n",
        "            source, dest = e\n",
        "            edges[source].append(dest)\n",
        "            dgrees[dest] += 1\n",
        "            totaldgree += 1\n",
        "        for k in dgrees.keys():\n",
        "            s.remove(k)\n",
        "        while s:\n",
        "            n = s.pop()\n",
        "            # do print\n",
        "            for m in edges[n]:\n",
        "                dgrees[m] -= 1\n",
        "                totaldgree -= 1\n",
        "                if dgrees[m] == 0:\n",
        "                    s.add(m)\n",
        "        return totaldgree == 0"
      ],
      "execution_count": 0,
      "outputs": []
    },
    {
      "metadata": {
        "id": "SCDwruj8jGOg",
        "colab_type": "text"
      },
      "cell_type": "markdown",
      "source": [
        "### 例子: Minimum Height Trees\n",
        "https://leetcode.com/problems/minimum-height-trees/description/\n",
        "\n",
        "这道题并不是拓扑排序的题，但是类似拓扑排序的思路：找一个node，以这个node作为root，总degree最小。\n",
        "degree是一个点的边，那么可以看出leaf的degree总是1，也是树中dgree最小的node，那么可以类似一种bfs（从外到内）或者拓扑排序的思路，从leaf开始遍历，在逐渐剔除-》产生新的leaf，那么剩下的最后一个或者二个节点就是所有找的点了。\n",
        "\n",
        "（这道题也可以用多源最短路径来解，但是时间复杂度是O(n^3)）"
      ]
    },
    {
      "metadata": {
        "id": "qxmsSE2cjF1o",
        "colab_type": "code",
        "colab": {}
      },
      "cell_type": "code",
      "source": [
        "import collections\n",
        "class Solution:\n",
        "    def findMinHeightTrees(self, n, edges):\n",
        "        \"\"\"\n",
        "        :type n: int\n",
        "        :type edges: List[List[int]]\n",
        "        :rtype: List[int]\n",
        "        \"\"\"\n",
        "        if n == 1: return [0]\n",
        "        d = collections.defaultdict(set)\n",
        "        for s, e in edges:\n",
        "            d[s].add(e)\n",
        "            d[e].add(s)\n",
        "            \n",
        "        leafs = [s for s in d.keys() if len(d[s]) == 1]\n",
        "        while n > 2:\n",
        "            n -= len(leafs)\n",
        "            newleafs = []\n",
        "            for s in leafs:\n",
        "                e = d[s].pop() # 只可能有一个\n",
        "                d[e].remove(s)\n",
        "                if len(d[e]) == 1:\n",
        "                    newleafs.append(e)\n",
        "            leafs = newleafs\n",
        "        return leafs\n",
        "            \n",
        "            "
      ],
      "execution_count": 0,
      "outputs": []
    },
    {
      "metadata": {
        "id": "ous8Aj66EF1K",
        "colab_type": "text"
      },
      "cell_type": "markdown",
      "source": [
        "# 排序\n",
        "\n",
        "https://www.cnblogs.com/alsf/p/6606287.html\n",
        "\n",
        "|算法|平均时间复杂度| 最坏 | 额外空间 |稳定 |备注\n",
        "|---|--|--|--|--|--|\n",
        "|简单选择|N^2|N^2|1|X |依次选择最大的\n",
        "|冒泡|N^2|N^2|1|Y|依次比较相邻元素\n",
        "|插入|N^2|N^2|1|Y|依次从后往前把元素插入到合适位置\n",
        "|希尔|N^d(根据gap, d可能为1.5，1.25)|N^2|1|X| gap,N/2 ->1多次插入\n",
        "|堆|NlgN|NlgN|1|X|建堆，出堆\n",
        "|快速|NlgN|N^2|lgN|X|pivot and partition\n",
        "|归并|NlgN|NlgN|N|Y|merge sort\n",
        "|基数|P(N+B)|P(N+B)|N+B|Y|count->sumcount->逆排序"
      ]
    },
    {
      "metadata": {
        "id": "10W7j3nFZDvA",
        "colab_type": "text"
      },
      "cell_type": "markdown",
      "source": [
        "## mergesort\n",
        "mergesort本身比较简单，这种思路在很多题目中能够应用"
      ]
    },
    {
      "metadata": {
        "id": "4zMoNqgcNeXP",
        "colab_type": "code",
        "colab": {}
      },
      "cell_type": "code",
      "source": [
        "# !! 记住这种实现，比较简洁，注意的点是: \n",
        "#  1. mid = len//2; \n",
        "#  2. if mid 一个数不需要判断，类似原地排序的 left < right 判断\n",
        "#  3. 合并技巧: for i in reversed(range(len(nums))): if not right or (left and left[-1] > right[-1])\n",
        "def mergeSort(nums):\n",
        "    mid = (len(nums))//2\n",
        "    # left < right的情况\n",
        "    if mid:\n",
        "        left, right = mergeSort(nums[:mid]), mergeSort(nums[mid:])\n",
        "        for i in reversed(range(len(nums))):\n",
        "            if not right or (left and left[-1] > right[-1]):\n",
        "                nums[i] = left.pop()\n",
        "            else:\n",
        "                nums[i] = right.pop()\n",
        "    return nums"
      ],
      "execution_count": 0,
      "outputs": []
    },
    {
      "metadata": {
        "id": "MdiN20W8ZQ7r",
        "colab_type": "text"
      },
      "cell_type": "markdown",
      "source": [
        "### 例子: Ugly Number II\n",
        "这个题目可以看成以mergesort，本质就是对candicate做一个mergesort（但是不要重复的），下面给了两个类似的实现，方法类似，但是方法2不用做去重的判断，而且写法更清晰"
      ]
    },
    {
      "metadata": {
        "id": "uuU6vywfZDV3",
        "colab_type": "code",
        "colab": {}
      },
      "cell_type": "code",
      "source": [
        "class Solution:\n",
        "    def nthUglyNumber1(self, n):\n",
        "        \"\"\"\n",
        "        :type n: int\n",
        "        :rtype: int\n",
        "        \"\"\"\n",
        "        # merge sort\n",
        "        dp = [1]\n",
        "        multIndex = [0, 0, 0] # 表示2,3,5都乘哪个dpi\n",
        "        dpi = 0\n",
        "        while dpi < n-1:\n",
        "            # 表示2,3,5分别乘对应index的dp\n",
        "            candidate = [dp[multIndex[i]]* a for i, a in enumerate([2, 3, 5])]\n",
        "            minIndex, minNum = min(enumerate(candidate), key=lambda x: x[1])\n",
        "            multIndex[minIndex] += 1\n",
        "            if dp[-1] != minNum:\n",
        "                dpi+=1\n",
        "                dp.append(minNum)\n",
        "        return dp[-1]\n",
        "    \n",
        "    def nthUglyNumber2(self, n):\n",
        "        ugly = [1]\n",
        "        i2, i3, i5 = 0, 0, 0\n",
        "        while n > 1:\n",
        "            u2, u3, u5 = 2 * ugly[i2], 3 * ugly[i3], 5 * ugly[i5]\n",
        "            umin = min((u2, u3, u5))\n",
        "            if umin == u2:\n",
        "                i2 += 1\n",
        "            if umin == u3:\n",
        "                i3 += 1\n",
        "            if umin == u5:\n",
        "                i5 += 1\n",
        "            ugly.append(umin)\n",
        "            n -= 1\n",
        "        return ugly[-1]"
      ],
      "execution_count": 0,
      "outputs": []
    },
    {
      "metadata": {
        "id": "ojf-kPiUTkH-",
        "colab_type": "text"
      },
      "cell_type": "markdown",
      "source": [
        "### 例子: Count of Smaller Numbers After Self\n",
        "\n",
        "https://leetcode.com/problems/count-of-smaller-numbers-after-self/description/\n",
        "\n",
        "这个问题可以看成求排序的时候，把大的往右排，中间一种跳过了几个小的.\n",
        "\n",
        "也可以直接使用bisect解决"
      ]
    },
    {
      "metadata": {
        "id": "7DBmRsh_VNn2",
        "colab_type": "code",
        "colab": {}
      },
      "cell_type": "code",
      "source": [
        "import bisect\n",
        "class Solution:\n",
        "    # 用bisect解\n",
        "    def countSmaller(self, nums):\n",
        "        \"\"\"\n",
        "        :type nums: List[int]\n",
        "        :rtype: List[int]\n",
        "        \"\"\"\n",
        "        q, ret = [], []\n",
        "        for a in reversed(nums):\n",
        "            index = bisect.bisect_left(q, a)\n",
        "            ret.append(index)\n",
        "            q.insert(index, a)\n",
        "            \n",
        "        return ret[::-1]\n",
        "    \n",
        "    # 用merge sort解\n",
        "    def countSmaller(self, nums):\n",
        "        \"\"\"\n",
        "        :type nums: List[int]\n",
        "        :rtype: List[int]\n",
        "        \"\"\"\n",
        "        # 这里nums 是 numswithindex\n",
        "        def mergesort(nums, jumps):\n",
        "            mid = len(nums)//2\n",
        "            if mid:\n",
        "                left, right = mergesort(nums[:mid], jumps),  mergesort(nums[mid:], jumps)\n",
        "                for i in reversed(range(len(nums))):\n",
        "                    if not right or left and left[-1][1] > right[-1][1]:\n",
        "                        jumps[left[-1][0]] += len(right)\n",
        "                        nums[i] = left.pop()\n",
        "                    else:\n",
        "                        nums[i] = right.pop()\n",
        "\n",
        "            return nums\n",
        "\n",
        "        jumps = [0] * len(nums)\n",
        "        numswithindex = list(enumerate(nums))\n",
        "        mergesort(numswithindex, jumps)\n",
        "        return jumps"
      ],
      "execution_count": 0,
      "outputs": []
    },
    {
      "metadata": {
        "id": "2Oqz5D_eBp-R",
        "colab_type": "text"
      },
      "cell_type": "markdown",
      "source": [
        "### 例子: Count of Range Sum\n",
        "\n",
        "https://leetcode.com/problems/count-of-range-sum/description/"
      ]
    },
    {
      "metadata": {
        "id": "_hCJFCOWK6T8",
        "colab_type": "code",
        "colab": {}
      },
      "cell_type": "code",
      "source": [
        "class Solution:\n",
        "    def countRangeSum(self, nums, lower, upper):\n",
        "        def mergesort(nums, count):\n",
        "            mid = len(nums) // 2\n",
        "            if mid:\n",
        "                left, right = mergesort(nums[:mid], count), mergesort(nums[mid:], count)\n",
        "                # left, right都是有序的了\n",
        "\n",
        "                m, n = 0, 0\n",
        "                for i, a in enumerate(left):\n",
        "                    while m < len(right) and right[m] - a < lower:\n",
        "                        m += 1\n",
        "                    while n < len(right) and right[n] - a  <= upper:\n",
        "                        n += 1\n",
        "                    count[0] += n-m\n",
        "                for i in reversed(range(len(nums))):\n",
        "                    if not right or left and left[-1] > right[-1]:\n",
        "                        nums[i] = left.pop()\n",
        "                    else:\n",
        "                        nums[i] = right.pop()\n",
        "            return nums\n",
        "        c = [0] \n",
        "        n = len(nums)\n",
        "        s = [0]*(n+1)\n",
        "        for i, a in enumerate(nums):\n",
        "            s[i+1] = s[i] + a \n",
        "        mergesort(s, c)\n",
        "        return c[0]"
      ],
      "execution_count": 0,
      "outputs": []
    },
    {
      "metadata": {
        "id": "_N0QgBG0BqXl",
        "colab_type": "text"
      },
      "cell_type": "markdown",
      "source": [
        "### 例子: Reverse Pairs\n",
        "https://leetcode.com/problems/reverse-pairs/description/"
      ]
    },
    {
      "metadata": {
        "id": "9IRVLf3IBsbX",
        "colab_type": "code",
        "colab": {}
      },
      "cell_type": "code",
      "source": [
        "import bisect\n",
        "class Solution:\n",
        "    def reversePairs(self, nums):\n",
        "        \"\"\"\n",
        "        :type nums: List[int]\n",
        "        :rtype: int\n",
        "        \"\"\"\n",
        "        # use mergesort\n",
        "        def mergesort(nums, c):\n",
        "            mid = (0 + len(nums))//2\n",
        "            if mid:\n",
        "                left, right = mergesort(nums[:mid], c), mergesort(nums[mid:], c)\n",
        "                l, r = 0, 0\n",
        "                while l < len(left):\n",
        "                    if r < len(right) and left[l] > 2*right[r]:\n",
        "                        r += 1\n",
        "                    else:\n",
        "                        l += 1\n",
        "                        c[0] += r\n",
        "                #  这里没必要merge的同时count，分开count和merge反而时间复杂度更低\n",
        "                #  这里使用sort而不是自己merge是因为系统库的sort运行效率更高（不考虑时间负载度）\n",
        "                nums = sorted(left+right)\n",
        "                # for i in reversed(range(len(nums))):\n",
        "                #     if not right or (left and left[-1] >= right[-1]):\n",
        "                #         nums[i] = left.pop()\n",
        "                #     else:\n",
        "                #         nums[i] = right.pop()\n",
        "            return nums\n",
        "        c = [0]\n",
        "        mergesort(nums, c)\n",
        "        return c[0]\n",
        "                "
      ],
      "execution_count": 0,
      "outputs": []
    },
    {
      "metadata": {
        "id": "6u6syfnOEEKh",
        "colab_type": "text"
      },
      "cell_type": "markdown",
      "source": [
        "## Radix Sort\n",
        "实现见下面的例子"
      ]
    },
    {
      "metadata": {
        "id": "7EINERxEtE_E",
        "colab_type": "text"
      },
      "cell_type": "markdown",
      "source": [
        "### 例子：maximum-gap\n",
        "https://leetcode.com/problems/maximum-gap/description/\n",
        "这是Radix Sort的一个应用，用Radix Sort可以在O(n)求解\n",
        "\n",
        "注意记住下面算法里面的Radix Sort的两个实现，核心是按位排序（从低位到高位）"
      ]
    },
    {
      "metadata": {
        "id": "W7zRHPWLEDFy",
        "colab_type": "code",
        "colab": {}
      },
      "cell_type": "code",
      "source": [
        "from functools import reduce\n",
        "class Solution(object):\n",
        "    def maximumGap(self, nums):\n",
        "        \"\"\"\n",
        "        :type nums: List[int]\n",
        "        :rtype: int\n",
        "        \"\"\"\n",
        "        # Radix Sort\n",
        "        # 使用嵌套array的解法, bucket解法\n",
        "        def radixSort(nums):\n",
        "            maxnlen = max(nums)\n",
        "            index = 1\n",
        "            while index <= maxnlen:\n",
        "                bucket = [[] for _ in range(10)]\n",
        "                for n in nums:\n",
        "                    bucket[(n //index) % 10].append(n)\n",
        "                nums = [n for sublist in bucket for n in sublist]\n",
        "                index *= 10\n",
        "            return nums\n",
        "\n",
        "        \n",
        "        # 不使用嵌套array的解法\n",
        "        # https://www.cs.usfca.edu/~galles/visualization/RadixSort.html\n",
        "        # 1. count; 2. sum_count; 3. order nums use sum_count (反向遍历nums) \n",
        "        #                            for n in nums[::-1]: tmp[count[(n/index)%10]--] = n\n",
        "        def radixSort2(nums):\n",
        "            maxnlen = max(nums)\n",
        "            index = 1\n",
        "            while index <= maxnlen:\n",
        "                count = [0] * 10\n",
        "                #1. count\n",
        "                for n in nums:\n",
        "                    count[(n //index) % 10] += 1\n",
        "\n",
        "                #2. sumcount \n",
        "                for i in range(1, len(count)):\n",
        "                    count[i] += count[i-1]\n",
        "\n",
        "                #3. order num use sumcount, 注意反向遍历nums\n",
        "                tmp = [0]*len(nums)\n",
        "                for n in nums[::-1]:\n",
        "                    count[(n //index) % 10] -=1\n",
        "                    tmp[count[(n //index) % 10]] = n\n",
        "                nums = tmp\n",
        "                index *=10\n",
        "                print(nums)\n",
        "            return nums\n",
        "                    \n",
        "        \n",
        "        if len(nums) <=1:\n",
        "            return 0\n",
        "        nums = radixSort2(nums)\n",
        "        return max([abs(j-i) for i, j in zip(nums[:-1], nums[1:])])"
      ],
      "execution_count": 0,
      "outputs": []
    },
    {
      "metadata": {
        "id": "fBD76VlfeEGN",
        "colab_type": "text"
      },
      "cell_type": "markdown",
      "source": [
        "### 例子：Contains Duplicate III\n",
        "\n",
        "https://leetcode.com/problems/contains-duplicate-iii/description/\n",
        "\n",
        "这个例子不用排序，但是利用bucket的思想可以把算法从O(nk)下降到O(n)"
      ]
    },
    {
      "metadata": {
        "id": "Y9xWwiXDjgD-",
        "colab_type": "code",
        "colab": {}
      },
      "cell_type": "code",
      "source": [
        "class Solution(object):\n",
        "    def containsNearbyAlmostDuplicate(self, nums, k, t):\n",
        "        \"\"\"\n",
        "        :type nums: List[int]\n",
        "        :type k: int\n",
        "        :type t: int\n",
        "        :rtype: bool\n",
        "        \"\"\"\n",
        "        if t < 0: return False\n",
        "        # 对k取bucket那么满足条件可能在同一个bucket或者相邻的bucket\n",
        "        d = {}\n",
        "        w = t+1\n",
        "        for i, a in enumerate(nums):\n",
        "            bucketindex = a//w\n",
        "            # 同一个bucke\n",
        "            if bucketindex in d:\n",
        "                return True\n",
        "            # 相邻的bucket, 并且发现differens确实<=t\n",
        "            if bucketindex - 1 in d and abs(a - d[bucketindex - 1]) <w:\n",
        "                return True\n",
        "            if bucketindex + 1 in d and abs(a - d[bucketindex + 1]) <w:\n",
        "                return True\n",
        "            \n",
        "            # save this in bucket 这时候之前的bucket里面肯定没有数字，如果有，上面就返回True了\n",
        "            d[bucketindex] = a\n",
        "            \n",
        "            # 删除距离太远的bucket，这个不会删除最近加入的，因为如果有，上面就返回True了\n",
        "            if i>=k:\n",
        "                del d[nums[i-k]//w]\n",
        "                \n",
        "        return False\n",
        "            "
      ],
      "execution_count": 0,
      "outputs": []
    },
    {
      "metadata": {
        "id": "eLTuv9zbtqoJ",
        "colab_type": "text"
      },
      "cell_type": "markdown",
      "source": [
        "## 快速排序\n",
        "partition算法很重要，在quick select中也可以使用"
      ]
    },
    {
      "metadata": {
        "id": "fStnplJ0tzcy",
        "colab_type": "code",
        "colab": {}
      },
      "cell_type": "code",
      "source": [
        "def partition(a, left, right, pivotIndex):\n",
        "    pivotValue = a[pivotIndex]\n",
        "    a[pivotIndex], a[right] = a[right], a[pivotIndex] # 把 pivot 移到結尾\n",
        "    storeIndex = left\n",
        "    for i in range(left, right):\n",
        "        if a[i] < pivotValue:\n",
        "            a[storeIndex], a[i] = a[i], a[storeIndex]\n",
        "            storeIndex += 1\n",
        "    a[right], a[storeIndex] = a[storeIndex], a[right] # 把 pivot 移到它最後的地方\n",
        "    return storeIndex # 返回 pivot 的最终位置\n",
        "\n",
        "def quicksort(a, left, right):\n",
        "    if right > left:\n",
        "        #select a pivot value a[pivotIndex]\n",
        "        pivotIndex = right\n",
        "        pivotNewIndex = partition(a, left, right, pivotIndex)\n",
        "        quicksort(a, left, pivotNewIndex-1)\n",
        "        quicksort(a, pivotNewIndex+1, right)"
      ],
      "execution_count": 0,
      "outputs": []
    },
    {
      "metadata": {
        "id": "QCNZF_uBt6Jq",
        "colab_type": "text"
      },
      "cell_type": "markdown",
      "source": [
        "### 例子: Kth Largest Element in an Array\n",
        "\n",
        "https://leetcode.com/problems/kth-largest-element-in-an-array/description/"
      ]
    },
    {
      "metadata": {
        "id": "BFjIBfO9vuPn",
        "colab_type": "code",
        "colab": {}
      },
      "cell_type": "code",
      "source": [
        "class Solution(object):\n",
        "    def findKthSmallest(self, nums, k):\n",
        "        if nums:\n",
        "            pos = self.partition(nums, 0, len(nums)-1)\n",
        "            if k > pos+1:\n",
        "                return self.findKthSmallest(nums[pos+1:], k-pos-1)\n",
        "            elif k < pos+1:\n",
        "                return self.findKthSmallest(nums[:pos], k)\n",
        "            else:\n",
        "                return nums[pos]\n",
        "\n",
        "    # choose the right-most element as pivot   \n",
        "    def partition(self, nums, l, r):\n",
        "        pivotvalue = nums[r]\n",
        "        index = l\n",
        "        while l <= r:\n",
        "            if nums[l] < pivotvalue:\n",
        "                nums[l], nums[index] = nums[index], nums[l]\n",
        "                index += 1\n",
        "            l += 1\n",
        "        # pivot to last index\n",
        "        nums[r], nums[index] = nums[index], nums[r]\n",
        "        return index\n",
        "    \n",
        "    \n",
        "    def findKthLargest(self, nums, k):\n",
        "        return self.findKthSmallest(nums, len(nums) - k +1 )\n",
        "    "
      ],
      "execution_count": 0,
      "outputs": []
    },
    {
      "metadata": {
        "id": "JWuKkL-hCB9y",
        "colab_type": "text"
      },
      "cell_type": "markdown",
      "source": [
        "## 三路排序\n",
        "\n",
        "三路排序，可以解决三色旗问题，也可以在快速排序中使用。\n",
        "\n",
        "下面的解法1， 3可以记住"
      ]
    },
    {
      "metadata": {
        "id": "DlYnARQk7JLT",
        "colab_type": "code",
        "colab": {}
      },
      "cell_type": "code",
      "source": [
        "# https://leetcode.com/problems/sort-colors/\n",
        "class Solution:\n",
        "    # 这种算法比较好记: \n",
        "    #   for i in range(n): while swap(i, right--); while swap(i, left++)\n",
        "    def sortColors(self, nums):\n",
        "        \"\"\"\n",
        "        :type nums: List[int]\n",
        "        :rtype: void Do not return anything, modify nums in-place instead.\n",
        "        \"\"\"\n",
        "        left, right = 0, len(nums)-1 #分别是0 和2 应该放的位置\n",
        "        for i in range(len(nums)):\n",
        "            # 注意先看 right 后看left\n",
        "            while nums[i] == 2 and i < right:\n",
        "                nums[i], nums[right] = nums[right], nums[i]\n",
        "                right-=1\n",
        "            while nums[i] == 0 and i > left:\n",
        "                nums[i], nums[left] = nums[left], nums[i]\n",
        "                left+=1\n",
        "        return nums\n",
        "    \n",
        "    def sortColors2(self, nums):\n",
        "        left, right = 0, len(nums)-1 #分别是0 和2 应该放的位置\n",
        "        i = left\n",
        "        while i <= right:\n",
        "            if nums[i] == 2:\n",
        "                nums[i], nums[right] = nums[right], nums[i]\n",
        "                right -=1\n",
        "            elif nums[i] == 0:\n",
        "                nums[i], nums[left] = nums[left], nums[i]\n",
        "                left+=1\n",
        "                i += 1\n",
        "            else:\n",
        "                i+=1\n",
        "        return nums\n",
        "    \n",
        "    # 这种解法和 partition的思路一样\n",
        "    def sortColors3(self, nums):\n",
        "        i = j = 0 # i, j 分别是保存 0, 1的位置\n",
        "        for k in range(len(nums)):\n",
        "            v = nums[k]\n",
        "            nums[k] = 2\n",
        "            if v < 2:\n",
        "                nums[j] = 1\n",
        "                j += 1\n",
        "            if v == 0:\n",
        "                nums[i] = 0\n",
        "                i += 1"
      ],
      "execution_count": 0,
      "outputs": []
    },
    {
      "metadata": {
        "id": "qPmBdjARCBvt",
        "colab_type": "text"
      },
      "cell_type": "markdown",
      "source": [
        "# 树的遍历和应用\n"
      ]
    },
    {
      "metadata": {
        "id": "5BVqxzueCHIH",
        "colab_type": "text"
      },
      "cell_type": "markdown",
      "source": [
        "## 树的遍历\n",
        "二叉树的广度优先遍历和树的深度优先(前序/中序/后序)遍历不太一样，前/中/后序遍历使用递归，也就是栈的思想对二叉树进行遍历，\n",
        "广度优先一般使用队列的思想对二叉树进行遍历。\n",
        "\n",
        "- 深度优先：先访问子节点，再访问父节点，最后访问第二个子节点。根据根节点相对于左右子节点的访问先后顺序又可细分为以下三种方式。前+中 或者 后+中 可以唯一确定一个树\n",
        "  - 前序(pre-order)：**先根后左再右**\n",
        "  - 中序(in-order)：**先左后根再右**\n",
        "  - 后序(post-order)：**先左后右再根**\n",
        "- 广度优先：先访问根节点，沿着树的宽度遍历子节点，直到所有节点均被访问为止。\n"
      ]
    },
    {
      "metadata": {
        "id": "vCJrndd8CHr4",
        "colab_type": "text"
      },
      "cell_type": "markdown",
      "source": [
        "### 递归\n",
        "递归解法直接根据概念即可"
      ]
    },
    {
      "metadata": {
        "id": "qeQHD1_TB3uB",
        "colab_type": "code",
        "colab": {}
      },
      "cell_type": "code",
      "source": [
        "class Traversal(object):\n",
        "\n",
        "    def visit(self, node):\n",
        "        print(node.val, end=\" \")\n",
        "\n",
        "    # dfs\n",
        "    def preorder(self, root):\n",
        "        if root:\n",
        "            self.visit(root)\n",
        "            self.preorder(root.left)\n",
        "            self.preorder(root.right)\n",
        "\n",
        "    def inorder(self, root):\n",
        "        if root:\n",
        "            self.inorder(root.left)\n",
        "            self.visit(root)\n",
        "            self.inorder(root.right)\n",
        "\n",
        "    def postorder(self, root):\n",
        "        if root:\n",
        "            self.postorder(root.left)\n",
        "            self.postorder(root.right)\n",
        "            self.visit(root)\n",
        "            \n",
        "    # 这种带回溯遍历方式其实就是前序遍历，比较常用\n",
        "    # 这种方式会依次打印出所有根开始的路径\n",
        "    #         7\n",
        "    #      /     \\\n",
        "    #    5        6\n",
        "    #  /   \\     /   \\\n",
        "    # 1     2   3     4    \n",
        "    # [7]\n",
        "    # [7, 5]\n",
        "    # [7, 5, 1]\n",
        "    # [7, 5, 2]\n",
        "    # [7, 6]\n",
        "    # [7, 6, 3]\n",
        "    # [7, 6, 4]\n",
        "    def path(self, root, path):\n",
        "        if root:\n",
        "            path.append(root.val)\n",
        "            print(path)\n",
        "            self.path(root.left, path)\n",
        "            self.path(root.right, path)\n",
        "            path.pop()"
      ],
      "execution_count": 0,
      "outputs": []
    },
    {
      "metadata": {
        "id": "k3smUG-2DGaJ",
        "colab_type": "code",
        "colab": {}
      },
      "cell_type": "code",
      "source": [
        "def buildTestTree():\n",
        "  #         7\n",
        "  #      /     \\\n",
        "  #    5        6\n",
        "  #  /   \\     /   \\\n",
        "  # 1     2   3     4                        \n",
        "\n",
        "  node1 = TreeNode(1)\n",
        "  node2 = TreeNode(2)\n",
        "  node3 = TreeNode(3)\n",
        "  node4 = TreeNode(4)\n",
        "  node5 = TreeNode(5, left = node1, right= node2)\n",
        "  node6 = TreeNode(6, left = node3, right = node4)\n",
        "  node7 = TreeNode(7, left = node5, right = node6)\n",
        "  return node7\n",
        "\n",
        "root = buildTestTree()\n",
        "Traversal().preorder(root); print()\n",
        "Traversal().inorder(root); print()\n",
        "Traversal().postorder(root); print()"
      ],
      "execution_count": 0,
      "outputs": []
    },
    {
      "metadata": {
        "id": "Azln6eqzBr24",
        "colab_type": "text"
      },
      "cell_type": "markdown",
      "source": [
        "### 迭代\n",
        "- 前序(pre-order)：**先右后左入栈**\n",
        "- 中序(in-order)：**有左就入左子树(遍历), 否则pop，pop之后右入栈**\n",
        "- 后序(post-order)：**有儿子而且没有visit就右左儿子入栈，否则pop**\n",
        "- bfs: **使用队列**"
      ]
    },
    {
      "metadata": {
        "id": "bA2J3P9zFm3X",
        "colab_type": "code",
        "colab": {}
      },
      "cell_type": "code",
      "source": [
        "class Traversal(object):\n",
        "\n",
        "    def visit(self, node):\n",
        "        print(node.val, end=\" \")\n",
        "\n",
        "    # dfs\n",
        "    def preorder(self, root):\n",
        "        stack=[root]\n",
        "        while stack:\n",
        "          node = stack.pop()\n",
        "          self.visit(node)\n",
        "          if node.right:\n",
        "            stack.append(node.right)\n",
        "          if node.left:\n",
        "            stack.append(node.left)\n",
        "          \n",
        "\n",
        "    def inorder(self, root):\n",
        "        stack=[]\n",
        "        while root or stack:\n",
        "          if root:\n",
        "            stack.append(root)\n",
        "            root = root.left\n",
        "          else:\n",
        "            root = stack.pop()\n",
        "            self.visit(root)\n",
        "            root = root.right\n",
        "\n",
        "    def postorder(self, root):\n",
        "        stack = [root]\n",
        "        prev = None\n",
        "        while stack:\n",
        "          node = stack[-1]\n",
        "          haschild = node.left or node.right\n",
        "          visit = prev and (prev == node.left or prev == node.right)\n",
        "          if haschild and not visit:\n",
        "            if node.right:\n",
        "              stack.append(node.right)\n",
        "            if node.left:\n",
        "              stack.append(node.left)\n",
        "          else:\n",
        "            self.visit(stack.pop())\n",
        "            prev = node\n",
        "            \n",
        "    def bfs(self, root):\n",
        "        queue = [root]\n",
        "        while queue:\n",
        "            node = queue.pop(0)\n",
        "            self.visit(node)\n",
        "            if node.left:\n",
        "                queue.append(node.left)\n",
        "            if node.right:\n",
        "                queue.append(node.right)"
      ],
      "execution_count": 0,
      "outputs": []
    },
    {
      "metadata": {
        "id": "pJyQwPO5IT1p",
        "colab_type": "code",
        "colab": {}
      },
      "cell_type": "code",
      "source": [
        "root = buildTestTree()\n",
        "Traversal().preorder(root); print()\n",
        "Traversal().inorder(root); print()\n",
        "Traversal().postorder(root); print()\n",
        "Traversal().bfs(root); print()"
      ],
      "execution_count": 0,
      "outputs": []
    },
    {
      "metadata": {
        "id": "nY9oDjd-BvGi",
        "colab_type": "text"
      },
      "cell_type": "markdown",
      "source": [
        "### Morris\n",
        "Morris是另一种树遍历算法，它能够：\n",
        "1. **O(1)空间复杂度**，使用常数空间；\n",
        "2. 二叉树的形状不被破坏。\n",
        "\n",
        "具体做法为（三个基本相同，只是输出方式有一点点不同）：\n",
        "- 前序(pre-order)：**无左则输出走右，有左则找中序前驱，前驱无右儿子则连线输出走左，前驱有右儿子则断线走右**\n",
        "- 中序(in-order)：**无左则输出走右，有左则找中序前驱，前驱无右儿子则连线走左，前驱有右儿子则断线输出走右**\n",
        "- 后序(post-order)：**无左则走右，有左则找中序前驱，前驱无右儿子则连线走左，前驱有右儿子则断线  倒序输出从当前节点的左孩子到该前驱节点(包括)这条路径上的所有节点 走右**"
      ]
    },
    {
      "metadata": {
        "id": "tBjOCbWjiPn2",
        "colab_type": "code",
        "colab": {}
      },
      "cell_type": "code",
      "source": [
        "class Traversal(object):\n",
        "\n",
        "    def visit(self, node):\n",
        "        print(node.val, end=\" \")\n",
        "\n",
        "    # dfs\n",
        "    def preorder(self, root):\n",
        "        cur, prev = root, None\n",
        "        while cur:\n",
        "          if not cur.left:\n",
        "            # 无左则输出走右\n",
        "            self.visit(cur)\n",
        "            cur = cur.right\n",
        "          else:\n",
        "            # 找中序前驱\n",
        "            prev = cur.left\n",
        "            while prev.right!= None and prev.right != cur:\n",
        "              prev = prev.right\n",
        "            if not prev.right:\n",
        "              # 前驱无右儿子则连线输出走左\n",
        "              prev.right = cur\n",
        "              self.visit(cur)\n",
        "              cur = cur.left\n",
        "            else:\n",
        "              # 前驱有右儿子则断线走右\n",
        "              prev.right = None\n",
        "              cur = cur.right\n",
        "          \n",
        "\n",
        "    def inorder(self, root):\n",
        "        cur, prev = root, None\n",
        "        while cur:\n",
        "          if not cur.left:\n",
        "            # 无左则输出走右\n",
        "            self.visit(cur)\n",
        "            cur = cur.right\n",
        "          else:\n",
        "            # 找中序前驱\n",
        "            prev = cur.left\n",
        "            while prev.right!= None and prev.right != cur:\n",
        "              prev = prev.right\n",
        "            if not prev.right:\n",
        "              # 前驱无右儿子则连线走左\n",
        "              prev.right = cur\n",
        "              cur = cur.left\n",
        "            else:\n",
        "              # 前驱有右儿子则断线输出走右\n",
        "              prev.right = None\n",
        "              self.visit(cur)\n",
        "              cur = cur.right\n",
        "             \n",
        "\n",
        "    def postorder(self, root):\n",
        "        def reversevist(start, end):\n",
        "          s = [str(end.val)]\n",
        "          while start and start != end:\n",
        "            s.append(str(start.val))\n",
        "            start = start.right\n",
        "          print(\" \".join(s[::-1]), end=\" \")\n",
        "        \n",
        "        dummy, prev = TreeNode(0), None\n",
        "        dummy.left = root\n",
        "        cur = dummy\n",
        "        while cur:\n",
        "          if not cur.left:\n",
        "            # 无左则走右\n",
        "            cur = cur.right\n",
        "          else:\n",
        "            # 找中序前驱\n",
        "            prev = cur.left\n",
        "            while prev.right!= None and prev.right != cur:\n",
        "              prev = prev.right\n",
        "            if not prev.right:\n",
        "              # 前驱无右儿子则连线走左\n",
        "              prev.right = cur\n",
        "              cur = cur.left\n",
        "            else:\n",
        "              # 前驱有右儿子则断线  倒序输出从当前节点的左孩子到该前驱节点这条路径上的所有节点 走右\n",
        "              reversevist(cur.left, prev)\n",
        "              prev.right = None\n",
        "              cur = cur.right\n",
        "            "
      ],
      "execution_count": 0,
      "outputs": []
    },
    {
      "metadata": {
        "id": "Kr0neCMkjmXi",
        "colab_type": "code",
        "colab": {}
      },
      "cell_type": "code",
      "source": [
        "root = buildTestTree()\n",
        "Traversal().preorder(root); print()\n",
        "Traversal().inorder(root); print()\n",
        "Traversal().postorder(root); print()"
      ],
      "execution_count": 0,
      "outputs": []
    },
    {
      "metadata": {
        "id": "0VRCEF0OqIHs",
        "colab_type": "text"
      },
      "cell_type": "markdown",
      "source": [
        "### 其他有趣的树遍历算法\n",
        "不用队列来进行层序遍历\n",
        "下面这个例子使用来递归，等价于使用了栈"
      ]
    },
    {
      "metadata": {
        "id": "taL-P8BgqlqY",
        "colab_type": "code",
        "colab": {}
      },
      "cell_type": "code",
      "source": [
        "class Traversal(object):\n",
        "\n",
        "    def visit(self, node):\n",
        "        print(node.val, end=\" \")\n",
        "\n",
        "    def bfs(self, root, levels):\n",
        "      def visitlevel(node, target_level, current_level):\n",
        "        if target_level > current_level:\n",
        "          if node.left:\n",
        "            visitlevel(node.left, target_level, current_level+1)\n",
        "          if node.right:\n",
        "            visitlevel(node.right,target_level, current_level+1)\n",
        "        else:\n",
        "          self.visit(node)\n",
        "       \n",
        "      for i in range(levels):\n",
        "        visitlevel(root, i, 0)"
      ],
      "execution_count": 0,
      "outputs": []
    },
    {
      "metadata": {
        "id": "SXkyTanKrk6V",
        "colab_type": "code",
        "colab": {}
      },
      "cell_type": "code",
      "source": [
        "root = buildTestTree()\n",
        "Traversal().bfs(root, 3); print()"
      ],
      "execution_count": 0,
      "outputs": []
    },
    {
      "metadata": {
        "id": "ur4Qbl49VdaQ",
        "colab_type": "text"
      },
      "cell_type": "markdown",
      "source": [
        "### 迭代加深搜索\n",
        "\n",
        "算是一种特殊的dfs搜索，经常用于理论上解答树深度上没有上界的问题，这类问题通常要求出满足某些条件时的解即可。通过逐渐增加深度来增加搜索范围，当解的深度有限的时候，就可以在有限时间内枚举到。\n",
        "如果可以设计出一个乐观估计函数，预测从当前节点至少还要扩展几层才能有解，那么**迭代加深搜索**就变成了**IDA*算法**\n",
        "\n"
      ]
    },
    {
      "metadata": {
        "id": "YHKZB5S3KWOC",
        "colab_type": "text"
      },
      "cell_type": "markdown",
      "source": [
        "#### 例子：埃及分数问题\n",
        "给定一个分数，让他等于其他几个分数的和: a/b=1/x+1/y+...，要求1. 加数不能相等， 2. 加数尽可能少，3. 最小的分数越大越好\n",
        "比如 495 499 =》495/499=1/2+1/5+1/6+1/8+1/3992+1/14970\n",
        "\n",
        "\n",
        "这个题目有更好的方法 https://zh.wikipedia.org/wiki/%E5%8F%A4%E5%9F%83%E5%8F%8A%E5%88%86%E6%95%B8 这里只是做迭代加深搜索的示例"
      ]
    },
    {
      "metadata": {
        "id": "R8pMhV4Ol8Ub",
        "colab_type": "code",
        "colab": {}
      },
      "cell_type": "code",
      "source": [
        "# 找到第一个小于a/b的单位分数的分母\n",
        "def get_first(a, b):\n",
        "    res = b // a\n",
        "    return res if res*a >= b else res + 1\n",
        "\n",
        "# 求公约数，用于约分\n",
        "def gcd(a, b):\n",
        "    return a if b == 0 else gcd(b, a%b)\n",
        "\n",
        "def better(d, best, ans):\n",
        "    #print(\"better?\")\n",
        "    for i in reversed(range(d+1)):\n",
        "        if ans[i] != best[i]:\n",
        "            return best[i] == 0 or ans[i] < best[i]\n",
        "    return False\n",
        "\n",
        "def egyptFraction(a, b):\n",
        "    \n",
        "    best = [0] *99 # 保存最好的结果\n",
        "    ans = [0] *99  # 当前搜索的结果\n",
        "    \n",
        "    # d: current depth, start 启始搜索位置, target : a/b\n",
        "    def dfs(maxd, d, start, a, b):\n",
        "        #print(maxd, d, start, a, b, best, ans)\n",
        "        # 已经遍历到第 maxd 层\n",
        "        if d == maxd:\n",
        "            # 要成功，最后一个数子应该能形成1/x\n",
        "            if b%a:\n",
        "                return False\n",
        "            ans[d] = b//a\n",
        "            if better(d, best, ans):\n",
        "                best[:] = ans[:]\n",
        "                return True\n",
        "        ok = False\n",
        "        start = max(start, get_first(a, b))\n",
        "        for i in range(start, 999999999):\n",
        "            # 如果剩下全是1/i都无法 达到a/b, 那么截止，提前终止搜索\n",
        "            if b * (maxd + 1 - d) <= i * a:\n",
        "                break\n",
        "            ans[d] = i\n",
        "            #计算 a/ b -1/i\n",
        "            b2, a2 = b*i, a*i - b\n",
        "            g = gcd(a2, b2)\n",
        "            if dfs(maxd, d+1, i+1, a2//g, b2//g):\n",
        "                # 搜到一个结果了，但是这一层还不能终止，因为第一个结果不一定是最好的\n",
        "                ok = True\n",
        "        return ok\n",
        "            \n",
        "\n",
        "    for maxd in range(1, 999):\n",
        "        if dfs(maxd, 0, get_first(a, b), a, b):\n",
        "            best = best[:maxd+1]\n",
        "            break\n",
        "    \n",
        "    return str(a) + \"/\" + str(b) +  \" = \" + \" + \".join(\"1/\" + str(a) for a in best)"
      ],
      "execution_count": 0,
      "outputs": []
    },
    {
      "metadata": {
        "id": "UMNnWhnsKYbD",
        "colab_type": "text"
      },
      "cell_type": "markdown",
      "source": [
        "#### 例子：编辑书稿\n",
        "给定一个长度 1 ～ 9 的整数序列，每个整数 1 ～ 9 。\n",
        "\n",
        "序列是无序的，你有两种操作，剪切和粘贴，两种操作均可以处理任意长度。\n",
        "\n",
        "求至少经过多少次操作，可以使序列有序（递增）。\n",
        "\n",
        "1. 迭代加深搜索：最大为maxd 为8，考虑每次都剪一个，相当于插入排序所以剪枝d>8\n",
        "2. 启发函数：考虑后继不对的数字个数为h，那么每次剪切最多h能减少3（xxxaxxxxbxxxc -> xxxaxxxcxxxxb，这里面就三个数字a,b,c的后继发生了变化) 那么对于h,至少还要h/3步，那么d + h/3 > maxd的也可以剪枝了"
      ]
    },
    {
      "metadata": {
        "id": "FWFvh0ygWH2u",
        "colab_type": "code",
        "colab": {}
      },
      "cell_type": "code",
      "source": [
        "def editingBook(s):\n",
        "    target = \"\".join(sorted(s))\n",
        "    n = len(s)\n",
        "    \n",
        "    def h(s):\n",
        "        c = 0\n",
        "        for i in range(1, n):\n",
        "            if int(s[i]) != int(s[i-1]) + 1:\n",
        "                c += 1\n",
        "        return c\n",
        "    \n",
        "    def dfs(maxd, d, s):\n",
        "        if maxd == d:\n",
        "            return True if s == target else False\n",
        "        \n",
        "        if h(s) > 3 * (maxd - d):\n",
        "            return False;\n",
        "    \n",
        "        for i in range(n):\n",
        "            # 剪的长度\n",
        "            for l in range(1, n-i+1):\n",
        "                # 贴的位置在j\n",
        "                for j in range(i+l+1, n+1):\n",
        "                    news = s[:j] + s[i:i+l] + s[j:]\n",
        "                    news = news[:i] + news[i+l:]\n",
        "                    if dfs(maxd, d+1, news):\n",
        "                        return True\n",
        "                    \n",
        "    for maxd in range(9):\n",
        "        if dfs(maxd, 0, s):\n",
        "            return maxd\n",
        "              "
      ],
      "execution_count": 0,
      "outputs": []
    },
    {
      "metadata": {
        "id": "2B9ffLTjCO5r",
        "colab_type": "text"
      },
      "cell_type": "markdown",
      "source": [
        "## 应用\n",
        "一个问题能抽象成树的遍历问题之后，实现就比较简单了, 比如下面的word search, 或者一些subset、 combination也常能看成树的遍历问题"
      ]
    },
    {
      "metadata": {
        "id": "D_8cIwMhCfU2",
        "colab_type": "text"
      },
      "cell_type": "markdown",
      "source": [
        "### 例子：Word Search\n",
        "https://leetcode.com/problems/word-search/description/\n",
        "\n",
        "这个题目用bfs会发现很困难，用bfs加递归、回溯的方式比较简单"
      ]
    },
    {
      "metadata": {
        "id": "YfRiFsrNCkYr",
        "colab_type": "code",
        "colab": {}
      },
      "cell_type": "code",
      "source": [
        "class Solution:\n",
        "    def exist(self, board, word):\n",
        "        \"\"\"\n",
        "        :type board: List[List[str]]\n",
        "        :type word: str\n",
        "        :rtype: bool\n",
        "        \"\"\"\n",
        "        # dfs\n",
        "        def dfs(i, j, board, word): #i, j is current index\n",
        "          if len(word)==0:\n",
        "            return True\n",
        "          if i<0 or j<0 or i>=len(board) or j>=len(board[0]) or board[i][j] != word[0]:\n",
        "            return False\n",
        "          tmp=board[i][j] \n",
        "          board[i][j]=\"#\" #用于回溯\n",
        "          ret=dfs(i-1, j, board, word[1:]) or dfs(i+1, j, board, word[1:]) or dfs(i, j-1, board, word[1:]) or dfs(i, j+1, board, word[1:])\n",
        "          board[i][j]=tmp #回溯\n",
        "          return ret\n",
        "          \n",
        "        for i in range(len(board)):\n",
        "          for j in range(len(board[0])):\n",
        "            if dfs(i, j, board, word):\n",
        "              return True\n",
        "        return False\n",
        "                "
      ],
      "execution_count": 0,
      "outputs": []
    },
    {
      "metadata": {
        "id": "G_bxWk98CpZ3",
        "colab_type": "code",
        "colab": {}
      },
      "cell_type": "code",
      "source": [
        "print(Solution().exist([[\"A\",\"B\",\"C\",\"E\"],[\"S\",\"F\",\"C\",\"S\"],[\"A\",\"D\",\"E\",\"E\"]], \"ABCCED\"))\n",
        "print(Solution().exist([[\"C\",\"A\",\"A\"],[\"A\",\"A\",\"A\"],[\"B\",\"C\",\"D\"]], \"AAB\"))\n",
        "print(Solution().exist([[\"A\",\"B\",\"C\",\"E\"],[\"S\",\"F\",\"E\",\"S\"],[\"A\",\"D\",\"E\",\"E\"]], \"ABCESEEEFS\"))"
      ],
      "execution_count": 0,
      "outputs": []
    },
    {
      "metadata": {
        "id": "bw1QzWcJD4Lu",
        "colab_type": "text"
      },
      "cell_type": "markdown",
      "source": [
        "### 例子：中序遍历的几个例子\n",
        "https://leetcode.com/problems/validate-binary-search-tree/discuss/32112/Learn-one-iterative-inorder-traversal-apply-it-to-multiple-tree-questions-(Java-Solution)"
      ]
    },
    {
      "metadata": {
        "id": "4yvRPzBlEtMt",
        "colab_type": "text"
      },
      "cell_type": "markdown",
      "source": [
        "## 例子：Lowest Common Ancestor of a Binary Tree\n",
        "\n",
        "https://leetcode.com/problems/lowest-common-ancestor-of-a-binary-tree\n",
        "\n",
        "可以看成是前序遍历的应用\n",
        "直观上看，应该使用后序遍历，但实际上因为条件确定了Lowest Common Ancestor肯定是存在的，所以使用前序遍历的时候如果root是其中一个值，返回root是正确的。"
      ]
    },
    {
      "metadata": {
        "id": "ZRyiteax1qIK",
        "colab_type": "text"
      },
      "cell_type": "markdown",
      "source": [
        "## 例子：Remove Invalid Parentheses\n",
        "\n",
        "https://leetcode.com/problems/remove-invalid-parentheses/description/\n",
        "\n",
        "这道题只能做删除操作，那么一种最简单的办法就是暴力搜索（依次删除递归）看结果，这种办法也可以看成是BFS，按层不断接近最后的结果。BFS可以用queue来解决，这里使用filter简化了代码。\n",
        "\n",
        "进一步的，代码中没有考虑BFS中的很多可以剪枝的情况，比如((), 删第一个和第二个是一样的，那么可以剪掉一个树枝。"
      ]
    },
    {
      "metadata": {
        "id": "dE3-OEyb2eSH",
        "colab_type": "code",
        "colab": {}
      },
      "cell_type": "code",
      "source": [
        "class Solution(object):\n",
        "    def removeInvalidParentheses(self, s):\n",
        "        \"\"\"\n",
        "        :type s: str\n",
        "        :rtype: List[str]\n",
        "        \"\"\"\n",
        "        def isvalid(s):\n",
        "            d = {\"(\" : 1, \")\": -1}\n",
        "            cl = 0\n",
        "            for a in s:\n",
        "                if a in d:\n",
        "                    cl += d[a]\n",
        "                    if cl < 0:\n",
        "                        return False\n",
        "            return cl == 0\n",
        "        \n",
        "        # use set to avoid duplicate\n",
        "        level = {s}\n",
        "        while True:\n",
        "            valid = filter(isvalid, level)\n",
        "            if valid:\n",
        "                return valid\n",
        "            level = {s[:i] + s[i+1:] for i in range(len(s)) for s in level}"
      ],
      "execution_count": 0,
      "outputs": []
    },
    {
      "metadata": {
        "id": "ytl5iuASmK_k",
        "colab_type": "text"
      },
      "cell_type": "markdown",
      "source": [
        "## 例子：Path Sum  III\n",
        "\n",
        "https://leetcode.com/problems/path-sum-iii/description/\n",
        "\n",
        "遍历的时候确定分割成几个条件能简化问题，比如这题里面dfs就有两种情况node取，或者node不取。node如果比较简单，递归原函数就可以，但是node取，需要另外定义一个函数出来才能描述这种情况。"
      ]
    },
    {
      "metadata": {
        "id": "010CI3JJnJ_Q",
        "colab_type": "code",
        "colab": {}
      },
      "cell_type": "code",
      "source": [
        "class Solution:\n",
        "    def pathSum(self, root, sum):\n",
        "        \"\"\"\n",
        "        :type root: TreeNode\n",
        "        :type sum: int\n",
        "        :rtype: int\n",
        "        \"\"\"\n",
        "        # 必须包含\n",
        "        def pathSumFrom(node, sum):\n",
        "            if not node:\n",
        "                return 0\n",
        "            a = 1 if node.val == sum else 0\n",
        "            return a + pathSumFrom(node.left, sum- node.val) + pathSumFrom(node.right, sum- node.val)\n",
        "        \n",
        "        if not root:\n",
        "            return 0\n",
        "        return pathSumFrom(root, sum) + self.pathSum(root.left, sum) + self.pathSum(root.right, sum)\n",
        "    \n",
        "    \n",
        "    # 这种解法利用了前面的path回溯遍历方式，本质是一种能打印出所有path的前序遍历\n",
        "    # 这种解法同时类似two sum的解法，并且利用了这样的常用性质 range_sum(i, j] = sum[j] - sum[i]\n",
        "    def pathSum2(self, root, sum):\n",
        "        \"\"\"\n",
        "        :type root: TreeNode\n",
        "        :type sum: int\n",
        "        :rtype: int\n",
        "        \"\"\"\n",
        "        # 必须包含\n",
        "        d = collections.defaultdict(int)\n",
        "        d[0] = 1\n",
        "        def helper(root, cursum, target):\n",
        "            if not root:\n",
        "                return 0\n",
        "            cursum += root.val\n",
        "            res = d[cursum - target]\n",
        "            d[cursum] += 1\n",
        "            res += helper(root.left, cursum, target) + helper(root.right, cursum, target)\n",
        "            d[cursum] -= 1\n",
        "            return res\n",
        "        \n",
        "        return helper(root, 0, sum)"
      ],
      "execution_count": 0,
      "outputs": []
    },
    {
      "metadata": {
        "id": "hS2mJxmd4_W0",
        "colab_type": "text"
      },
      "cell_type": "markdown",
      "source": [
        "## 例子：Subtree of Another Tree\n",
        "https://leetcode.com/problems/subtree-of-another-tree/description/\n",
        "思路是把树转化成string，但是如果单纯遍历并不能表达“是subtree”这种情况，所以把一些其他字符也加进去用于表达是node等信息"
      ]
    },
    {
      "metadata": {
        "id": "0-LH_RU76nAc",
        "colab_type": "code",
        "colab": {}
      },
      "cell_type": "code",
      "source": [
        "class Solution:\n",
        "    def isSubtree(self, s, t):\n",
        "        \"\"\"\n",
        "        :type s: TreeNode\n",
        "        :type t: TreeNode\n",
        "        :rtype: bool\n",
        "        \"\"\"\n",
        "        def convert(p):\n",
        "            return \"^\" + str(p.val) + \"#\" + convert(p.left) + convert(p.right) if p else \"$\"\n",
        "        \n",
        "        #print(convert(t), convert(s))\n",
        "        return convert(t) in convert(s)"
      ],
      "execution_count": 0,
      "outputs": []
    },
    {
      "metadata": {
        "id": "umYe7GMRZj1h",
        "colab_type": "text"
      },
      "cell_type": "markdown",
      "source": [
        "## 例子：Sum of Distances in Tree\n",
        "https://leetcode.com/problems/sum-of-distances-in-tree/description/\n",
        "\n",
        "分析 https://leetcode.com/problems/sum-of-distances-in-tree/discuss/130567/Two-traversals-O(N)-python-solution-with-Explanation\n",
        "\n",
        "遍历第一遍 算count, 同时把当前res[root]算出来\n",
        "遍历第二遍 根据count和 res[root] 把 res[每个i]都算出来"
      ]
    },
    {
      "metadata": {
        "id": "w4WCk_6MhZfS",
        "colab_type": "code",
        "colab": {}
      },
      "cell_type": "code",
      "source": [
        "import collections\n",
        "class Solution:\n",
        "    def sumOfDistancesInTree(self, N, edges):\n",
        "        \"\"\"\n",
        "        :type N: int\n",
        "        :type edges: List[List[int]]\n",
        "        :rtype: List[int]\n",
        "        \"\"\"\n",
        "        # 树，记录每个node的儿子\n",
        "        tree = collections.defaultdict(set)\n",
        "        # 记录结果\n",
        "        res = [0] * N\n",
        "        # 记录每个node的儿子个数\n",
        "        count = [0] * N \n",
        "        \n",
        "        for s, e in edges:\n",
        "            tree[s].add(e)\n",
        "            tree[e].add(s)\n",
        "\n",
        "        # post order, 其实每个节点都可以是root，第一遍取0\n",
        "        def post_order(root=0, seen=set()):\n",
        "            seen.add(root)\n",
        "            for i in tree[root]:\n",
        "                if i not in seen:\n",
        "                    post_order(i, seen)\n",
        "                    count[root] += count[i]\n",
        "                    # 对于树，每往上走一层，所有儿子的距离都要+1， 所以增加之后为 res[i] + count[i]\n",
        "                    res[root] += res[i] + count[i]\n",
        "            count[root] += 1 # count包括自己 +1\n",
        "        \n",
        "        # 前序遍历, 从root到儿子，root的res已经算出来了，根据count 可以算出儿子的res\n",
        "        def pre_order(root=0, seen=set()):\n",
        "            seen.add(root)\n",
        "            for i in tree[root]:\n",
        "                if i not in seen:\n",
        "                    #seen.add(i)\n",
        "                    #(i这边相对于root减少count[i], 另一边相对于root增加N-count[i])\n",
        "                    res[i] = res[root] - count[i] + N - count[i] \n",
        "                    pre_order(i, seen)\n",
        "                    \n",
        "        post_order()\n",
        "        pre_order()\n",
        "        return res        "
      ],
      "execution_count": 0,
      "outputs": []
    },
    {
      "metadata": {
        "id": "n9gL8304jH0d",
        "colab_type": "text"
      },
      "cell_type": "markdown",
      "source": [
        "## 例子：Shortest Path Visiting All Nodes\n",
        "\n",
        "https://leetcode.com/problems/shortest-path-visiting-all-nodes/description/\n",
        "很重要的一个思路: \n",
        "\n",
        "起点不是一个点 去**扩张**，而是起点是所有边界，终点是一个点，bfs是**收缩**\n",
        "\n",
        "**用二进制数字表示state也比较常见**\n"
      ]
    },
    {
      "metadata": {
        "id": "52X3BeAWjUcI",
        "colab_type": "code",
        "colab": {}
      },
      "cell_type": "code",
      "source": [
        "import collections\n",
        "class Solution:\n",
        "    def shortestPathLength(self, graph):\n",
        "        n = len(graph)\n",
        "        final = (1 << n) - 1 # 用11111表示每个node都访问过了\n",
        "        steps = 0\n",
        "        seen, q = set(), collections.deque([(i, 0, 1 << i) for i in range(len(graph))])\n",
        "        # 使用bfs, 起点是00001, 00010, 00100, 01000, 10000 终点是11111\n",
        "        # 这个bfs的思路也很常见，起点不是一个点 去**扩张**，而是起点是所有边界，终点是一个点，bfs是**收缩**\n",
        "        while q:\n",
        "            node, steps, state = q.popleft()\n",
        "            if state == final: \n",
        "                return steps\n",
        "            for v in graph[node]:\n",
        "                if (state | 1 << v, v) not in seen:\n",
        "                    q.append((v, steps + 1, state | 1 << v))\n",
        "                    seen.add((state | 1 << v, v))\n",
        "                    \n",
        "        return steps"
      ],
      "execution_count": 0,
      "outputs": []
    },
    {
      "metadata": {
        "id": "dp1rC8NP0Pv9",
        "colab_type": "text"
      },
      "cell_type": "markdown",
      "source": [
        "## 例子：Validate Binary Search Tree\n",
        "https://leetcode.com/problems/validate-binary-search-tree/\n",
        "\n",
        "这道题解法很多，下面列举其中两个解法，其中的关键思路在树问题中很常见"
      ]
    },
    {
      "metadata": {
        "id": "sQgCX4BO2d3J",
        "colab_type": "code",
        "colab": {}
      },
      "cell_type": "code",
      "source": [
        "class Solution(object):\n",
        "    # 关键点：使用self.pre记录前面遍历的值\n",
        "    def isValidBST1(self, root):\n",
        "        \"\"\"\n",
        "        :type root: TreeNode\n",
        "        :rtype: bool\n",
        "        \"\"\"\n",
        "        self.pre = float(\"-inf\")\n",
        "        def inOrder(root):\n",
        "            if not root:\n",
        "                return True\n",
        "            if not inOrder(root.left):\n",
        "                return False\n",
        "            if self.pre >= root.val:\n",
        "                return False\n",
        "            self.pre = root.val\n",
        "            return inOrder(root.right)\n",
        "        \n",
        "        return inOrder(root)\n",
        "    \n",
        "    #关键点：使用递归和Binary Search Tree的定义\n",
        "    def isValidBST(self, root):\n",
        "        \"\"\"\n",
        "        :type root: TreeNode\n",
        "        :rtype: bool\n",
        "        \"\"\"\n",
        "        def valid(root, minv, maxv):\n",
        "            if not root:\n",
        "                return True\n",
        "            if root.val >= maxv or root.val <= minv:\n",
        "                return False\n",
        "            return valid(root.left, minv, root.val) and valid(root.right, root.val, maxv)\n",
        "        \n",
        "        return valid(root, float(\"-inf\"), float(\"inf\"))"
      ],
      "execution_count": 0,
      "outputs": []
    },
    {
      "metadata": {
        "id": "GzFWgu1bRroN",
        "colab_type": "text"
      },
      "cell_type": "markdown",
      "source": [
        "# 数字和数学"
      ]
    },
    {
      "metadata": {
        "id": "1Y2yiToY34ZO",
        "colab_type": "text"
      },
      "cell_type": "markdown",
      "source": [
        "## 有用的数字技巧\n",
        "\n",
        "1. num&(num-1) == 0可以用来判断数字是2的幂\n",
        "2. 一个有用的公式如果 (x # y) @ y = x 那么\n",
        "\n",
        "```python\n",
        "def swap(x, y):\n",
        "  x = x # y\n",
        "  y = x @ y\n",
        "  x = x @ y\n",
        "\n",
        "比如这里的 #, @ = '+', '-' ; 或者 #,@ = 'xor', 'xor' 等等都是有效的 (异或:不一样则为1,一样为0; a xor a = 0, 0 xor a = a)\n",
        "```\n",
        "3. 保留一个二进制的最后一位1(LowBit)，其他都置0 => a- (a & (a-1)); 比如1010 => 1010 - 1010 & 1001 = 0010 (注意括号)；a & (a-1) 表示翻转数字最后一个1变成0（比如在计算数字里面有多少个1可以使用），a & (a-1) == 0表示这个数是2的幂\n",
        "4. 保留一个二进制的最后一位1(LowBit)的另一种做法 a & (-a), 例如1010 -》 0010，这个算法在binary index tree里面用到了\n",
        "5. 出现几次的问题\n",
        "  1. 只有一个出现1次，其他都出现2次 => 异或\n",
        "  2. 只有一个出现1次，其他都出现3次 => 按位求和求3的余\n",
        "  3. 只有两个出现1次，其他都出现2次 => 异或 -> 分组 -> 异或\n",
        "  4. 只有1个出现多次，其他都出现1次（n+1个数字都<n） => **看成是link list有环，求环入口的问题(n+1个数字1-n) ** https://leetcode.com/problems/find-the-duplicate-number/description/\n",
        "  5. 一个数出现多于n/2次，或者两个数出>= n/3次：Boyer-Moore Majority Vote (使用hash也能解决，但是Boyer-Moore的空间复杂度是O(1))"
      ]
    },
    {
      "metadata": {
        "id": "zsRjOv8rRzTb",
        "colab_type": "text"
      },
      "cell_type": "markdown",
      "source": [
        "## 质数/素数的应用\n",
        "### Group Anagrams\n",
        "\n",
        "https://leetcode.com/problems/group-anagrams/description/\n"
      ]
    },
    {
      "metadata": {
        "id": "1vZDU0YC-rbQ",
        "colab_type": "text"
      },
      "cell_type": "markdown",
      "source": [
        "## 排列组合\n",
        "https://leetcode.com/problems/unique-paths/description/\n",
        "\n",
        "这个可以看成robot要走m+n-2步，里面选n-1步往下走，即C(m+n-2, n-1)\n",
        "\n",
        "而有obstacles的情况很难用组合来抽象\n",
        "\n",
        "https://leetcode.com/problems/unique-paths-ii/description/\n",
        "\n",
        "可以用dp来解， dp[i][j] 表示从0,0 到 i, j 的path数量\n",
        "那么dp[i][j] = dp[i-1][j] + dp[i][j-1] if (i, j not obstacle) else 0"
      ]
    },
    {
      "metadata": {
        "id": "6jDuhV6g_G2m",
        "colab_type": "code",
        "colab": {}
      },
      "cell_type": "code",
      "source": [
        "class Solution(object):\n",
        "    def uniquePaths(self, m, n):\n",
        "        \"\"\"\n",
        "        :type m: int\n",
        "        :type n: int\n",
        "        :rtype: int\n",
        "        \"\"\"\n",
        "        def nCr(n,r):\n",
        "            f = math.factorial\n",
        "            return f(n) // f(r) // f(n-r)\n",
        "        return nCr(m+n-2, n-1)\n",
        "      \n",
        "    def uniquePathsWithObstacles(self):\n",
        "      # 略\n",
        "      pass\n",
        "        "
      ],
      "execution_count": 0,
      "outputs": []
    },
    {
      "metadata": {
        "id": "aSiW55a5XrYc",
        "colab_type": "text"
      },
      "cell_type": "markdown",
      "source": [
        "## 经典：找因子，质因子，公共因子，最大公约数、最小公倍数\n",
        "\n",
        "\n",
        "```python\n",
        "# 1. 找因子，从1，遍历到 math.sqrt(a), 加上除数和商\n",
        "def find_factor(a):\n",
        "    ret = []\n",
        "    for i in range(1, int(math.sqrt(a)) + 1):\n",
        "        if a%i == 0:\n",
        "            m = a//i\n",
        "            # 这里保持顺序只是为了好看\n",
        "            bisect.insort(ret, i)\n",
        "            if m != i:\n",
        "                bisect.insort(ret, m)\n",
        "    return ret\n",
        "  \n",
        "# 2. 找质因子:Pollard Rho因数分解 经典算法 （扩大i，缩小n）\n",
        "def prime_factor(n):\n",
        "    ret = []\n",
        "    i = 2\n",
        "    while i**2 <= n:\n",
        "        while n%i==0:\n",
        "            ret.append(i)\n",
        "            n //= i\n",
        "        i += 1\n",
        "    if n> 1:\n",
        "        ret.append(n);\n",
        "    return ret\n",
        "  \n",
        "# 3. 求公因子、最大公约数\n",
        "# 两个数的公因子包含必定是两个数的最大公约数的因子\n",
        "def gcd(a, b):\n",
        "    # 辗转相除法求最大公约数\n",
        "    return a if b == 0 else gcd(b, a%b)\n",
        "\n",
        "def common_factors(a, b):\n",
        "  return find_factor(gcd(a, b))\n",
        "\n",
        "# 4. 找最小公倍数\n",
        "最小公倍数=两整数的乘积÷最大公约数\n",
        "```"
      ]
    },
    {
      "metadata": {
        "id": "wRcjuGPYqXHq",
        "colab_type": "text"
      },
      "cell_type": "markdown",
      "source": [
        "## 例子：Single Number II\n",
        "https://leetcode.com/problems/single-number-ii/description/\n",
        "\n",
        "出现一次，异或求解\n",
        "出现n次，可以利用这样的性质：每一位上的数字都加一起来，那么%n就是一个只出现一次的那个数字在这一位的数字"
      ]
    },
    {
      "metadata": {
        "id": "Kl1_b2kqZYX9",
        "colab_type": "text"
      },
      "cell_type": "markdown",
      "source": [
        "## 例子：Bitwise AND of Numbers Range\n",
        "https://leetcode.com/problems/bitwise-and-of-numbers-range/description/\n",
        "\n",
        "给range [m, n], 0 <= m <= n <= 2147483647, 求range里面所有数字的 bitwise AND 结果"
      ]
    },
    {
      "metadata": {
        "id": "WpvjGEUKFqkv",
        "colab_type": "code",
        "colab": {}
      },
      "cell_type": "code",
      "source": [
        "class Solution:\n",
        "    def rangeBitwiseAnd(self, m, n):\n",
        "        i = 0\n",
        "        while m != n:\n",
        "            m >>= 1\n",
        "            n >>= 1\n",
        "            i += 1\n",
        "        return n << i"
      ],
      "execution_count": 0,
      "outputs": []
    },
    {
      "metadata": {
        "id": "j23H6TmnsFml",
        "colab_type": "text"
      },
      "cell_type": "markdown",
      "source": [
        "## 例子：Counting Bits\n",
        "https://leetcode.com/problems/counting-bits/description/\n",
        "常见的思路，处理位数有关的问题的时候考虑 f(i) 和 f(i<<1) 或者f(i>>1)的关系\n",
        "\n",
        "l[i] = l[i>>1] + (i&1)"
      ]
    },
    {
      "metadata": {
        "id": "gRK4cJXRF44d",
        "colab_type": "text"
      },
      "cell_type": "markdown",
      "source": [
        "## 例子：Super Pow\n",
        "https://leetcode.com/problems/super-pow/description/\n",
        "这个例子考察两个东西：\n",
        "\n",
        "1. (a*b)%c = (a%c)*(b%c)%c\n",
        "2. divide and conquer的的方式计算pow"
      ]
    },
    {
      "metadata": {
        "id": "yfmgyX5uGVZP",
        "colab_type": "code",
        "colab": {}
      },
      "cell_type": "code",
      "source": [
        "class Solution(object):\n",
        "    def superPow(self, a, b):\n",
        "        \"\"\"\n",
        "        :type a: int\n",
        "        :type b: List[int]\n",
        "        :rtype: int\n",
        "        \"\"\"\n",
        "        \n",
        "        # 二分法计算pow\n",
        "        def pow(x, n):\n",
        "            if n == 0:\n",
        "                return 1\n",
        "            elif n == 1:\n",
        "                return x % 1337\n",
        "            else:\n",
        "                return pow(x, n//2) * pow(x, n - n//2) % 1337\n",
        "        \n",
        "        dp = {}\n",
        "        def pow_with_dp(x, n):\n",
        "            if (x, n) in dp:\n",
        "                return dp[(x, n)]\n",
        "            if n == 0:\n",
        "                return 1\n",
        "            elif n == 1:\n",
        "                return x % 1337\n",
        "            else:\n",
        "                ret = pow(x, n//2) * pow(x, n - n//2) % 1337\n",
        "                dp[(x, n)] = ret\n",
        "                return ret\n",
        "\n",
        "\n",
        "        # 利用 (a*b)%c = (a%c*b%c) %c\n",
        "        res = 1\n",
        "        for n in b:\n",
        "            res = pow_with_dp(res, 10) * pow_with_dp(a, n) % 1337\n",
        "        return res"
      ],
      "execution_count": 0,
      "outputs": []
    },
    {
      "metadata": {
        "id": "iFIpi9V5vgIg",
        "colab_type": "text"
      },
      "cell_type": "markdown",
      "source": [
        "## 例子：Minimum Moves to Equal Array Elements\n",
        "\n",
        "https://leetcode.com/problems/minimum-moves-to-equal-array-elements/description/\n",
        "\n",
        "这道题关键之处在于找到**等价表示**，对n-1个数加一，和对一个数减1的效果是一样的（在变成相等的步数上），转化成对一个数减1。思路就简单很多了。"
      ]
    },
    {
      "metadata": {
        "id": "QheB4JBnCjIJ",
        "colab_type": "text"
      },
      "cell_type": "markdown",
      "source": [
        "## 例子：Minimum Moves to Equal Array Elements II\n",
        "\n",
        "https://leetcode.com/problems/minimum-moves-to-equal-array-elements-ii/\n",
        "\n",
        "```\n",
        "中位数性质:\n",
        "median: min(    sum(abs(median-x))     )\n",
        "证明: 将样本值从小到大排列，S(a)＝|x(1)-a|+|X(2)-a|+...+|x(n)-a|,考虑a的位置。\n",
        "     如果在a左面和右面的观测值个数不同，总可以找到另一个a，使得S(a)更小。      所以只有当a左面和右面的观测值个数相同时，S(a)才达到最小值。\n",
        "```"
      ]
    },
    {
      "metadata": {
        "id": "JaEqigXLf5Hq",
        "colab_type": "text"
      },
      "cell_type": "markdown",
      "source": [
        "## 例子：Sum of Subarray Minimums\n",
        "https://leetcode.com/problems/sum-of-subarray-minimums\n",
        "\n",
        "这个例子里面有一个子问题，一个数组A = [5, 2, 4, 3, 1]\n",
        "找出每个位置左边比自己大的数的个数\n",
        "使用stack存上升的元素，以及比自己大**包括自己**(如果不包括自己可以先算包括自己的然后都-1)的count\n",
        "```python\n",
        "# 5: [(5, 1)]\n",
        "# 2: [(2, 2)]\n",
        "# 4: [(2, 2), (4, 1)]\n",
        "# 3: [(2, 2), (3, 2)]\n",
        "# 1: [(1, 5)]\n",
        "def get_left(A):\n",
        "    ret = [0]*len(A)\n",
        "    s = []\n",
        "    for i in range(len(A)):\n",
        "        count = 1\n",
        "        while s and A[i] < s[-1][0]:\n",
        "            count += s.pop()[1]\n",
        "        s.append((A[i], count))\n",
        "        ret[i] = count\n",
        "    return ret\n",
        "```\n",
        "这道题是base：\n",
        "https://leetcode.com/problems/online-stock-span/\n",
        "\n",
        "类似的还有：\n",
        "https://leetcode.com/problems/unique-letter-string\n",
        "\n",
        "https://leetcode.com/problems/sum-of-subsequence-widths"
      ]
    },
    {
      "metadata": {
        "id": "obzpQ0-GYyYN",
        "colab_type": "text"
      },
      "cell_type": "markdown",
      "source": [
        "## 例子：Sum of Square Numbers\n",
        "```\n",
        "Input: 5\n",
        "Output: True\n",
        "Explanation: 1 * 1 + 2 * 2 = 5\n",
        "```\n",
        "重要的遍历技巧，如果用连个范围去遍历复杂度过高，遍历一个范围，求出另一个值，看这个值是否满足条件会时间复杂度降低很多。"
      ]
    },
    {
      "metadata": {
        "id": "Ly5f89nGY6jb",
        "colab_type": "code",
        "colab": {}
      },
      "cell_type": "code",
      "source": [
        "import math\n",
        "class Solution:\n",
        "    def judgeSquareSum(self, c):\n",
        "        \"\"\"\n",
        "        :type c: int\n",
        "        :rtype: bool\n",
        "        \"\"\"\n",
        "        def is_square(a):\n",
        "            return int(math.sqrt(a))**2 == a\n",
        "        \n",
        "        d = int(math.sqrt(c))\n",
        "        for b in range(d//2, d+1):\n",
        "            if is_square(c - b**2):\n",
        "                return True\n",
        "        return False"
      ],
      "execution_count": 0,
      "outputs": []
    },
    {
      "metadata": {
        "id": "3D2LoIKaC6Ty",
        "colab_type": "text"
      },
      "cell_type": "markdown",
      "source": [
        "## 例子：Factorial Trailing Zeroes 和 Preimage Size of Factorial Zeroes Function\n",
        "\n",
        "给定一个数，如何找这个数的阶乘末尾的0的个数，本质是找因子里面有多少5，那么 5！里面有一个5， 10！里面有两个5，到目前为止都是n//5个，但是 25！会比前面的增加两个5，可以推论出下面的递推公式：\n",
        "\n",
        "```python\n",
        "#递归写法\n",
        "#return 0 if n == 0 else n / 5 + self.trailingZeroes(n / 5)\n",
        "class Solution:\n",
        "    def trailingZeroes(self, n):\n",
        "        \"\"\"\n",
        "        :type n: int\n",
        "        :rtype: int\n",
        "        \"\"\"\n",
        "        #循环写法\n",
        "        ret = 0\n",
        "        while n >= 5:\n",
        "            ret += n//5\n",
        "            n = n//5\n",
        "        return ret\n",
        "```\n",
        "\n",
        "看总结：https://leetcode.com/problems/preimage-size-of-factorial-zeroes-function/discuss/117821/Four-binary-search-solutions-based-on-different-ideas"
      ]
    },
    {
      "metadata": {
        "id": "352608Nz4wUT",
        "colab_type": "text"
      },
      "cell_type": "markdown",
      "source": [
        "## 例子：寻找缺掉的数字\n",
        "\n",
        "数组A包含0-n的数字，其中只缺了一个, n < 10**9\n",
        "这个问题中只能用一个运算 get(a, i) 表示取出数字 a的第 i位数字\n",
        "要O(n)时间内求出缺的数字。\n",
        "\n",
        "这个题要先列出情况，分析规律\n"
      ]
    },
    {
      "metadata": {
        "id": "ZXASsSRm49ex",
        "colab_type": "code",
        "colab": {}
      },
      "cell_type": "code",
      "source": [
        "def get(a, i):\n",
        "    return a>>i & 1\n",
        "\n",
        "\n",
        "# 分析:\n",
        "# n可能是奇数，也可能是偶数，缺的那个数也可能是 奇数或者偶数\n",
        "# 那么对于最后一位来分析\n",
        "# n       奇数                 偶数\n",
        "# 如果不缺  count(0)=count(1)  count(0)=count(1)+1\n",
        "# 缺奇数   count(0)=count(1)+1 count(0)=count(1)+2\n",
        "# 缺偶数   count(0)=count(1)-1 count(0)=count(1)\n",
        "\n",
        "# 根据上面的表格得出 如果 count(0)>count(1), 缺的数字最后一位肯定是1 是奇数，否则是偶数\n",
        "# 经过这一步之后，删除掉末尾和 缺的数字不同的，如果缺的数字这一位是1，那么把这一位是0的丢掉，\n",
        "# 这样问题的属性不变，重复上面的运算\n",
        "\n",
        "def find_missing(l):\n",
        "    # v is result, i指看到哪一位了\n",
        "    i, v = 0, 0\n",
        "    while 1 << i < 10**9:\n",
        "        onebits, zerobits = [], []\n",
        "        for n in l:\n",
        "            if get(n, i) == 1:\n",
        "                onebits.append(n)\n",
        "            else:\n",
        "                zerobits.append(n)\n",
        "        # 1 的话置位，0的话就不用操作了\n",
        "        if len(zerobits) > len(onebits):\n",
        "            v |= 1 << i\n",
        "            l = onebits \n",
        "        else:\n",
        "            l = zerobits\n",
        "        i += 1\n",
        "    return v"
      ],
      "execution_count": 0,
      "outputs": []
    },
    {
      "metadata": {
        "id": "9VOKDJzu1_vq",
        "colab_type": "text"
      },
      "cell_type": "markdown",
      "source": [
        "# 动态规划"
      ]
    },
    {
      "metadata": {
        "id": "Iw_lwu02lDlz",
        "colab_type": "text"
      },
      "cell_type": "markdown",
      "source": [
        "##  背包问题\n",
        "### 01背包问题\n",
        "有n个物品，价值v = [v1,v2,v3…]，体积c = [c1,c2,c3…]，放入总容量为 totalCapacity 的背包中，求能获得的最大价值是多少？\n",
        "\n",
        "01背包问题是典型的动态规划问题，他的变种却往往不容易想到动态规划的一个主要原因是：迭代中把**总容量**作为一个迭代项，这点可能有违一般的迭代思路。\n",
        "\n",
        "```python\n",
        "# f[i][j]表示取到物品i, 而且总容量为j时候的最优解\n",
        "f[i][j] = max(f[i-1][j],f[i-1][j-c[i]] + v[i])\n",
        "```\n",
        "\n",
        "### 01背包的变种\n",
        "#### 1. 不考虑价值，刚好装满\n",
        "这个比较简单 f[i][j] 做点变化即可\n",
        "\n",
        "#### 2. 不考虑价值，希望最多物品（假设空间无空隙）\n",
        "这个也叫最优装载问题\n",
        "这个可以用贪心法在O(N)时间解决：优先选c最小的\n",
        "证明：假设x1...xn已经排序，最优解已经包含了x1，那么剩下的空间如果还能放下xk, 必然也能放下x2, 所以xk -> xk+1，归纳可知为最优解\n",
        "\n",
        "### 完全背包问题\n",
        "递归公式只是有01背包少许不同\n",
        "\n",
        "```python\n",
        "# f[i][j]表示取到物品i, 而且总容量为j时候的最优解\n",
        "f[i][j] = max(f[i-1][j],f[i][j-c[i]] + v[i])\n",
        "```\n",
        "\n",
        "完全背包问题可以限制totalCapacity，或者如果totalCapacity限制的同时还限制了n个商品最多只能有n[i]个怎么办，第i个商品最多只能用min(n[i], totalCapacity/ci)个\n",
        "\n",
        "#### 完全背包问题二进制优化\n",
        "用这种办法可以把完全背包问题转换成01背包问题，运算速度加快\n",
        "原理是：**一个正整数n可以被分解成1,2,4,…,2^(k-1),n-(2^k+1)(即n-前面数的和), k是满足n>2^k+1的最大整数，且1～n之内的所有整数均可以唯一表示成这些数中某几个数的和的形式。**\n",
        "\n",
        "那么完全背包问题可以看成01背包问题，比如c=[2, 6], totalCapacity = 20, 那么物品1可以选择最多10件，c1可以看成选 1, 2, 4, 3  * c1 四种商品，因为不管选几件，都可以用这四种新商品表示出来，同理对6可以选择1， 2件。那么问题就变成了c=[2,4,6,8,6,12] 这几种商品的01背包问题。\n"
      ]
    },
    {
      "metadata": {
        "id": "UKWmzYiFyTgi",
        "colab_type": "text"
      },
      "cell_type": "markdown",
      "source": [
        "### 例子：Partition Equal Subset Sum\n",
        "https://leetcode.com/problems/partition-equal-subset-sum/description/\n",
        "这是一个01 背包问题"
      ]
    },
    {
      "metadata": {
        "id": "vz8Yc5tt3LzV",
        "colab_type": "code",
        "colab": {}
      },
      "cell_type": "code",
      "source": [
        "class Solution:\n",
        "    def canPartition(self, nums):\n",
        "        \"\"\"\n",
        "        :type nums: List[int]\n",
        "        :rtype: bool\n",
        "        \"\"\"\n",
        "        sumn = sum(nums)\n",
        "        if sumn%2 != 0:\n",
        "            return False\n",
        "        target = sumn //2\n",
        "        dp = [False] * (target+1)\n",
        "        dp[0] = True\n",
        "        for i in range(len(nums)):\n",
        "            for j in reversed(range(target+1)):\n",
        "                if nums[i] <= j:\n",
        "                    #这里是把二维矩阵改造成一维的思路：先写二维形式，再改写成一维的\n",
        "                    #dp[i][j] = dp[i-1][j] or dp[i][j-nums[i]]\n",
        "                    dp[j] = dp[j] or dp[j-nums[i]]\n",
        "                #else:\n",
        "                    #dp[i][j] = dp[i-1][j]\n",
        "                    #dp[j] = dp[j]\n",
        "        \n",
        "        return dp[-1]"
      ],
      "execution_count": 0,
      "outputs": []
    },
    {
      "metadata": {
        "id": "4LEO4vQLSsKL",
        "colab_type": "text"
      },
      "cell_type": "markdown",
      "source": [
        "### 例子：Ones and Zeroes\n",
        "https://leetcode.com/problems/ones-and-zeroes/description/"
      ]
    },
    {
      "metadata": {
        "id": "zECDeSd_Srkr",
        "colab_type": "code",
        "colab": {}
      },
      "cell_type": "code",
      "source": [
        "class Solution(object):\n",
        "    def findMaxForm(self, strs, m, n):\n",
        "        \"\"\"\n",
        "        :type strs: List[str]\n",
        "        :type m: int\n",
        "        :type n: int\n",
        "        :rtype: int\n",
        "        \"\"\"\n",
        "        # 这是一个01背包问题，对于一个s 可以选择放或者不放 \n",
        "        # dp[i][j][k] = max(dp[i][j][k-1], dp[i-x][j-y][k] + 1) for (x, y) in strs\n",
        "        # 使用bottom up 遍历, (为什么使用reversed?) 可以省略掉k这个维度\n",
        "        dp = [[0] * (n+1) for _ in range(m+1)]\n",
        "        for s in strs:\n",
        "            x, y = s.count(\"0\"), s.count(\"1\")\n",
        "            for i in reversed(range(x, m+1)):\n",
        "                for j in reversed(range(y, n+1)):\n",
        "                    dp[i][j] = max(dp[i][j], dp[i-x][j-y] + 1)\n",
        "        return dp[-1][-1]\n",
        "                        "
      ],
      "execution_count": 0,
      "outputs": []
    },
    {
      "metadata": {
        "id": "-WFmZ_ku2DSf",
        "colab_type": "text"
      },
      "cell_type": "markdown",
      "source": [
        "## 例子：Longest Palindromic Substring\n",
        "动态规划常用矩阵保存遍历状态\n",
        "\n",
        "https://leetcode.com/problems/longest-palindromic-substring/description/\n",
        "\n",
        "dp在这里不是最优算法，但是对于学习dp算法，这个例子很好\n",
        "\n",
        "这里我们假设dp[i][j] 表示 s[i, j] 为回文, value为这个回文的长度 (如果不是回文那么填0)\n",
        "那么：\n",
        "1.  dp[i][j] = dp[i+1][j-1] + 1 if s[i] == s[j ] else 0\n",
        "2.  dp[i][i] = 1\n",
        "3.  dp[i][i+1] = 2 if s[i] == s[i+1] else 0\n",
        "\n",
        "\n",
        "**这种方法不对，比如ccc**\n",
        "dp[i] 表示以 s[i] 结尾的最大回文长度, 那么:\n",
        "\n",
        "```\n",
        "#dp[i] = max(dp[i-1]+2 if s[i]==s[i-d[i-1]-1]\n",
        "#                    , 2 if s[i] == s[i-1]\n",
        "#                    , 1 )\n",
        "```\n",
        "\n",
        "\n",
        " 这个题目也有O(n) 算法, 见下面经典算法一节的 Manacher算法，或者参考 https://www.felix021.com/blog/read.php?2040"
      ]
    },
    {
      "metadata": {
        "id": "hvJOnP7-GbFj",
        "colab_type": "code",
        "colab": {}
      },
      "cell_type": "code",
      "source": [
        "class Solution:\n",
        "    def longestPalindrome(self, s):\n",
        "        \"\"\"\n",
        "        :type s: str\n",
        "        :rtype: str\n",
        "        \"\"\"\n",
        "        a = len(s)\n",
        "        dp = [[0] * a for _ in range(a)]\n",
        "        maxl = 0\n",
        "        left, right = 0, 0 \n",
        "        # 基准情况: 长度为 1, 2的情况\n",
        "        for i in range(len(s)):\n",
        "          dp[i][i] = 1\n",
        "          if i+1 < len(s) and s[i+1] == s[i]:\n",
        "            dp[i][i+1] = 2\n",
        "            left, right = i, i+1\n",
        "            \n",
        "          \n",
        "        # 长度为l， l >= 3的情况\n",
        "        for l in range(3, a+1):\n",
        "          for i in range(len(s)-l+1):\n",
        "            j = i+l-1\n",
        "            if s[i] == s[j] and dp[i+1][j-1] != 0:\n",
        "              dp[i][j] = dp[i+1][j-1] + 2\n",
        "              left, right = i, j\n",
        "        #print(dp)\n",
        "        return s[left:right+1]\n",
        "    \n",
        "    # O(n)解法:Manacher算法\n",
        "    def longestPalindrome(self, s):\n",
        "        \"\"\"\n",
        "        :type s: str\n",
        "        :rtype: str\n",
        "        \"\"\"\n",
        "        if not s:\n",
        "            return s\n",
        "        A = \"@#\" + \"#\".join(s) + \"#$\"\n",
        "        center, right = 0, 0\n",
        "        z = [0] * len(A)\n",
        "        for i in range(1, len(A) - 1):\n",
        "            if i < right:\n",
        "                z[i] = min(right-i, z[2*center-i])\n",
        "            while A[i + z[i] + 1] == A[i - z[i] - 1]:\n",
        "                z[i] += 1\n",
        "            if z[i] + i > right:\n",
        "                center, right = i, z[i] + i     \n",
        "        maxr, maxi = max((z[i], i) for i in range(len(z)))\n",
        "        return A[maxi-maxr:maxi+maxr+1].replace(\"#\",\"\")\n",
        "                \n",
        "          \n",
        "           "
      ],
      "execution_count": 0,
      "outputs": []
    },
    {
      "metadata": {
        "id": "WhJWgCUEAo6_",
        "colab_type": "code",
        "colab": {}
      },
      "cell_type": "code",
      "source": [
        "print(Solution().longestPalindrome(\"ccc\"))"
      ],
      "execution_count": 0,
      "outputs": []
    },
    {
      "metadata": {
        "id": "ePQa6AF-I2QZ",
        "colab_type": "text"
      },
      "cell_type": "markdown",
      "source": [
        "## 例子：# Regular Expression Matching\n",
        "https://leetcode.com/problems/regular-expression-matching/description/\n",
        "\n",
        "Given an input string (s) and a pattern (p), implement regular expression matching with support for '.' and '*'.\n",
        "\n",
        "dp[i][j] 表示 p[:i] 匹配 s[:j]\n",
        "\n",
        " 1.  if p[i-1] != \"*\" : dp[i][j] = dp[i - 1][j - 1] && s[j - 1] == p[i - 1]\n",
        " 2.  if p[i-1] == \"*\": 假设 p[i-2] 为 x，那么我们现在假设\n",
        "  1.  x* match了0次，那么dp[i][j] = dp[i - 2][j]\n",
        "  2.  x* match了>=1次，那么dp[i][j] = dp[i][j-1] && x == s[j-1]\n",
        " \n",
        "注意上面写的\"==\" 需要考虑 p为'.' 的情况\n",
        "\n"
      ]
    },
    {
      "metadata": {
        "id": "W3GnoKybBJ5m",
        "colab_type": "code",
        "colab": {}
      },
      "cell_type": "code",
      "source": [
        "class Solution:\n",
        "    def isMatch(self, s, p):\n",
        "        \"\"\"\n",
        "        :type s: str\n",
        "        :type p: str\n",
        "        :rtype: bool\n",
        "        \"\"\"\n",
        "        def singleMatch(s1, p1):\n",
        "          return s1 == p1 or p1 == \".\"\n",
        "        \n",
        "        dp = [[False] * (len(s)+1) for _ in range(len(p)+1)]\n",
        "        dp[0][0] = True\n",
        "        # 边界情况, s为空，p不为空\n",
        "        for i in range(2, len(p) + 1):\n",
        "          dp[i][0] = dp[i-2][0] and p[i-1] == \"*\"\n",
        "        for i in range(1, len(p) + 1):\n",
        "          for j in range(1, len(s) + 1):\n",
        "            if p[i-1] != '*':\n",
        "              dp[i][j] = dp[i - 1][j - 1] and singleMatch(s[j - 1], p[i - 1])\n",
        "            else:\n",
        "              dp[i][j] = dp[i-2][j] or \\\n",
        "                        (dp[i][j-1] and singleMatch(s[j-1], p[i-2]))\n",
        "              \n",
        "        return dp[-1][-1]\n",
        "        \n",
        "        "
      ],
      "execution_count": 0,
      "outputs": []
    },
    {
      "metadata": {
        "id": "UeS0VfU-RY6g",
        "colab_type": "code",
        "colab": {}
      },
      "cell_type": "code",
      "source": [
        "print(Solution().isMatch(\"aab\", \"a*b\"))\n",
        "print(Solution().isMatch(\"baa\", \"ba*\"))\n",
        "print(Solution().isMatch(\"baa\", \"b.*\"))"
      ],
      "execution_count": 0,
      "outputs": []
    },
    {
      "metadata": {
        "id": "UrgwfjoIveRb",
        "colab_type": "text"
      },
      "cell_type": "markdown",
      "source": [
        "## 例子：Jump Game\n",
        "https://leetcode.com/problems/jump-game/description/\n",
        "可以在线性时间内求解，类似一种greed方法，不断扩展可以reach的区域"
      ]
    },
    {
      "metadata": {
        "id": "-nVsBoX5x3_9",
        "colab_type": "text"
      },
      "cell_type": "markdown",
      "source": [
        "## 例子：Jump Game II\n",
        "https://leetcode.com/problems/jump-game-ii/description/\n",
        "\n",
        "这个用dp只是提一个思路，实际上dp算法在leetcode会超时，因为这是一个最坏O(n^2)的算法，**而使用dfs 只要O(n)**"
      ]
    },
    {
      "metadata": {
        "id": "wPoL2u5Ax_BX",
        "colab_type": "code",
        "colab": {}
      },
      "cell_type": "code",
      "source": [
        "class Solution(object):\n",
        "    def jumpDP(self, nums):\n",
        "        \"\"\"\n",
        "        :type nums: List[int]\n",
        "        :rtype: int\n",
        "        \"\"\"\n",
        "        if len(nums) < 2:\n",
        "            return 0\n",
        "        dp = [0] * len(nums)\n",
        "        for i in reversed(range(0, len(nums) - 1)):\n",
        "            n = nums[i]\n",
        "            if n > 0:\n",
        "                dp[i] = min([dp[i + j] + 1 if i + j < len(dp) else 1 for j in range(1, n + 1)])\n",
        "            else:\n",
        "                dp[i] = 999999\n",
        "\n",
        "        return dp[0]   \n",
        "     \n",
        "    def jumpDFS(self, nums):\n",
        "        \"\"\"\n",
        "        :type nums: List[int]\n",
        "        :rtype: int\n",
        "        \"\"\"\n",
        "        n, start, end, step = len(nums), 0, 0, 0 \n",
        "        # start, end 表示当前遍历的这一层的开始、结束位置\n",
        "        #  比如对于23114遍历的树为\n",
        "        #     2 || 3 1 || 1 1 4\n",
        "        #  对于 2 3 1 0 1 2 1 \n",
        "        #      2 || 3 1 || 0 1 || 2 || 1 \n",
        "        while end < n -1:\n",
        "          step += 1\n",
        "          maxend = end + 1\n",
        "          for i in range(start, end+1):\n",
        "            if i + nums[i] >= n - 1:\n",
        "              return step\n",
        "            maxend = max(maxend, i + nums[i])\n",
        "          start, end = end + 1, maxend\n",
        "        \n",
        "        return step                   "
      ],
      "execution_count": 0,
      "outputs": []
    },
    {
      "metadata": {
        "colab_type": "code",
        "id": "xfHPETMmy_4X",
        "colab": {}
      },
      "cell_type": "code",
      "source": [
        "print(Solution().jumpDP([2,3,1,1,4]))\n",
        "print(Solution().jumpDFS([2,3,1,1,4]))\n",
        "print(Solution().jumpDFS([2,3,1, 0, 1,2,1]))"
      ],
      "execution_count": 0,
      "outputs": []
    },
    {
      "metadata": {
        "id": "7StaqKpSQ99w",
        "colab_type": "text"
      },
      "cell_type": "markdown",
      "source": [
        "## 例子：Edit Distance\n",
        "https://leetcode.com/problems/edit-distance/description/\n",
        "\n",
        "假设dp[i][j] 表示把单词s1 变成 s2的距离。\n",
        "对一个单词w1（s1[:i]）, 要把他变成w2 (s1[:j]), 假设w1末尾是c，w2末尾是d，那么不管w1和w2的长度，都有：\n",
        "- 如果c==d, dp[i][j] == dp[i--1][j--1]\n",
        "- 如果c!=d, 那么可以用d替换c：dp[i][j] == dp[i--1][j--1] + 1\n",
        "-                  可以加上d:  dp[i][j] == dp[i][j--1] + 1\n",
        "-                  可以删除c:  dp[i][j] == dp[i--1][j] + 1\n",
        "\n",
        "```python\n",
        "// 考虑处理末尾的情况，要变一致，末尾肯定是要处理的\n",
        "// case 1\n",
        "-----c\n",
        " ||              \n",
        "------d\n",
        "\n",
        "// case 2\n",
        "-----c\n",
        "  ||               \n",
        "----d\n",
        "\n",
        "// case 3\n",
        "-----c\n",
        "  ||            \n",
        "-----d\n",
        "```\n"
      ]
    },
    {
      "metadata": {
        "id": "UROMEPBGtuRj",
        "colab_type": "text"
      },
      "cell_type": "markdown",
      "source": [
        "##例子： Decode Ways\n",
        "dp技巧，从后往前有时候会方便很多\n",
        "https://leetcode.com/problems/decode-ways/description/"
      ]
    },
    {
      "metadata": {
        "id": "u1axaAB46ZXz",
        "colab_type": "text"
      },
      "cell_type": "markdown",
      "source": [
        "## 例子： Interleaving String\n",
        "\n",
        "https://leetcode.com/problems/interleaving-string/description/\n",
        "\n",
        "这个题除了dp还给了一个有趣的bfs解法\n",
        "\n",
        "\n",
        "Say s1 = \"aab\" and s2 = \"abc\". s3 = \"aaabcb\". Then the board looks like, 看成一个寻路问题，从左上角走到右下角，可以向右或者向下\n",
        "```\n",
        "o--a--o--b--o--c--o\n",
        "|     |     |     |\n",
        "a     a     a     a\n",
        "|     |     |     |\n",
        "o--a--o--b--o--c--o\n",
        "|     |     |     |\n",
        "a     a     a     a\n",
        "|     |     |     |\n",
        "o--a--o--b--o--c--o\n",
        "|     |     |     |\n",
        "b     b     b     b\n",
        "|     |     |     |\n",
        "o--a--o--b--o--c--o\n",
        "```"
      ]
    },
    {
      "metadata": {
        "id": "NRRX3n466p52",
        "colab_type": "code",
        "colab": {}
      },
      "cell_type": "code",
      "source": [
        "class Solution:\n",
        "    def isInterleave(self, s1, s2, s3):\n",
        "        \"\"\"\n",
        "        :type s1: str\n",
        "        :type s2: str\n",
        "        :type s3: str\n",
        "        :rtype: bool\n",
        "        \"\"\"\n",
        "        if len(s3) != (len(s1) + len(s2)):\n",
        "            return False\n",
        "        #dp[i][j] 表示s1[:i], 和s2[:j] 可以isInterleave变成s3[:i+j]\n",
        "        dp = [[False]* (len(s2)+1) for _ in range(len(s1) + 1)]\n",
        "        for i in range(len(s1)+1):\n",
        "            for j in range(len(s2)+1):\n",
        "                if i ==0 and j == 0:\n",
        "                    dp[i][j] = True\n",
        "                else:\n",
        "                    dp[i][j] = (i>=1 and dp[i-1][j] and s1[i-1] == s3[i+j-1]) \\\n",
        "                                or (j >=1 and dp[i][j-1] and s2[j-1] == s3[i+j-1])\n",
        "        return dp[-1][-1]\n",
        "        \n",
        "        "
      ],
      "execution_count": 0,
      "outputs": []
    },
    {
      "metadata": {
        "id": "SYhMvCEuW-bk",
        "colab_type": "text"
      },
      "cell_type": "markdown",
      "source": [
        "## 例子：Best Time to Buy and Sell Stock III\n",
        "https://leetcode.com/problems/best-time-to-buy-and-sell-stock-iii/description/\n",
        "\n",
        "这道题可以看成一个类似背包的问题:\n",
        "\n",
        "```\n",
        "dp[i, j] 为最大i次操作，而且操作到第j个price的最大收益\n",
        "那么（第j个肯定是卖操作）\n",
        "dp[i,j]= max(dp[i,j], prices[i]-prices[j]+dp[k-1, j]) {j=0...i-1}\n",
        "\n",
        "意思是卖任何一个\n",
        "\n",
        "// 临界条件\n",
        "dp[0, j] = 0;\n",
        "dp[i, 0] = 0; \n",
        "```\n",
        "\n",
        "\n",
        "\n",
        "这道题也可以这么看：假设有4次操作buy1, sell1,buy2, sell2\n",
        "，几个变量分别指代几次操作后的收益（buy之后收益是负的），那么操作的目的是尽可能的便宜买贵卖，下面的贪心算法对于一次和两次操作都是有效的，其实这种算法可以看成是dp算法的特殊情况(n=2)\n",
        "```\n",
        "buy1 = Math.max(buy1, -prices[i]);\n",
        "sell1 = Math.max(sell1, buy1 + prices[i]);\n",
        "buy2 = Math.max(buy2, sell1 - prices[i]);\n",
        "sell2 = Math.max(sell2, buy2 + prices[i])\n",
        "```\n",
        "\n",
        "stock问题汇总\n",
        "121. [Best Time to Buy and Sell Stock](https://leetcode.com/problems/best-time-to-buy-and-sell-stock/#/description)\n",
        "122. [Best Time to Buy and Sell Stock II](https://leetcode.com/problems/best-time-to-buy-and-sell-stock-ii/#/description)\n",
        "123. [Best Time to Buy and Sell Stock III](https://leetcode.com/problems/best-time-to-buy-and-sell-stock-iii/#/description)\n",
        "188. [Best Time to Buy and Sell Stock IV](https://leetcode.com/problems/best-time-to-buy-and-sell-stock-iv/#/description)\n",
        "309. [Best Time to Buy and Sell Stock with Cooldown](https://leetcode.com/problems/best-time-to-buy-and-sell-stock-with-cooldown/#/description)\n",
        "714. [Best Time to Buy and Sell Stock with Transaction Fee](https://leetcode.com/problems/best-time-to-buy-and-sell-stock-with-transaction-fee/description/)\n",
        "\n",
        "一个比较通用的模式\n",
        "```\n",
        "[时间][交易次数][卖0，买1]\n",
        "T[i][k][0] = max(T[i-1][k][0], T[i-1][k][1] + prices[i])\n",
        "T[i][k][1] = max(T[i-1][k][1], T[i-1][k-1][0] - prices[i])\n",
        "```"
      ]
    },
    {
      "metadata": {
        "id": "MdDQvAgvuXSR",
        "colab_type": "text"
      },
      "cell_type": "markdown",
      "source": [
        "## 例子：Best Time to Buy and Sell Stock with Cooldown\n",
        "\n",
        "https://leetcode.com/problems/best-time-to-buy-and-sell-stock-with-cooldown/description/"
      ]
    },
    {
      "metadata": {
        "id": "iU1EpQrd3tXb",
        "colab_type": "code",
        "colab": {}
      },
      "cell_type": "code",
      "source": [
        "# 和Sell Stock III思路相同\n",
        "class Solution:\n",
        "    def maxProfit(self, prices):\n",
        "        \"\"\"\n",
        "        :type prices: List[int]\n",
        "        :rtype: int\n",
        "        \"\"\"\n",
        "        n = len(prices)\n",
        "        b, s = [float(\"-inf\")]*(n+1), [0]*(n+2)\n",
        "        # 这里第i天对应b[i+1]和s[i+2]\n",
        "        for i in range(n):\n",
        "            b[i+1] = max(s[i] - prices[i], b[i])\n",
        "            s[i+2] = max(s[i+1], b[i+1] + prices[i])\n",
        "            \n",
        "        return s[-1]"
      ],
      "execution_count": 0,
      "outputs": []
    },
    {
      "metadata": {
        "id": "XvvuDNPcFyib",
        "colab_type": "text"
      },
      "cell_type": "markdown",
      "source": [
        "## 例子：Palindrome Partitioning II\n",
        "https://leetcode.com/problems/palindrome-partitioning-ii/description/\n",
        "\n",
        "dp[i] 表示 s[:i+1] 最少cut 多少次那么 :\n",
        "\n",
        "dp[i] = min ( dp[j - 1] + 1 (j <= i), if s[j, i] is palindrome )\n",
        "\n",
        "而 s[j, i] 是palindrome也可以用dp 也解决\n",
        "\n",
        "dps[j, i] = dps[j +1, i-1] if s[i] == s[j]\n",
        "\n",
        "```\n",
        "a   b   a   |   c  c\n",
        "                j  i\n",
        "       j-1  |  [j, i] is palindrome\n",
        "   cut(j-1) +  1\n",
        "```\n"
      ]
    },
    {
      "metadata": {
        "id": "vIYzMjjKTo1M",
        "colab_type": "code",
        "colab": {}
      },
      "cell_type": "code",
      "source": [
        "class Solution:\n",
        "    def minCut(self, s):\n",
        "        dpCut = [0] * len(s)\n",
        "        dpPalindrome = [[False] * len(s) for _ in range(len(s))]\n",
        "        for i in range(len(s)):\n",
        "            dpCut[i] = i\n",
        "            for j in range(i+1):\n",
        "                if s[j] == s[i] and (j+1 > i-1 or dpPalindrome[j+1][i-1]):\n",
        "                    dpPalindrome[j][i] = True\n",
        "                    dpCut[i] = 0 if j == 0 else min(dpCut[i], dpCut[j-1] + 1)    \n",
        "        return dpCut[-1]"
      ],
      "execution_count": 0,
      "outputs": []
    },
    {
      "metadata": {
        "id": "q62TAfcl2ha9",
        "colab_type": "text"
      },
      "cell_type": "markdown",
      "source": [
        "## 例子：# DP变化- Burst Balloons and Remove Boxes\n",
        "\n",
        "\n",
        "**Burst Balloons**\n",
        "\n",
        "https://leetcode.com/problems/burst-balloons/description/\n",
        "\n",
        "\n",
        "dp的思路是选第一个，下面列出了两种解法\n",
        "\n",
        "这类dp问题很难找到递推关系：因为不是self-contained，问题本身依赖于问题的外部变量. In this case, I shall call that the definition of the subproblem is not self-contained and its solution relies on information external to the subproblem itself. 这时候就需要变化一些递推关系，比如Burst Balloons里面如果用T(i, j)表示i~j 的结果就不行，因为同时依赖nums[i-1] 和 nums[j+1], 变化一下：用T(i, j) 表示 i+1~j-1之间的结果, 那么就变成了一个self contain的问题，这时候: \n",
        "\n",
        "```python\n",
        "T(i, j) = max(T(i, k) + T(k, j) + nums[i]*nums[k]*nums[j] for k in range(i+1, j))\n",
        "```\n",
        "\n",
        "**Remove Boxes** \n",
        "\n",
        "https://leetcode.com/problems/remove-boxes/description/\n",
        "\n",
        "这道题类似，直接找递推关系很困难，直接dfs是肯定会TLE的(O(n!))\n",
        "T(i, j) 不仅和自己有关，还和自己外面的变量有关系\n",
        "```\n",
        "假设我们要找这样的递推关系:\n",
        "T(i, j) = T(i+k, j) + k*k (i~k+i-1)是相同的\n",
        "这个式子其实没有表达出最优解，因为这个式子表示remove i和他相邻的，但是其实这一段可以留着之后再remove可能结果更好\n",
        "\n",
        "为了表达这种关系，我们引进了k，表示在i左边有的和i相同的颜色的盒子的个数\n",
        "那么我们要求解的就是i\n",
        "T(0, n-1, 0)\n",
        "\n",
        "递推关系变成了 \n",
        "T(i, j, k) = \n",
        "max:\n",
        "  T(i+k, j) + (k+1)*(k+1)\n",
        "  T(i+1, m-1, 0) + T(m, j, k+1) for m in (i, j) if m颜色 == i\n",
        "```\n",
        "**Strange Printe**\n",
        "\n",
        "https://leetcode.com/problems/strange-printer/description/"
      ]
    },
    {
      "metadata": {
        "id": "B2RohTj72ua5",
        "colab_type": "code",
        "colab": {}
      },
      "cell_type": "code",
      "source": [
        "class Solution:\n",
        "    def maxCoins1(self, nums):\n",
        "        \"\"\"\n",
        "        :type nums: List[int]\n",
        "        :rtype: int\n",
        "        \"\"\"\n",
        "        # 使用递归比较好理解, 关键是选哪个作为最后一个（第一个为什么不行: 这会影响border）, 这里求i -- j  !! 不包括 i, j\n",
        "        def dp(i, j, nums, dic):\n",
        "            # j -i = 1的情况其实就是没有 \n",
        "            if (i, j) in dic or j - i == 1:\n",
        "                return dic.get((i, j), 0)\n",
        "            else:\n",
        "                ret = max(dp(i, k, nums, dic) + dp(k, j, nums, dic) + nums[i]*nums[k]*nums[j] for k in range(i+1, j))\n",
        "                dic[(i, j)] = ret\n",
        "                return ret\n",
        "        nums = [1] + nums + [1]\n",
        "        return dp(0, len(nums)-1, nums, {})\n",
        "        \n",
        "        \n",
        "    # 不用递归就要bottom up,这个 bottom-up的方式应该是gap从2->n \n",
        "    def maxCoins(self, nums):\n",
        "        nums = [1] + nums + [1] # build the complete array \n",
        "        n = len(nums)\n",
        "        dp = [[0] * n for _ in range(n)]\n",
        "        for gap in range(2, n):\n",
        "            for left in range(0, n - gap):\n",
        "                right = left + gap\n",
        "                for i in range(left + 1,right):\n",
        "                    dp[left][right] = max(dp[left][right],\n",
        "                       nums[left] * nums[i] * nums[right] + dp[left][i] + dp[i][right])\n",
        "        return dp[0][n-1]\n",
        "                    \n",
        "        "
      ],
      "execution_count": 0,
      "outputs": []
    },
    {
      "metadata": {
        "id": "xzCdy2lcnCUg",
        "colab_type": "code",
        "colab": {}
      },
      "cell_type": "code",
      "source": [
        "class Solution(object):\n",
        "    def removeBoxes(self, boxes):\n",
        "        \"\"\"\n",
        "        :type boxes: List[int]\n",
        "        :rtype: int\n",
        "        \"\"\"\n",
        "        def helper(boxes, i, j, k, dp):\n",
        "            if i > j:\n",
        "                return 0\n",
        "            if (i, j, k) in dp:\n",
        "                return dp[(i, j, k)]\n",
        "            \n",
        "            # 前面颜色相同的，注意这里会留一个i\n",
        "            while i + 1 < j and boxes[i+1] == boxes[i]:\n",
        "                i += 1\n",
        "                k += 1\n",
        "                \n",
        "            ret = (k+1)**2 + helper(boxes, i+1, j, 0, dp)\n",
        "            for m in range(i+1, j+1):\n",
        "                if boxes[m] == boxes[i]:\n",
        "                    ret = max(ret, helper(boxes, i + 1, m - 1, 0, dp) + helper(boxes, m, j, k + 1, dp))\n",
        "            \n",
        "            dp[(i, j, k)] = ret\n",
        "            return ret\n",
        "            \n",
        "        return helper(boxes, 0, len(boxes)-1, 0, {})\n",
        "        "
      ],
      "execution_count": 0,
      "outputs": []
    },
    {
      "metadata": {
        "id": "TivIWdE6A_nj",
        "colab_type": "text"
      },
      "cell_type": "markdown",
      "source": [
        "## 例子：# Largest Sum Less Than K\n",
        "一个数组list = [a1, a2, a3, a4];\n",
        "- 对于largest sum（最大连续和）的问题，可以很容易的有O(n)的解：使用类似dp的算法，以i结尾的largest sum为dp[i], dp[i] = max(dp[i-1] + list[i], list[i])\n",
        "- 连续和的拓展：比如拓展到矩阵，求最大sum的子矩阵，那么可以对列遍历start，end，求出和范围内的和，那么这个问题就转化成了一维的largest sum问题\n",
        "- 连续和的另一个变种[Maximum Sum Circular Subarray](https://leetcode.com/problems/maximum-sum-circular-subarray/)（最大连续和的一个变种），solution里面的前三种解法值得记住。\n",
        " - 方法1是先找单边的最大连续和，再找跨边界的连续和\n",
        " - 方法2比较通用，找限定了长度的连续和，本质就是找S[j] - S[i]而且j-i<k; 这中情况可以用一个队列解决，保持队列头为最小，且递增，且队列头不能过远。\n",
        " - 方法3是一个有技巧的办法：因为是一个循环的队列，那么求出所有的和S，再求出负队列的最大连续和/或者最小连续和，相加/减就是首位相接的最大连续和。[这里](https://leetcode.com/problems/maximum-sum-circular-subarray/discuss/178422/C%2B%2BJavaPython-One-Pass)也是这种思路，one pass解决了这个问题。\n",
        "- 对于largest sum < k的问题，类似的s[i] 表示 sum(list[:i+1])，那么largetsum[i] = sum[i] - lowerbound(sum[i] - k); lowerbound在c++等里面可以用红黑树实现的数据结构来求解，对于python可以用bisect.bisect_left， 比如https://leetcode.com/problems/max-sum-of-rectangle-no-larger-than-k"
      ]
    },
    {
      "metadata": {
        "id": "vtPPCDtOCri7",
        "colab_type": "code",
        "colab": {}
      },
      "cell_type": "code",
      "source": [
        "import bisect\n",
        "def LargestSumLessThanK(l, k):\n",
        "  slist = [0]\n",
        "  cursum = 0\n",
        "  best = 0\n",
        "  maxsum = -99999\n",
        "  for n in l:\n",
        "    cursum += n\n",
        "    i = bisect.bisect_left(slist, cursum - k)\n",
        "    if i < len(slist):\n",
        "      best = cursum - slist[i]\n",
        "    bisect.insort(slist, n)\n",
        "    maxsum = max(maxsum, best)\n",
        "  return maxsum\n",
        "    \n",
        "print(LargestSumLessThanK([1,2,-1,3,-4], 2))\n",
        "print(LargestSumLessThanK([1,2,-1,3,-4,9, -5], 15))"
      ],
      "execution_count": 0,
      "outputs": []
    },
    {
      "metadata": {
        "id": "hr8wsOodXhKM",
        "colab_type": "text"
      },
      "cell_type": "markdown",
      "source": [
        "## 例子：Wiggle Subsequence\n",
        "https://leetcode.com/problems/wiggle-subsequence/description/\n",
        "\n",
        "dp算法最重要的就是找到一个递推关系，很多情况下，递推关系并不能直接从题目中得到，需要稍微做一些变换。\n",
        "\n",
        "这道题目的变换很有意思，因为是Wiggle，同时用了两个dp： up，down 分别表示看到i 为止（sequence 可以不包括i），最后一位是上升的sequence 和 最后是下降的 sequence 的长度"
      ]
    },
    {
      "metadata": {
        "id": "udbamJUVZzQI",
        "colab_type": "code",
        "colab": {}
      },
      "cell_type": "code",
      "source": [
        "class Solution:\n",
        "    def wiggleMaxLength(self, nums):\n",
        "        \"\"\"\n",
        "        :type nums: List[int]\n",
        "        :rtype: int\n",
        "        \"\"\"\n",
        "        # up[] and down[] : max wiggle sequence length so far at index i.\n",
        "        # 看到i, 并且wiggle sequence里面最后一个分别是（和sequence前面相比）up和down的\n",
        "        # 数字b > a =》 up_with_b = down_with_a + 1, down_with_b = down_with_a\n",
        "        # 并不是end with i, 但是b > a 如果down_with_a并不是end with a,说明 a 比实际的尾大\n",
        "        # 那么b也比它大，所以 up_with_b = down_with_a + 1 还是成立的\n",
        "        if not nums:\n",
        "            return 0\n",
        "        down, up = [0] *len(nums), [0] *len(nums)\n",
        "        down[0] = 1\n",
        "        up[0] = 1\n",
        "        for i in range(1, len(nums)):\n",
        "            if nums[i] > nums[i-1]:\n",
        "                up[i] = down[i-1] + 1\n",
        "                down[i] = down[i-1]\n",
        "            elif nums[i] < nums[i-1]:\n",
        "                down[i] = up[i-1] + 1\n",
        "                up[i] = up[i-1]\n",
        "            else:\n",
        "                down[i] = down[i-1]\n",
        "                up[i] = up[i-1]\n",
        "        return max(down[-1], up[-1])"
      ],
      "execution_count": 0,
      "outputs": []
    },
    {
      "metadata": {
        "id": "myoAGexsGBdh",
        "colab_type": "text"
      },
      "cell_type": "markdown",
      "source": [
        "## 例子：Cherry Pickup\n",
        "\n",
        "https://leetcode.com/problems/cherry-pickup/description/\n",
        "这个例子很有意思，不能直接dp两遍，因为第一次的结果会影响第二次\n",
        "\n",
        "这里有两个**重要**的思路：\n",
        "1. 走几次是固定的，每条都是最短路，可以抽象出一个时间t的概念\n",
        "2. 看成两个人一起走第一个人走到(r1, c1) 第二个人走到(r2, c2) 那么r1+c1 = r2 + c2 = t， 那么这里只要3个变量就够了"
      ]
    },
    {
      "metadata": {
        "id": "lnphaSgUrngK",
        "colab_type": "code",
        "colab": {}
      },
      "cell_type": "code",
      "source": [
        "class Solution:\n",
        "    def cherryPickup(self, grid):\n",
        "        \"\"\"\n",
        "        :type grid: List[List[int]]\n",
        "        :rtype: int\n",
        "        \"\"\"\n",
        "        #这里有两个**重要**的思路：\n",
        "        #1. 走几次是固定的，每条都是最短路，可以抽象出一个时间t的概念\n",
        "        #2. 看成两个人一起走第一个人走到(r1, c1) 第二个人走到(r2, c2) 那么r1+c1 = r2 + c2 = t， 那么这里只要3个变量就够了\n",
        "        #假设每次\n",
        "        n = len(grid)\n",
        "        #dp[i][j]表示在时间t的时候 一个人走到r1另一个人走到r2, 那么在t=2n的时候dp[n-1][n-1]就是要求的结果\n",
        "        dp=[[[-9999]*(2*n-1) for _ in range(n)] for _ in range(n)] \n",
        "        dp[0][0][0] = grid[0][0]\n",
        "        for t in range(1, 2*n-1):\n",
        "            # 对于t时间，i至多在t, 至少在 t-n\n",
        "            for i in range(max(0, t-n+1), min(n, t+1)):\n",
        "                for j in range(max(0, t-n+1), min(n, t+1)):\n",
        "                    # 当前分别在位置 (i, t-i) (j, t-j)\n",
        "                    if grid[i][t-i] == -1 or grid[j][t-j] == -1:\n",
        "                        continue\n",
        "                        \n",
        "                    # 上个时间i,j的位置，i==j那么grid[i][j]肯定已经被采过了\n",
        "                    dp[i][j][t] = max(dp[a][b][t-1] for a, b in [(i-1,j-1), (i-1, j), (i, j-1), (i, j)] if 0<=a and 0<=b)\n",
        "                    dp[i][j][t] += grid[i][t-i] + (grid[j][t-j] if i!= j else 0)\n",
        "                    \n",
        "        return  max(0, dp[-1][-1][-1])\n",
        "                    \n",
        "        "
      ],
      "execution_count": 0,
      "outputs": []
    },
    {
      "metadata": {
        "id": "tRB3KWsvv9jQ",
        "colab_type": "text"
      },
      "cell_type": "markdown",
      "source": [
        "## 例子： New 21 Game\n",
        "https://leetcode.com/problems/new-21-game/description/"
      ]
    },
    {
      "metadata": {
        "id": "Jq-n6muK0Q_Q",
        "colab_type": "code",
        "colab": {}
      },
      "cell_type": "code",
      "source": [
        "class Solution:\n",
        "    def new21Game(self, N, K, W):\n",
        "        \"\"\"\n",
        "        :type N: int\n",
        "        :type K: int\n",
        "        :type W: int\n",
        "        :rtype: float\n",
        "        \"\"\"\n",
        "        # dp[i] 表示任何一次投掷获取到i的概率, 要求的就是sum(dp[K:N+1])\n",
        "        # dp[0] = 1, dp[1] = 1/W ....\n",
        "        # dp[i] = sum(last W dp values) / W\n",
        "        # dp[i] = (d[i-1] + d[i-2] ...d[i-N])/W\n",
        "        # 即 d[i] = sum(d[a]/W for a in range(j-W, j) if a>=0 and a<K)\n",
        "        # 但是这里每次要求sum，效率比较低，那么可以slide window来简化\n",
        "        if K == 0 or N >= K + W: return 1\n",
        "        dp = [0]*(N+1)\n",
        "        dp[0] = 1\n",
        "        slidesum = 1\n",
        "        for i in range(1, N+1):\n",
        "            dp[i] = slidesum / W\n",
        "            if i < K: slidesum += dp[i]\n",
        "            if i - W >= 0: slidesum -= dp[i - W]\n",
        "        return sum(dp[K:N+1])\n"
      ],
      "execution_count": 0,
      "outputs": []
    },
    {
      "metadata": {
        "id": "7orkWmgp4l2l",
        "colab_type": "text"
      },
      "cell_type": "markdown",
      "source": [
        "## 例子：Race Car\n",
        "https://leetcode.com/problems/race-car/description/\n",
        "看分析 https://leetcode.com/problems/race-car/discuss/124326/Summary-of-the-BFS-and-DP-solutions-with-intuitive-explanation"
      ]
    },
    {
      "metadata": {
        "id": "n3a5MC01E22f",
        "colab_type": "text"
      },
      "cell_type": "markdown",
      "source": [
        "## Knight Dialer\n",
        "\n",
        "https://leetcode.com/problems/knight-dialer/\n",
        "这道题O(n)的方法很容易\n",
        "dp的很多问题都是一个转换矩阵的问题：\n",
        "```python\n",
        "x1, x2, x3, x4, x5, x6, x7, x8, x9, x0 = \\\n",
        "    x6 + x8, x7 + x9, x4 + x8, \\\n",
        "    x7 + x9 + x0, 0, x1 + x7 + x0, \\\n",
        "    x2 + x6, x1 + x7, x2 + x4, \\\n",
        "    x4 + x6\n",
        "\n",
        "M = np.matrix([[0, 0, 0, 0, 1, 0, 1, 0, 0, 0],\n",
        "                       [0, 0, 0, 0, 0, 0, 1, 0, 1, 0],\n",
        "                       [0, 0, 0, 0, 0, 0, 0, 1, 0, 1],\n",
        "                       [0, 0, 0, 0, 1, 0, 0, 0, 1, 0],\n",
        "                       [1, 0, 0, 1, 0, 0, 0, 0, 0, 1],\n",
        "                       [0, 0, 0, 0, 0, 0, 0, 0, 0, 0],\n",
        "                       [1, 1, 0, 0, 0, 0, 0, 1, 0, 0],\n",
        "                       [0, 0, 1, 0, 0, 0, 1, 0, 0, 0],\n",
        "                       [0, 1, 0, 1, 0, 0, 0, 0, 0, 0],\n",
        "                       [0, 0, 1, 0, 1, 0, 0, 0, 0, 0]])\n",
        "\n",
        "就是说 [x1, x2, x2, x3...x0] = [x1, x2, x2, x3...x0] * M\n",
        "那么本质就变成了一个求M**x的问题\n",
        "类似数字幂运算，可以转换成一个二分问题\n",
        "\n",
        "```"
      ]
    },
    {
      "metadata": {
        "id": "X3V3LFLohz4W",
        "colab_type": "text"
      },
      "cell_type": "markdown",
      "source": [
        "## Number of Music Playlists\n",
        "https://leetcode.com/problems/number-of-music-playlists\n",
        "\n",
        "dp的关键是找递推关系\n",
        "f(n, l, k)\n",
        "比较容易想到从l入手:\n",
        "- 如果前l-1首歌已经满足要求了，那么最后一首歌只要不和前面的K首重复就可以了:\n",
        "f(n, l, k) = f(n,l-1, k)*(n-k)\n",
        "- 如果前面的l-1首歌还没有满足要求，那么假设他满足了条件n-1, 那么最后一首歌只能选最后一首了(可以是n首中的任意一首的情况)：\n",
        "f(n, l, k) = f(n-1,l-1, k)*(n)\n",
        "\n",
        "即f(n, l, k) = f(n,l-1, k)*(n-k) + f(n-1,l-1, k)*(n)\n"
      ]
    },
    {
      "metadata": {
        "id": "JMfK-SMg4wET",
        "colab_type": "text"
      },
      "cell_type": "markdown",
      "source": [
        "## 例子：Valid Permutations for DI Sequence\n",
        "\n",
        "https://leetcode.com/problems/valid-permutations-for-di-sequence"
      ]
    },
    {
      "metadata": {
        "id": "3qaKoHbnu47f",
        "colab_type": "text"
      },
      "cell_type": "markdown",
      "source": [
        "## 例子：Arithmetic Slices II - Subsequence\n",
        "\n",
        "https://leetcode.com/problems/arithmetic-slices-ii-subsequence"
      ]
    },
    {
      "metadata": {
        "id": "RNLQEf9jzeQX",
        "colab_type": "code",
        "colab": {}
      },
      "cell_type": "code",
      "source": [
        "import collections\n",
        "class Solution(object):\n",
        "    def numberOfArithmeticSlices(self, A):\n",
        "        \"\"\"\n",
        "        :type A: List[int]\n",
        "        :rtype: int\n",
        "        \"\"\"\n",
        "        # 1.遍历range：有时候使用t作为条件比较方便，但没必要出现在i, j中。有时候可能对i 进行多次遍历，而j是隐含的，没必要遍历。\n",
        "        # 2. dp[i][d] = sum(d[j][d] for j in range(i))\n",
        "        #    这里 dp[i][d] 表示以i结尾的至少有两个的且diff 为d的序列个数\n",
        "        dp = [collections.defaultdict(int) for _ in range(len(A))]\n",
        "        c = 0\n",
        "        for i in range(len(A)):\n",
        "            for j in range(i):\n",
        "                diff = A[i] - A[j]\n",
        "                dp[i][diff] += 1\n",
        "                if diff in dp[j]:\n",
        "                    dp[i][diff] += dp[j][diff]\n",
        "                    c += dp[j][diff]\n",
        "        return c"
      ],
      "execution_count": 0,
      "outputs": []
    },
    {
      "metadata": {
        "id": "0QCYn7-EMRRY",
        "colab_type": "text"
      },
      "cell_type": "markdown",
      "source": [
        "## 例子 # Count Distinct Subsequences （总结）\n",
        "\n",
        "https://www.geeksforgeeks.org/count-distinct-subsequences/\n",
        "\n",
        "**dp 常见的思路**\n",
        "- 看最后一个，假设前面的已经满足了\n",
        "- split，假设左右已经满足了\n",
        "- 双dp同时进行\n",
        "- 没有self contain, 扩大ij范围，或者增加k，让问题变成self contain\n",
        "- 条件：取0次或者多次，匹配0次或者多次\n",
        "- 遍历range：有时候使用t作为条件比较方便，但没必要出现在i, j中。有时候可能对i 进行多次遍历，而j是隐含的，没必要遍历。\n",
        "- dp与结果：dp表示结果有时候比较困难，这时候可以用dp间接的表示结果，如果dp是结果的增加(increase)，倒数等。"
      ]
    },
    {
      "metadata": {
        "id": "9KxBbcjmUPzy",
        "colab_type": "text"
      },
      "cell_type": "markdown",
      "source": [
        "# 回溯\n"
      ]
    },
    {
      "metadata": {
        "id": "UV4dHZz5DL5V",
        "colab_type": "text"
      },
      "cell_type": "markdown",
      "source": [
        "## 例子：Sudoku Solver\n",
        "https://leetcode.com/problems/sudoku-solver/discuss/\n"
      ]
    },
    {
      "metadata": {
        "id": "8KRWYtq5hjx4",
        "colab_type": "text"
      },
      "cell_type": "markdown",
      "source": [
        "## 例子：N-Queens\n",
        "https://leetcode.com/problems/n-queens/description/"
      ]
    },
    {
      "metadata": {
        "id": "zcUV-ZO6DOmN",
        "colab_type": "text"
      },
      "cell_type": "markdown",
      "source": [
        "## 例子：Wildcard Matching\n",
        "https://leetcode.com/problems/wildcard-matching/description/\n",
        "\n",
        "这也是一种回溯法，回溯的目标是*match的个数"
      ]
    },
    {
      "metadata": {
        "id": "AChdaozVDXwo",
        "colab_type": "code",
        "colab": {}
      },
      "cell_type": "code",
      "source": [
        "class Solution:\n",
        "    def isMatch(self, s, p):\n",
        "        \"\"\"\n",
        "        :type s: str\n",
        "        :type p: str\n",
        "        :rtype: bool\n",
        "        \"\"\"\n",
        "        si, pi = 0, 0 #表示当前遍历中 s的位置，p的位置\n",
        "        matchsi, starpi = 0, -1 # 表示遍历过程中记录的状态，当前* match的 s 和p的位置，回溯使用\n",
        "        while si < len(s):\n",
        "          if pi < len(p) and (p[pi] == \"?\" or p[pi] == s[si]):\n",
        "            si += 1\n",
        "            pi += 1\n",
        "          elif pi < len(p) and p[pi] == \"*\":\n",
        "            starpi = pi\n",
        "            matchsi = si\n",
        "            pi += 1\n",
        "          elif starpi != -1:\n",
        "            pi = starpi + 1\n",
        "            matchsi += 1\n",
        "            si = matchsi\n",
        "          else:\n",
        "            return False\n",
        "        while pi < len(p) and p[pi] == \"*\":\n",
        "          pi +=1\n",
        "        return pi == len(p)"
      ],
      "execution_count": 0,
      "outputs": []
    },
    {
      "metadata": {
        "id": "WyBKKacFKMr7",
        "colab_type": "text"
      },
      "cell_type": "markdown",
      "source": [
        "## 例子：Expression Add Operators\n",
        "问题的关键在于一种回溯技巧：保存当前加或者减的数，未来遇到乘，就把这个保存的数减或者加上，就是回溯掉之前的加减操作。"
      ]
    },
    {
      "metadata": {
        "id": "2d1yiJZ4Kmm6",
        "colab_type": "code",
        "colab": {}
      },
      "cell_type": "code",
      "source": [
        "class Solution:\n",
        "    def addOperators(self, num, target):\n",
        "        \"\"\"\n",
        "        :type num: str\n",
        "        :type target: int\n",
        "        :rtype: List[str]\n",
        "        \"\"\"\n",
        "        # 利用一种回溯法来加符号 2324 2+3 记住加了3 后面如果是乘号 2+3*2 那么 5-3+3*2 再次记住3*2=6\n",
        "        def helper(ret, path, num, target, pos, val, multed):\n",
        "            if pos == len(num):\n",
        "                if val == target:\n",
        "                    ret.append(path) #end here\n",
        "                return\n",
        "            else:\n",
        "                for i in range(pos, len(num)):\n",
        "                    if i != pos and num[pos] == \"0\":\n",
        "                        return\n",
        "                    curs = num[pos:i+1]\n",
        "                    cur = int(curs)\n",
        "                    if pos == 0:\n",
        "                        helper(ret, path+curs, num, target, i+1, cur, cur)\n",
        "                    else:\n",
        "                        helper(ret, path+\"+\"+curs, num, target, i+1, val+cur, cur)\n",
        "                        helper(ret, path+\"-\"+curs, num, target, i+1, val-cur, -cur)\n",
        "                        helper(ret, path+\"*\"+curs, num, target, i+1, val-multed+multed*cur, multed*cur)\n",
        "        \n",
        "        if len(num) < 1:\n",
        "            return []\n",
        "        ret = []\n",
        "        helper(ret, \"\", num, target, 0, 0, 0)\n",
        "        return ret\n",
        "        "
      ],
      "execution_count": 0,
      "outputs": []
    },
    {
      "metadata": {
        "id": "T7PHnhMlcXXX",
        "colab_type": "text"
      },
      "cell_type": "markdown",
      "source": [
        "# 遍历剪枝技巧\n"
      ]
    },
    {
      "metadata": {
        "id": "bvZWzVbkVnAz",
        "colab_type": "text"
      },
      "cell_type": "markdown",
      "source": [
        "## Largest Rectangle in Histogram\n",
        "https://leetcode.com/problems/largest-rectangle-in-histogram/discuss/\n",
        "\n",
        "这个问题的stack应用方式很常见，遇到大的则push，遇到小的则pop直到满足条件，这种方式在 **转逆波兰式**这个例子里面也看到了，至于这种算法为什么正确，可以画图看一下，其实可以看成是一种剪枝策略"
      ]
    },
    {
      "metadata": {
        "id": "5vJlXBL2BB65",
        "colab_type": "text"
      },
      "cell_type": "markdown",
      "source": [
        "## Unique Substrings in Wraparound String\n",
        "\n",
        "给一个字符串，找其中连续的字串个数，比如ab, abc, zab 都是连续字串。\n",
        "\n",
        "Input: \"zab\"\n",
        "Output: 6\n",
        "Explanation: There are six substrings \"z\", \"a\", \"b\", \"za\", \"ab\", \"zab\" of string \"zab\" in the string s.\n",
        "\n",
        "https://leetcode.com/problems/unique-substrings-in-wraparound-string/description/\n",
        "\n",
        "这道题可以看成dp问题，但是最重要的是统计endwith的技巧\n",
        "\n",
        "1. 首先切分成自问题，可以是startwith或者endwith某个字母的的substring个数为这个问题的子问题，那么只要统计startwith或者endwith某个字母的最长连续字串的长度\n",
        "2. 统计endwith 某个字母 的 substring的最大长度比如 abcd endwith 'd' 的最大长度是4 那么endwith 'd' 的字串个数为4 （abcd, bcd, cd, d）\n",
        "**endwith的思路(很常用)，如果是startwith，统计len会变得很麻烦\n",
        "而统计endwith可以一边遍历，一边统计**"
      ]
    },
    {
      "metadata": {
        "id": "s9Ob8yFERU_a",
        "colab_type": "text"
      },
      "cell_type": "markdown",
      "source": [
        "## Container With Most Water\n",
        "https://leetcode.com/problems/container-with-most-water/solution/\n",
        "\n",
        "这是一个双指针问题，遍历需要O(n^2), 使用剪枝可以变成O(n) \n",
        "剪枝就是要看没有必要遍历的部分，比如这里，我们双指针，长度短的那个以它为一条边的部门经过第一次之后就没有必要再遍历了，因为只会面积更小，不会更大了，所以短边可以往前走。\n",
        "\n",
        "类似的问题还有：https://leetcode.com/problems/trapping-rain-water/description/"
      ]
    },
    {
      "metadata": {
        "id": "5_MWxYTdcxYk",
        "colab_type": "code",
        "colab": {}
      },
      "cell_type": "code",
      "source": [
        "class Solution:\n",
        "    def maxArea(self, height):\n",
        "        \"\"\"\n",
        "        :type height: List[int]\n",
        "        :rtype: int\n",
        "        \"\"\"\n",
        "        left, right = 0, len(height) - 1\n",
        "        area = 0\n",
        "        while left < right:\n",
        "          area = max(area, (right - left) * min(height[left], height[right]))\n",
        "          if height[left] < height[right]:\n",
        "            left+=1\n",
        "          else:\n",
        "            right-=1\n",
        "        return area\n",
        "          "
      ],
      "execution_count": 0,
      "outputs": []
    },
    {
      "metadata": {
        "id": "KIyWLM-FeDiY",
        "colab_type": "code",
        "colab": {}
      },
      "cell_type": "code",
      "source": [
        "print(Solution().maxArea([1,8,6,2,5,4,8,3,7]))"
      ],
      "execution_count": 0,
      "outputs": []
    },
    {
      "metadata": {
        "id": "IOfu-lP58FA4",
        "colab_type": "text"
      },
      "cell_type": "markdown",
      "source": [
        "## Trapping Rain Water II\n",
        "\n",
        "https://leetcode.com/problems/trapping-rain-water-ii/description/\n",
        "\n",
        "这道题把[Trapping Rain Water](https://leetcode.com/problems/trapping-rain-water/description/)拓展到了三维空间，二维空间的Trapping Rain Water用双指针、stack、heap可以解决，**但是要理解解决的本质是循环找小的，从小的往前推进**，用这种思路拓展到三维空间，那么就可以用一个优先队列（堆）来解决这个问题。\n",
        "解法：\n",
        "https://www.youtube.com/watch?v=cJayBq38VYw\n"
      ]
    },
    {
      "metadata": {
        "id": "EglP8gTr8rst",
        "colab_type": "code",
        "colab": {}
      },
      "cell_type": "code",
      "source": [
        "import heapq\n",
        "class Solution:\n",
        "    def trapRainWater(self, heightMap):\n",
        "        \"\"\"\n",
        "        :type heightMap: List[List[int]]\n",
        "        :rtype: int\n",
        "        \"\"\"\n",
        "        # https://leetcode.com/problems/trapping-rain-water/description/\n",
        "        # https://www.youtube.com/watch?v=cJayBq38VYw  \n",
        "        if not heightMap or not heightMap[0]:\n",
        "            return 0\n",
        "        \n",
        "        q = []\n",
        "        m, n = len(heightMap), len(heightMap[0])\n",
        "        visited = [[False]*n for _ in range(m)]\n",
        "        for i in range(m):\n",
        "            for j in range(n):\n",
        "                if i == 0 or j == 0 or i == m-1 or j == n-1:\n",
        "                    heapq.heappush(q, (heightMap[i][j], i, j))\n",
        "                    visited[i][j]=True\n",
        "        suma = 0\n",
        "        while q:\n",
        "            h, i, j = heapq.heappop(q)\n",
        "            for x,y in [(i-1, j),(i+1, j),(i, j-1),(i, j+1)]:\n",
        "                if 0<=x<m and 0<=y<n and not visited[x][y]:\n",
        "                    suma += max(0, h - heightMap[x][y])\n",
        "                    heapq.heappush(q, (max(heightMap[x][y],h), x, y))\n",
        "                    visited[x][y] = True\n",
        "                    \n",
        "        return suma"
      ],
      "execution_count": 0,
      "outputs": []
    },
    {
      "metadata": {
        "id": "ok2iQlrjh22Y",
        "colab_type": "text"
      },
      "cell_type": "markdown",
      "source": [
        "## Maximum Subarray\n",
        "https://leetcode.com/problems/maximum-subarray/description/"
      ]
    },
    {
      "metadata": {
        "id": "vsdqdS09MvsS",
        "colab_type": "text"
      },
      "cell_type": "markdown",
      "source": [
        "## Maximum Product Subarray\n",
        "https://leetcode.com/problems/maximum-product-subarray/description/"
      ]
    },
    {
      "metadata": {
        "id": "ISBjlO-VA6Nf",
        "colab_type": "text"
      },
      "cell_type": "markdown",
      "source": [
        "## Minimum Window Substring\n",
        "https://leetcode.com/problems/minimum-window-substring/description/\n",
        "\n",
        "这个解法里面比较重要的是不是一步到位的：\n",
        "\n",
        "满足条件再 =》 收缩条件 =》 直到不满足条件 =》循环 这是遍历的一个常用技巧\n",
        "\n",
        "针对这个题目，下面的算法对满足条件这件事用一个计数器进行计数，对单个字母也有一个map存计数器，那么重要的条件有：\n",
        "1. if  tmap[a] > 0 => needcount --\n",
        "2. if needcount==0 则满足条件，但是不是最优条件，begin可以再收缩: 收缩到一个位置 tmap[s[begin]] == 0 这下面一步，条件已经不满足了，needcount ++"
      ]
    },
    {
      "metadata": {
        "id": "W0tV-lcFBZni",
        "colab_type": "code",
        "colab": {}
      },
      "cell_type": "code",
      "source": [
        "from collections import defaultdict\n",
        "class Solution:\n",
        "    def minWindow(self, s, t):\n",
        "        \"\"\"\n",
        "        :type s: str\n",
        "        :type t: str\n",
        "        :rtype: str\n",
        "        \"\"\"\n",
        "        tmap = defaultdict(int)  # 需要多少个才能满足条件\n",
        "        needcount = len(t)\n",
        "        begin, end, minbegin, minwindow = 0, 0, 0, 9999999\n",
        "        for i in t:\n",
        "            tmap[i] += 1\n",
        "        while end < len(s):\n",
        "            if tmap[s[end]] > 0 :\n",
        "                needcount -=1\n",
        "            tmap[s[end]] -= 1\n",
        "            end += 1\n",
        "            while needcount == 0:\n",
        "                if end - begin < minwindow:\n",
        "                    minwindow = end - begin\n",
        "                    minbegin = begin\n",
        "                if tmap[s[begin]] == 0:\n",
        "                    needcount += 1\n",
        "                tmap[s[begin]] += 1\n",
        "                begin += 1\n",
        "        if minwindow == 9999999:\n",
        "            return \"\"\n",
        "        result = s[minbegin: minbegin + minwindow]\n",
        "        return result\n",
        "                    "
      ],
      "execution_count": 0,
      "outputs": []
    },
    {
      "metadata": {
        "id": "xXzzwV8xSWAH",
        "colab_type": "text"
      },
      "cell_type": "markdown",
      "source": [
        "## Candy\n",
        "https://leetcode.com/problems/candy/description/\n",
        "\n",
        "这是一个有趣的贪心问题，遍历两遍，第二遍遍历不会破坏第一遍遍历的结果，同时给大家的candy是贪心法最少的"
      ]
    },
    {
      "metadata": {
        "id": "mVGpxWMlFHo3",
        "colab_type": "text"
      },
      "cell_type": "markdown",
      "source": [
        "## House Robber\n",
        "https://leetcode.com/problems/house-robber/description/\n",
        "\n",
        "**这是一个比较经典的问题**\n",
        "\n",
        "可以用类似dp的思路来解, dp[i] 表示偷到第i家，\n",
        "dp[i] = max(dp[i-2] + n[i], dp[i-1])\n",
        "对这个公式可能的疑问是dp[i-1]的时候可能也会偷第i家的，因为对于dp[i-1]可能i-1也没偷，其实这种情况dp[i-1] 就等于 dp[i-2]了，所以这个公式是没问题的。\n"
      ]
    },
    {
      "metadata": {
        "id": "8GaVNfZ3bOH7",
        "colab_type": "text"
      },
      "cell_type": "markdown",
      "source": [
        "## Longest Consecutive Sequence\n",
        "https://leetcode.com/problems/longest-consecutive-sequence/description/\n",
        "\n",
        "对于连续数字abc. 出现次序为 a...b...c 或者 a....c....b, 采用一种左右扩展的策略确定能都合并所有序列\n",
        "\n",
        "```\n",
        "[left1...right1] n [left2...right2]\n",
        " \n",
        "  right1-left1         right2-left2\n",
        "  \n",
        " => \n",
        " \n",
        " [left1...right1] n [left2...right2]\n",
        " \n",
        "  right2-left2 + 1 + right2-left2\n",
        "\n",
        "```\n"
      ]
    },
    {
      "metadata": {
        "id": "-HBhWxmZbzpD",
        "colab_type": "code",
        "colab": {}
      },
      "cell_type": "code",
      "source": [
        "import collections\n",
        "class Solution:\n",
        "    def longestConsecutive(self, nums):\n",
        "        \"\"\"\n",
        "        :type nums: List[int]\n",
        "        :rtype: int\n",
        "        \"\"\"\n",
        "        recodmap = {}\n",
        "        maxn = 0\n",
        "        for n in nums:\n",
        "            if n not in recodmap:\n",
        "                left = recodmap[n-1] if n-1 in recodmap else 0   #以left为一个端点的length\n",
        "                right = recodmap[n+1]  if n+1 in recodmap else 0 #以right为一个端点的length\n",
        "                lengthn = left + right + 1\n",
        "                maxn = max(lengthn, maxn)\n",
        "                recodmap[n] = lengthn\n",
        "                recodmap[n - left] = lengthn  # 更新另一个端点\n",
        "                recodmap[n + right] = lengthn # 更新另一个端点\n",
        "        return maxn\n",
        "        "
      ],
      "execution_count": 0,
      "outputs": []
    },
    {
      "metadata": {
        "id": "4_J0VWb6j6_F",
        "colab_type": "text"
      },
      "cell_type": "markdown",
      "source": [
        "## Search a 2D Matrix II\n",
        "https://leetcode.com/problems/search-a-2d-matrix-ii/description/\n",
        "\n",
        "从哪里开始遍历对这题很重要"
      ]
    },
    {
      "metadata": {
        "id": "eQlDYolBqD_i",
        "colab_type": "text"
      },
      "cell_type": "markdown",
      "source": [
        "##  Longest Substring with At Least K Repeating Characters\n",
        "https://leetcode.com/problems/longest-substring-with-at-least-k-repeating-characters/description/\n",
        "\n",
        "1. divider and conquer的方法是比较容易想出来的，用不足k的的字母作为分割点，来divide"
      ]
    },
    {
      "metadata": {
        "id": "jVbAq2vI2jLu",
        "colab_type": "code",
        "colab": {}
      },
      "cell_type": "code",
      "source": [
        "import collections\n",
        "class Solution:\n",
        "    def longestSubstring1(self, s, k):\n",
        "        \"\"\"\n",
        "        :type s: str\n",
        "        :type k: int\n",
        "        :rtype: int\n",
        "        \"\"\"\n",
        "        for c in set(s):\n",
        "            if s.count(c) < k:\n",
        "                return max(self.longestSubstring(s1, k) for s1 in s.split(c))\n",
        "        return len(s)\n",
        "    \n",
        "    def longestSubstring(self, s, k):\n",
        "        \"\"\"\n",
        "        :type s: str\n",
        "        :type k: int\n",
        "        :rtype: int\n",
        "        \"\"\"\n",
        "        # 算法的原理是 假设unique=2, k=5, 对于一个s满足条件，那么就是2个字母，每个重复大余5次\n",
        "        # 用window来统计noLessThanK的个数，unique < h -> j++; unique > h -> i++\n",
        "        # 如果noLessThanK=unique那么满足条件，\n",
        "        maxl = 0\n",
        "        for h in range(1, 27):\n",
        "            counts = collections.defaultdict(int)\n",
        "            i, j = 0, 0\n",
        "            unique, noLessThanK = 0, 0\n",
        "            while j < len(s) :\n",
        "                if unique <= h:\n",
        "                    if counts[s[j]] == 0:\n",
        "                        unique += 1\n",
        "                    counts[s[j]] += 1\n",
        "                    if counts[s[j]] == k:\n",
        "                        noLessThanK += 1\n",
        "                    j +=1\n",
        "                else:\n",
        "                    if counts[s[i]] == k:\n",
        "                        noLessThanK -= 1\n",
        "                    counts[s[i]] -= 1\n",
        "                    if counts[s[i]] == 0:\n",
        "                        unique -= 1\n",
        "                    i += 1\n",
        "                if unique == h and unique == noLessThanK:\n",
        "                    maxl = max(j - i, maxl)\n",
        "  \n",
        "        return maxl"
      ],
      "execution_count": 0,
      "outputs": []
    },
    {
      "metadata": {
        "id": "4hoOnMUis8XA",
        "colab_type": "text"
      },
      "cell_type": "markdown",
      "source": [
        "## KMP算法\n",
        "https://www.zhihu.com/question/21923021"
      ]
    },
    {
      "metadata": {
        "id": "iWV21sT9tOgK",
        "colab_type": "code",
        "colab": {}
      },
      "cell_type": "code",
      "source": [
        "# ！！！！nexttable是最大相同前缀后缀长度！！！！\n",
        "# 记忆方式 if j == -1 or s0[i] == s1[j]: \n",
        "#            j++,i++, (next[i]=j 求next table 有这句，否则没有）\n",
        "#         else j=next[j]\n",
        "def nextTable(s0):\n",
        "  i, j = 0, -1\n",
        "  next = [0] * (len(s0) + 1)\n",
        "  next[0] = -1         \n",
        "\n",
        "  while i < len(s0):\n",
        "    if j == -1 or s0[i] == s0[j]:\n",
        "      i += 1  \n",
        "      j += 1\n",
        "      next[i] = j\n",
        "    else:\n",
        "      j = next[j]\n",
        "  \n",
        "  return next\n",
        "\n",
        "def KMP(s0, s1):\n",
        "  i, j = 0, -1\n",
        "  next = nextTable(s0)       \n",
        "\n",
        "  while i < len(s0) and j < len(s1):\n",
        "    if j == -1 or s0[i] == s1[j]:\n",
        "      i += 1  \n",
        "      j += 1\n",
        "    else:\n",
        "      j = next[j]\n",
        "  \n",
        "  return i - j if j == len(s1) else -1\n"
      ],
      "execution_count": 0,
      "outputs": []
    },
    {
      "metadata": {
        "id": "q7yBedJ4vAOo",
        "colab_type": "code",
        "colab": {}
      },
      "cell_type": "code",
      "source": [
        "print(nextTable(\"abababca\"))\n",
        "print(nextTable(\"aababca\"))\n",
        "print(KMP(\"abc\", \"bc\"))\n",
        "print(KMP(\"abc\", \"bcd\"))\n",
        "print(KMP(\"acdcdef\", \"cde\"))"
      ],
      "execution_count": 0,
      "outputs": []
    },
    {
      "metadata": {
        "id": "GmNjenHz3nDD",
        "colab_type": "text"
      },
      "cell_type": "markdown",
      "source": [
        "### shortest-palindrome\n",
        "kmp的一个应用，这个主要是用了nextTable，需要理解**nextTable里面记录的是最大相同前缀后缀长度** abcdxxxxxxabcd = > 4\n",
        "https://leetcode.com/problems/shortest-palindrome/description/\n",
        "\n",
        "**回文问题的常见解决办法：nexttable, dp, manacher; #todo:在leetcode找题目总结一下**\n"
      ]
    },
    {
      "metadata": {
        "id": "X7tvapCH6KGP",
        "colab_type": "code",
        "colab": {}
      },
      "cell_type": "code",
      "source": [
        "class Solution(object):\n",
        "    def shortestPalindrome(self, s):\n",
        "        \"\"\"\n",
        "        :type s: str\n",
        "        :rtype: str\n",
        "        \"\"\"\n",
        "        # abcb#bcba => abcba \n",
        "        # dcba#abcd  => dcbbcd\n",
        "        # catacb#bcatac => bcatac[:l - 5] ) + catacb  = bcatacb\n",
        "        def nextTable(s0):\n",
        "          i, j = 0, -1\n",
        "          next = [0] * (len(s0) + 1)\n",
        "          next[0] = -1         \n",
        "\n",
        "          while i < len(s0):\n",
        "            if j == -1 or s0[i] == s0[j]:\n",
        "              i += 1  \n",
        "              j += 1\n",
        "              next[i] = j\n",
        "            else:\n",
        "              j = next[j]\n",
        "          return next\n",
        "        \n",
        "        s0 = s + \"#\" + s[::-1]\n",
        "        nexttable = nextTable(s0)\n",
        "        return s[::-1][:len(s) - nexttable[-1]] + s"
      ],
      "execution_count": 0,
      "outputs": []
    },
    {
      "metadata": {
        "id": "Fbi9EYHIRwKE",
        "colab_type": "text"
      },
      "cell_type": "markdown",
      "source": [
        "### Repeated Substring Pattern\n",
        "https://leetcode.com/problems/repeated-substring-pattern/description/"
      ]
    },
    {
      "metadata": {
        "id": "6plXlFteR2I6",
        "colab_type": "code",
        "colab": {}
      },
      "cell_type": "code",
      "source": [
        "class Solution(object):\n",
        "    def repeatedSubstringPattern1(self, s):\n",
        "        \"\"\"\n",
        "        :type s: str\n",
        "        :rtype: bool\n",
        "        \"\"\"\n",
        "        # 方法1:可以证明\n",
        "        # S = a1,a2...an\n",
        "        # SS = a1,a2..an,a1,a2..an\n",
        "        # SS[1:-1] = a2...an,a1,a2...an-1\n",
        "        # SS[1:-1] contains S =>  S = ak, ak+1...an,..ak-1 == a1,a2...an 而且 k!=1\n",
        "        # 有repeat pattern\n",
        "        return s in (s+s)[1:-1]\n",
        "    \n",
        "    def repeatedSubstringPattern2(self, s):\n",
        "        # 方法2:思路类似找最大前缀后缀长度\n",
        "        # 比如 abcabcabc 对应next表为 0 000123456 \n",
        "        # 那么 有repeat pattern <=> next[-1] != 0 而且 n-next[-1]为pattern len%pattern == 0\n",
        "        i, j = 0, -1\n",
        "        n = len(s)\n",
        "        next = [0]*(n + 1)\n",
        "        next[0] = -1 \n",
        "        while i < n:\n",
        "            if j == -1 or s[i] == s[j]:\n",
        "                i, j = i+1, j+1\n",
        "                next[i] = j\n",
        "            else:\n",
        "                j = next[j]\n",
        "        return next[-1] !=0 and next[-1]%(n-next[-1])==0\n",
        "        \n",
        "    def repeatedSubstringPattern3(self, s):   \n",
        "        # 方法3:使用正则表达式\n",
        "        import re\n",
        "        return re.match(r\"^([a-z]+)\\1+$\", s) != None"
      ],
      "execution_count": 0,
      "outputs": []
    },
    {
      "metadata": {
        "id": "8bTR8pDN6Nab",
        "colab_type": "text"
      },
      "cell_type": "markdown",
      "source": [
        "### 判断旋转词\n",
        "如果对于一个字符串A，将A的前面任意一部分挪到后边去形成的字符串称为A的旋转词。\n",
        "\n",
        "比如A=”12345”,A的旋转词有”12345”,”23451”,”34512”,”45123”和”51234”。\n",
        "\n",
        "对于两个字符串A和B，请判断A和B是否互为旋转词。\n",
        "\n",
        "这个题可以用KMP解，AB为旋转词 <=> 'AA'.contains('B')"
      ]
    },
    {
      "metadata": {
        "id": "t6UTNsUjLw2A",
        "colab_type": "text"
      },
      "cell_type": "markdown",
      "source": [
        "# 贪心算法 Greedy\n",
        "贪心算法通常需要证明，通常可以列举情况用反证法证明\n",
        "\n",
        "贪心算法可以解决的经典问题包括\n",
        "- 部分背包问题：物品可以分割，那么优先vi/wi即可\n",
        "- 最优装载问题\n",
        "- 乘船问题：乘船问题。有 n 个人，第 i 个人重量为 wi 。每艘船的最大载重量均为 C ，且最多只能乘两个人。用最少的船装载所有人。依次选最轻，然后选能和他搭配的最重的。\n",
        "- 区间问题-选择不相交区间：数轴上有n个开区间(ai, bi), 尽量选择尽可能多的不相交区间。方法是按照bi排序，优先选前面的。这个问题换个说法就是日程规划，生产线安排问题的例子。\n",
        "- 区间选点问题：数轴上有n个闭区间[ai, bi]，取尽量少的点，使得每个区间都有一个点。把区间按照bi排序，b相同的时候按照a排序，从前往后优先选择区间最后一个点。\n",
        "- 区间覆盖问题。"
      ]
    },
    {
      "metadata": {
        "id": "-JKnpaK4L6Ln",
        "colab_type": "text"
      },
      "cell_type": "markdown",
      "source": [
        "## Best Time to Buy and Sell Stock II\n",
        "https://leetcode.com/problems/best-time-to-buy-and-sell-stock-ii/description/\n",
        "\n",
        "这道题可以理解成一种贪心算法解决：遇到p>prev 就 profit += p - prev\n",
        "\n",
        "为什么这种算法是对的，只关注递增的数字对：\n",
        "- 假设 a..b..c, a < b < c, 那么 c-b + b -a = c-a 为最优解\n",
        "- 假设 a..b, c..d, a<b, c<d, b>c, 那么b-a+d-c > d-a 为最优解"
      ]
    },
    {
      "metadata": {
        "id": "4aC0gnOo-Cbx",
        "colab_type": "text"
      },
      "cell_type": "markdown",
      "source": [
        "## Best Time to Buy and Sell Stock IV\n",
        "用dp来解决，dp(i,j) is the max profit for up to i transactions by time j (0<=i<=K, 0<=j<=T).\n",
        "\n",
        "```python\n",
        "# dp[i, j] represents the max profit up until prices[j] using at most i transactions. \n",
        "# dp[i, j]=max(dp[i, j-1], prices[j] - prices[jj] + dp[i-1, jj]) { jj in range of [0, j-1] }\n",
        "#         =max(dp[i, j-1], prices[j] + max(dp[i-1, jj] - prices[jj]))\n",
        " \n",
        "\n",
        "# hold 是时间j时，i-1次transactions后再一次买入操作之后的max\n",
        "# dp[i][j] 则是时间j时i次transactions的max\n",
        "# 相当于把dp分成了两块\n",
        "hold =  -prices[0];\n",
        "for j in range(1, T)\n",
        "  dp[i][j] = max(dp[i][j - 1], prices[j] + hold);\n",
        "  hold = max(hold, dp[i - 1][j - 1] - prices[j]);\n",
        "```"
      ]
    },
    {
      "metadata": {
        "id": "1SlbEcWWtnUL",
        "colab_type": "text"
      },
      "cell_type": "markdown",
      "source": [
        "## 例子（重要）：Longest Increasing Subsequence\n",
        "https://leetcode.com/problems/longest-increasing-subsequence/description/\n",
        "\n",
        "dp的解法为O(n^2), 不展开\n",
        "另外一种解法可以做到O(nlgn), 做法是这样：维护一个队列，这个队列表示长度为i+1的队列的tail:\n",
        "```\n",
        "2 1 5 3 6 4 8 9 7\n",
        "---------------------\n",
        "2 : tail = [2] ：长度为2的增序队列的tail为2\n",
        "1 : tail = [1] ：长度为2的增序队列的tail为1, 这里就是贪心策略了，替换了2为1，长度还是1，但是tail为1是为了之后的增序\n",
        "5 : tail = [1, 5]\n",
        "3 : tail = [1, 3]\n",
        "6 : tail = [1, 3, 6]\n",
        "4 : tail = [1, 3, 4]\n",
        "8 : tail = [1, 3, 4, 8]\n",
        "9 : tail = [1, 3, 4, 8, 9]\n",
        "7 : tail = [1, 3, 4, 7, 9]\n",
        "\n",
        "!!!!! 注意。这个1,3,4,7,9不是LIS，它只是存储的对应长度LIS的最小末尾。而且这个长度是和LIS长度相同\n",
        "\n",
        "这个替换Tail的操作可以用二分查找实现，所以是O(nlgn)\n",
        "```\n",
        "\n",
        "\n",
        "另一条类似的题目：\n",
        "https://leetcode.com/problems/increasing-triplet-subsequence/description/\n",
        "\n",
        "这道题目的思路也很重要，算是 Longest Increasing Subsequence的应用程序，本质的是**Find Longest Increasing Pair**  那么可以先sort，然后再Find Longest Increasing Subsequence，排序的时候可以使用一点小技巧，把pair[0]相等，但是pair[1]大的放在前面，这样的好处是在后面一步里面就自动把这个排除了：\n",
        "https://leetcode.com/problems/russian-doll-envelopes/description/"
      ]
    },
    {
      "metadata": {
        "id": "cOlTkNX7tlmq",
        "colab_type": "code",
        "colab": {}
      },
      "cell_type": "code",
      "source": [
        "class Solution:\n",
        "    def lengthOfLIS1(self, nums):\n",
        "        \"\"\"\n",
        "        :type nums: List[int]\n",
        "        :rtype: int\n",
        "        \"\"\"\n",
        "        if not nums:\n",
        "            return 0\n",
        "        dp = [1] * len(nums)\n",
        "        maxn = 0\n",
        "        for i in range(len(nums)):\n",
        "            dp[i] = max([1] + [dp[k] + 1 for k in range(0, i) if nums[i] > nums[k]])\n",
        "            maxn = max(maxn, dp[i])\n",
        "        return maxn\n",
        "    \n",
        "    def lengthOfLIS(self, nums):\n",
        "        \"\"\"\n",
        "        :type nums: List[int]\n",
        "        :rtype: int\n",
        "        \"\"\"\n",
        "        if not nums:\n",
        "            return 0\n",
        "        tail = [nums[0]]\n",
        "        for n in nums[1:]:\n",
        "            # find lowerbound\n",
        "            l, r = -1, len(tail)\n",
        "            while l + 1 < r:\n",
        "                mid = (l + r) // 2\n",
        "                if tail[mid] < n:\n",
        "                    l = mid\n",
        "                else:\n",
        "                    r = mid\n",
        "            if l + 1 >= len(tail):\n",
        "                tail.append(n)\n",
        "            else:\n",
        "                tail[l + 1] = n\n",
        "        return len(tail)"
      ],
      "execution_count": 0,
      "outputs": []
    },
    {
      "metadata": {
        "id": "fgtyA5y3XSh0",
        "colab_type": "text"
      },
      "cell_type": "markdown",
      "source": [
        "## 例子： Patching Array\n",
        "https://leetcode.com/problems/patching-array/description/\n",
        "贪心算法\n",
        "```\n",
        "1, 2, 5, 11\n",
        "1: 覆盖到 1\n",
        "2: 覆盖到 3\n",
        "5: 前面覆盖到3 加4 那么可以覆盖到7， 加5 覆盖到11了\n",
        "\n",
        "\n",
        "换一个角度\n",
        "1: 覆盖到 1 缺 2\n",
        "2: 2<=2, 覆盖到3，缺4\n",
        "5: 5>4, 补4，覆盖到7+5，12，缺13\n",
        "```"
      ]
    },
    {
      "metadata": {
        "id": "0I0QKQjc-B46",
        "colab_type": "code",
        "colab": {}
      },
      "cell_type": "code",
      "source": [
        "class Solution:\n",
        "    def minPatches(self, nums, n):\n",
        "        \"\"\"\n",
        "        :type nums: List[int]\n",
        "        :type n: int\n",
        "        :rtype: int\n",
        "        \"\"\"\n",
        "        miss = 1\n",
        "        added, i = 0, 0\n",
        "        while miss <= n:\n",
        "            if i < len(nums) and nums[i] <= miss:\n",
        "                miss += nums[i]\n",
        "                i += 1\n",
        "            else:\n",
        "                miss += miss\n",
        "                added += 1\n",
        "        return added"
      ],
      "execution_count": 0,
      "outputs": []
    },
    {
      "metadata": {
        "id": "6fPNmy4_0BvU",
        "colab_type": "text"
      },
      "cell_type": "markdown",
      "source": [
        "## 例子：Course Schedule III\n",
        "https://leetcode.com/problems/course-schedule-iii/description/"
      ]
    },
    {
      "metadata": {
        "id": "aBwjK50K0VLT",
        "colab_type": "code",
        "colab": {}
      },
      "cell_type": "code",
      "source": [
        "import heapq\n",
        "class Solution:\n",
        "    def scheduleCourse(self, courses):\n",
        "        \"\"\"\n",
        "        :type courses: List[List[int]]\n",
        "        :rtype: int\n",
        "        \"\"\"\n",
        "        courses = sorted(courses, key=lambda a: a[1])\n",
        "        queue, start = [], 0\n",
        "        for d, e in courses:\n",
        "            start += d\n",
        "            heapq.heappush(queue, -d)\n",
        "            if start > e:\n",
        "            # 如果有能替换它的 让结束时间能满足的，就替换，没有的话，这个又会重新被pop出来\n",
        "            # 所以这里用if就够了 不用while\n",
        "                start += heapq.heappop(queue)\n",
        "        return len(queue)"
      ],
      "execution_count": 0,
      "outputs": []
    },
    {
      "metadata": {
        "id": "sNOfedzXXXav",
        "colab_type": "text"
      },
      "cell_type": "markdown",
      "source": [
        "## 例子：Split Array into Consecutive Subsequences\n",
        "\n",
        "https://leetcode.com/problems/split-array-into-consecutive-subsequences"
      ]
    },
    {
      "metadata": {
        "id": "tbGiJ_rLZEru",
        "colab_type": "code",
        "colab": {}
      },
      "cell_type": "code",
      "source": [
        "import collections \n",
        "class Solution:\n",
        "    def isPossible(self, nums):\n",
        "        \"\"\"\n",
        "        :type nums: List[int]\n",
        "        :rtype: bool\n",
        "        \"\"\"\n",
        "        # tail 是 已经valid的数列\n",
        "        # 对于每个数字，要么他能填到tail中，要么他能形成新的chain\n",
        "        # greddy:优先填到tail中，因为即使它能形成新的chain也可以append到tail\n",
        "        count = collections.Counter(nums)\n",
        "        tail = collections.Counter()\n",
        "        for a in nums:\n",
        "            if not count[a]:\n",
        "                continue\n",
        "            # 能填到tail，更新tail\n",
        "            if tail[a-1]:\n",
        "                tail[a-1] -= 1\n",
        "                tail[a] += 1\n",
        "            #要么他能形成新的chain\n",
        "            elif count[a+1] and count[a+2]:\n",
        "                count[a+1] -= 1\n",
        "                count[a+2] -= 1\n",
        "                tail[a+2] += 1\n",
        "            else:\n",
        "                return False\n",
        "            # a被消费了\n",
        "            count[a] -= 1\n",
        "        return True"
      ],
      "execution_count": 0,
      "outputs": []
    },
    {
      "metadata": {
        "id": "Vwz1skqgEk7F",
        "colab_type": "text"
      },
      "cell_type": "markdown",
      "source": [
        "# 递归/Divide And Conquer\n",
        "递归也可以看成divide and conquer，把大问题变成更小规模的子问题"
      ]
    },
    {
      "metadata": {
        "id": "DUHlN85PEnnk",
        "colab_type": "text"
      },
      "cell_type": "markdown",
      "source": [
        " ## 例子：Different Ways to Add Parentheses"
      ]
    },
    {
      "metadata": {
        "id": "67HOPUrREmvO",
        "colab_type": "code",
        "colab": {}
      },
      "cell_type": "code",
      "source": [
        "class Solution:\n",
        "    def diffWaysToCompute(self, input):\n",
        "        \"\"\"\n",
        "        :type input: str\n",
        "        :rtype: List[int]\n",
        "        \"\"\"\n",
        "        ret = []\n",
        "        for i, a in enumerate(input):\n",
        "            if a in {\"+\", \"-\", \"*\"}:\n",
        "                leftlist, rightlist = self.diffWaysToCompute(input[:i]), self.diffWaysToCompute(input[i+1:])\n",
        "                for left in leftlist:\n",
        "                    for right in rightlist:\n",
        "                        if a == \"+\":\n",
        "                            ret.append(left + right)\n",
        "                        elif a == \"-\":\n",
        "                            ret.append(left - right)\n",
        "                        else:\n",
        "                            ret.append(left * right)\n",
        "        if not ret:\n",
        "            ret.append(int(input))\n",
        "        return ret"
      ],
      "execution_count": 0,
      "outputs": []
    },
    {
      "metadata": {
        "id": "m985K8lD-ppR",
        "colab_type": "text"
      },
      "cell_type": "markdown",
      "source": [
        "## 例子：Remove Duplicate Letters\n",
        "https://leetcode.com/problems/remove-duplicate-letters/description/"
      ]
    },
    {
      "metadata": {
        "id": "OCQEtjzE8Hcb",
        "colab_type": "code",
        "colab": {}
      },
      "cell_type": "code",
      "source": [
        "class Solution:\n",
        "    def removeDuplicateLetters(self, s):\n",
        "        count = [0]*26\t\n",
        "        for a in s:\n",
        "            count[ord(a)-ord('a')]+=1#统计每个字符出现次数\n",
        "\n",
        "        pos = 0\n",
        "        for i in range(len(s)):\n",
        "            if s[i] < s[pos]:\n",
        "                pos = i\n",
        "            count[ord(s[i])-ord('a')]-=1\n",
        "            if count[ord(s[i])-ord('a')] == 0:\n",
        "                break\n",
        "        # if s:\n",
        "        #   print(s, count, s[pos])\n",
        "        return \"\" if len(s)==0 else s[pos] + self.removeDuplicateLetters(s[pos+1:].replace(s[pos],''))"
      ],
      "execution_count": 0,
      "outputs": []
    },
    {
      "metadata": {
        "id": "IFS_HuR38JAr",
        "colab_type": "code",
        "colab": {}
      },
      "cell_type": "code",
      "source": [
        "print(Solution().removeDuplicateLetters(\"cbacdcbc\"))\n",
        "print(Solution().removeDuplicateLetters(\"cbacdcbcd\"))"
      ],
      "execution_count": 0,
      "outputs": []
    },
    {
      "metadata": {
        "id": "KW7hOVW7jYZv",
        "colab_type": "text"
      },
      "cell_type": "markdown",
      "source": [
        "## 例子：Split Array Largest Sum\n",
        "https://leetcode.com/problems/split-array-largest-sum/description/\n",
        "\n",
        "二分查找一个max，这个max的作用是定义cut：\n",
        "1. 如果sum<= max -> cut\n",
        "2. 如果n[i] > max -> 不能cut\n",
        "3. 如果刚好cut > 指定次数 -> False"
      ]
    },
    {
      "metadata": {
        "id": "7OHDIip1lpx5",
        "colab_type": "code",
        "colab": {}
      },
      "cell_type": "code",
      "source": [
        "class Solution:\n",
        "    def splitArray(self, nums, m):\n",
        "        \"\"\"\n",
        "        :type nums: List[int]\n",
        "        :type m: int\n",
        "        :rtype: int\n",
        "        \"\"\"\n",
        "        def work(nums, maxn, cut):\n",
        "            acc = 0\n",
        "            for n in nums:\n",
        "                if n > maxn:\n",
        "                    return False\n",
        "                elif acc + n <= maxn:\n",
        "                    acc += n\n",
        "                else:\n",
        "                    cut -= 1\n",
        "                    acc = n\n",
        "                    if cut < 0:\n",
        "                        return False\n",
        "            return True\n",
        "        \n",
        "        left = max(nums)\n",
        "        right = sum(nums)\n",
        "        while left < right:\n",
        "            mid = (left + right) //2\n",
        "            if work(nums, mid, m-1):\n",
        "                right = mid\n",
        "            else:\n",
        "                left = mid + 1\n",
        "                \n",
        "        return left\n",
        "        \n",
        "        "
      ],
      "execution_count": 0,
      "outputs": []
    },
    {
      "metadata": {
        "id": "SDvrB7BOJw4n",
        "colab_type": "text"
      },
      "cell_type": "markdown",
      "source": [
        "## 例子：Scramble String\n",
        "https://leetcode.com/problems/scramble-string/description/\n",
        "\n",
        "这道题能找到递归的思路就很容易下手了\n",
        "```\n",
        "\n",
        "isScramble(s1, s2)=isScramble(s1[:i], s2[:i]) and isScramble(s1[i:], s2[i:])\\\n",
        "                      or isScramble(s1[:i], s2[-i:]) and isScramble(s1[i:], s2[:-i]) \\\n",
        "                                    for i in range(len)\n",
        "```"
      ]
    },
    {
      "metadata": {
        "id": "YALUHGzAx_I8",
        "colab_type": "text"
      },
      "cell_type": "markdown",
      "source": [
        "## 例子：Special Binary String\n",
        "\n",
        "https://leetcode.com/problems/special-binary-string/description/\n",
        "\n",
        "```python\n",
        "class Solution:\n",
        "    def makeLargestSpecial(self, S):\n",
        "        \"\"\"\n",
        "        :type S: str\n",
        "        :rtype: str\n",
        "        \"\"\"\n",
        "        # Special binary strings\n",
        "        # 第一个字符肯定是1 最后一个字符肯定是0 \n",
        "        # 如何prefix是 Special binary strings 那么后缀肯定也是Special binary strings (连续，可以直接sort)\n",
        "        # 一个Special binary strings a 要么可以拆成几个连续的Special binary strings 要么 a[1:-1]是Special binary strings\n",
        "        # 所以不管怎么样都是可以变成更小的子问题的\n",
        "        # 这个问题也可以看成是括号的问题 (()) 或者()()\n",
        "        c1, i = 0, 0\n",
        "        l = []\n",
        "        for j, a in enumerate(S):\n",
        "            c1 += 1 if a == \"1\" else -1\n",
        "            if c1 == 0:\n",
        "                l.append(\"1\" + self.makeLargestSpecial(S[i+1:j]) + \"0\")\n",
        "                i = j+1\n",
        "        return \"\".join(sorted(l, reverse=True))\n",
        "```"
      ]
    },
    {
      "metadata": {
        "id": "63ph2k_y8si3",
        "colab_type": "text"
      },
      "cell_type": "markdown",
      "source": [
        "## 例子：# K-th Smallest Prime Fraction\n",
        "https://leetcode.com/problems/k-th-smallest-prime-fraction/description/\n",
        "**这是个很好的例子，当二分的条件不再明显的时候，如果构造出这样的边界和条件**\n",
        "\n",
        "看这个总结\n",
        "\n",
        "https://leetcode.com/problems/k-th-smallest-prime-fraction/discuss/115819/Summary-of-solutions-for-problems-%22reducible%22-to-LeetCode-378\n",
        "\n",
        "https://leetcode.com/problems/find-k-th-smallest-pair-distance/discuss/109082/Approach-the-problem-using-the-%22trial-and-error%22-algorithm"
      ]
    },
    {
      "metadata": {
        "id": "TrOwNTSG8-bx",
        "colab_type": "code",
        "colab": {}
      },
      "cell_type": "code",
      "source": [
        "import bisect\n",
        "class Solution:\n",
        "    def kthSmallestPrimeFraction(self, A, K):\n",
        "        \"\"\"\n",
        "        :type A: List[int]\n",
        "        :type K: int\n",
        "        :rtype: List[int]\n",
        "        \"\"\"\n",
        "        l, r, N = 0, 1, len(A)\n",
        "        while True:\n",
        "            mid = (l + r)/2\n",
        "            # 固定a 找b 然 a/b<=mid 即 b>=a/mid\n",
        "            border = [bisect.bisect_left(A, a/mid) for a in A]\n",
        "            count_lesseq_than_mid = sum(N-i for i in border)\n",
        "            if count_lesseq_than_mid < K:\n",
        "                l = mid\n",
        "            elif count_lesseq_than_mid > K:\n",
        "                r = mid\n",
        "            else:\n",
        "                # 寻找距离border 最近的里面最大的\n",
        "                return max([[A[i], A[j]] for (i, j) in enumerate(border) if j < N],  key=lambda x: x[0] / x[1])\n",
        "            \n",
        "            "
      ],
      "execution_count": 0,
      "outputs": []
    },
    {
      "metadata": {
        "id": "z3kf_tQNhH9G",
        "colab_type": "text"
      },
      "cell_type": "markdown",
      "source": [
        "## 例子：Find K-th Smallest Pair Distance\n",
        "同K-th Smallest Prime Fraction\n",
        "\n",
        "https://leetcode.com/problems/find-k-th-smallest-pair-distance"
      ]
    },
    {
      "metadata": {
        "id": "EJpUcHsTayxc",
        "colab_type": "text"
      },
      "cell_type": "markdown",
      "source": [
        "## 例子：Rotated Digits\n",
        "https://leetcode.com/problems/rotated-digits/description/"
      ]
    },
    {
      "metadata": {
        "id": "d3N6jAA5azaz",
        "colab_type": "code",
        "colab": {}
      },
      "cell_type": "code",
      "source": [
        "import bisect\n",
        "class Solution:\n",
        "    # 这种算法值得记住，很好理解 也比较常见，这里面还可以加memo table用于加速，这里省略了\n",
        "    def rotatedDigits(self, N):\n",
        "        \"\"\"\n",
        "        :type N: int\n",
        "        :rtype: int\n",
        "        \"\"\"\n",
        "        a = [0, 1, 2, 5, 6, 8, 9]\n",
        "        b = [0, 1, 8]\n",
        "        \n",
        "        # 数字取candis里面的值，组成的 1-N 范围的数字 数量\n",
        "        def helper(candis, N):\n",
        "            \n",
        "            NS = str(N)\n",
        "            if len(NS) == 1:\n",
        "                i = bisect.bisect_left(candis, N)\n",
        "                if i < len(candis) and candis[i] == N:\n",
        "                    i += 1\n",
        "                return i\n",
        "            first = int(NS[0])\n",
        "            i = bisect.bisect_left(candis, first)\n",
        "            # 如果第一位取的数字小于first，那么后面都可以取 9 \n",
        "            # 如果第一位取的数字等于first，那么后面的算int(NS[1:]) 就可以\n",
        "            b = (10**(len(NS) - 1)) - 1\n",
        "            if i < len(candis) and candis[i] == first:\n",
        "                a =  i*helper(candis, b) + helper(candis, int(NS[1:]))\n",
        "                return a \n",
        "            else:\n",
        "                a =  i*helper(candis, b)\n",
        "                return a\n",
        "                \n",
        "            \n",
        "        return helper(a, N) - helper(b, N)\n",
        "        \n",
        "        "
      ],
      "execution_count": 0,
      "outputs": []
    },
    {
      "metadata": {
        "id": "EkgwrN-TiLnL",
        "colab_type": "text"
      },
      "cell_type": "markdown",
      "source": [
        "# 几何\n",
        "\n",
        "常见的几何算法：\n"
      ]
    },
    {
      "metadata": {
        "id": "y8fIiRfiiORt",
        "colab_type": "text"
      },
      "cell_type": "markdown",
      "source": [
        "## 例子：Perfect Rectangle\n",
        "https://leetcode.com/problems/perfect-rectangle"
      ]
    },
    {
      "metadata": {
        "id": "qO-NZV0vMb6L",
        "colab_type": "text"
      },
      "cell_type": "markdown",
      "source": [
        "# 经典算法\n",
        "值得记住\n"
      ]
    },
    {
      "metadata": {
        "id": "i7WtWZT-lYE7",
        "colab_type": "text"
      },
      "cell_type": "markdown",
      "source": [
        "## 卡特兰数问题的变种\n",
        "https://zh.wikipedia.org/wiki/%E5%8D%A1%E5%A1%94%E5%85%B0%E6%95%B0"
      ]
    },
    {
      "metadata": {
        "id": "Q0ub02czlhZJ",
        "colab_type": "text"
      },
      "cell_type": "markdown",
      "source": [
        "### Generate Parentheses\n",
        "https://leetcode.com/problems/generate-parentheses/description/\n",
        "\n",
        "卡特兰数问题的解个数为C(2n, n)/(n+1)\n",
        "比如 n =3, 解为6!/(3!*3!*4) = 5\n",
        "\n",
        "\n",
        "卡特兰数问题一般都可以用**递归**或者**dp**(如果只要求个数，而不是具体的解)来解，再比如这道题\n",
        "[Unique Binary Search Trees](https://leetcode.com/problems/unique-binary-search-trees-ii/description/)"
      ]
    },
    {
      "metadata": {
        "id": "BCYeko2wmEAX",
        "colab_type": "code",
        "colab": {}
      },
      "cell_type": "code",
      "source": [
        "class Solution:\n",
        "    def generateParenthesis(self, n):\n",
        "        \"\"\"\n",
        "        :type n: int\n",
        "        :rtype: List[str]\n",
        "        \"\"\"\n",
        "        def helper(left, right, s, slist):\n",
        "          if left == 0 and right == 0:\n",
        "            slist.append(s)\n",
        "          if left > 0:\n",
        "            helper(left-1, right, s + \"(\", slist)\n",
        "          if right > 0 and left < right:\n",
        "            helper(left, right - 1, s + \")\", slist)\n",
        "        \n",
        "        alist = []\n",
        "        helper(n, n, \"\", alist)\n",
        "        return alist\n",
        "\n",
        "print(Solution().generateParenthesis(3))"
      ],
      "execution_count": 0,
      "outputs": []
    },
    {
      "metadata": {
        "id": "zWamZrh-x0pf",
        "colab_type": "text"
      },
      "cell_type": "markdown",
      "source": [
        "## FindTarget/LowerBound/UpperBound\n",
        "这几个算法要熟记，常是其他算法的子程序\n",
        "实现方式比较多，建议熟记一种，直接写出来：\n",
        "\n",
        "|算法|初始化| 更新方式 | 返回 |\n",
        "|---|--|--|--|\n",
        "|FindTarget|start, end = 0, len -1| start = mid + 1/ end = mid - 1/ return mid| return -1\n",
        "|LowerBound|start, end = 0, len|start = mid+1/ end = mid |return start\n",
        "|UpperBound|start, end = 0, len|start = mid+1/ end = mid | return start\n"
      ]
    },
    {
      "metadata": {
        "id": "Mqpx2q3d5n__",
        "colab_type": "code",
        "colab": {}
      },
      "cell_type": "code",
      "source": [
        "# 这几个个函数可以当成模版记住！！\n",
        "# 这是传统的实现方式 『当target只有一个的时候』：\n",
        "def findTarget(list, target):\n",
        "    start = 0\n",
        "    end = len(list) - 1\n",
        "    # 注意这里是end = len(a)-1; <=\n",
        "    while start <= end:\n",
        "        mid = (start + end)//2\n",
        "        if list[mid] < target:\n",
        "            start = mid + 1\n",
        "        elif list[mid] > target:\n",
        "            end = mid - 1\n",
        "        else:\n",
        "            return mid\n",
        "    return -1\n",
        "\n",
        "# >= target的最小值\n",
        "def lowerBound(a, x):\n",
        "#def bisect.bisect_left(a, x):\n",
        "    lo, hi = 0, len(a)\n",
        "    # 注意这里hi = len(a); <\n",
        "    while lo < hi:\n",
        "        mid = (lo+hi)//2\n",
        "        if a[mid] < x: lo = mid+1\n",
        "        else: hi = mid\n",
        "#     return lo #这里从bisect改成这样是为了防御极端情况\n",
        "    return lo if lo<len(a) and a[lo] >= x else -1\n",
        "\n",
        "\n",
        "\n",
        "# > target的最小值\n",
        "def upperBound(a, x):\n",
        "#def bisect.bisect_right(a, x):\n",
        "    lo, hi = 0, len(a)\n",
        "    while lo < hi:\n",
        "        mid = (lo+hi)//2\n",
        "        if x < a[mid]: hi = mid\n",
        "        else: lo = mid+1\n",
        "#     return lo #这里从bisect改成这样是为了防御极端情况\n",
        "    return lo if lo<len(a) and a[lo] > x else -1\n",
        "\n",
        "\n",
        "# 一个数组是[1,2,3,2,1] find peak\n",
        "# https://www.geeksforgeeks.org/find-a-peak-in-a-given-array/\n",
        "# 1) If input array is sorted in strictly increasing order, \n",
        "      #  the last element is always a peak element. \n",
        "      # For example, 50 is peak element in {10, 20, 30, 40, 50}.\n",
        "# 2) If input array is sorted in strictly decreasing order, \n",
        "      #  the first element is always a peak element. \n",
        "      # 100 is the peak element in {100, 80, 60, 50, 20}.\n",
        "def findPeak(arr): \n",
        "    l, r, n = 0, len(arr)-1, len(arr)\n",
        "    while l <= r:\n",
        "        mid = (l + r)//2\n",
        "        if (mid == 0 or arr[mid - 1] <= arr[mid]) and (mid == n - 1 or arr[mid + 1] <= arr[mid]):\n",
        "            l = mid\n",
        "            break\n",
        "        elif (mid > 0 and arr[mid - 1] > arr[mid]):\n",
        "            r = mid - 1\n",
        "        else:\n",
        "            l = mid + 1\n",
        "    return arr[l]"
      ],
      "execution_count": 0,
      "outputs": []
    },
    {
      "metadata": {
        "id": "UpFwFh0_LuI5",
        "colab_type": "text"
      },
      "cell_type": "markdown",
      "source": [
        "### Find First and Last Position of Element in Sorted Array\n",
        "https://leetcode.com/problems/find-first-and-last-position-of-element-in-sorted-array/description/\n",
        "\n",
        "本质是find upperbound 和 find lowerbound的一点点变化"
      ]
    },
    {
      "metadata": {
        "id": "mv3gWlLdqBfp",
        "colab_type": "code",
        "colab": {}
      },
      "cell_type": "code",
      "source": [
        "\n",
        "# >= target的最小值\n",
        "def lowerBound(a, x):\n",
        "#def bisect.bisect_left(a, x):\n",
        "    lo, hi = 0, len(a)\n",
        "    while lo < hi:\n",
        "        mid = (lo+hi)//2\n",
        "        if a[mid] < x: lo = mid+1\n",
        "        else: hi = mid\n",
        "#     return lo #这里从bisect改成这样是为了防御极端情况\n",
        "    return lo if lo<len(a) and a[lo] >= x else -1\n",
        "\n",
        "\n",
        "\n",
        "# > target的最小值\n",
        "def upperBound(a, x):\n",
        "#def bisect.bisect_right(a, x):\n",
        "    lo, hi = 0, len(a)\n",
        "    while lo < hi:\n",
        "        mid = (lo+hi)//2\n",
        "        if x < a[mid]: hi = mid\n",
        "        else: lo = mid+1\n",
        "#     return lo #这里从bisect改成这样是为了防御极端情况\n",
        "    return lo if lo<len(a) and a[lo] > x else -1\n",
        "\n",
        "\n",
        "# = target的最小值\n",
        "def lowerBoundEqual(a, x):\n",
        "    lo, hi = 0, len(a)\n",
        "    while lo < hi:\n",
        "        mid = (lo+hi)//2\n",
        "        if a[mid] < x: lo = mid+1\n",
        "        else: hi = mid\n",
        "    return lo if lo<len(a) and a[lo] == x else -1\n",
        "\n",
        "# = target的最大值\n",
        "def upperBoundEqual(a, x):\n",
        "    lo, hi = 0, len(a)\n",
        "    while lo < hi:\n",
        "        mid = (lo+hi)//2\n",
        "        if x < a[mid]: hi = mid\n",
        "        else: lo = mid+1\n",
        "    return lo-1 if 0<=lo-1<len(a) and a[lo-1] == x else -1\n",
        "\n",
        "\n",
        "class Solution:\n",
        "    def searchRange(self, nums, target):\n",
        "        \"\"\"\n",
        "        :type nums: List[int]\n",
        "        :type target: int\n",
        "        :rtype: List[int]\n",
        "        \"\"\"\n",
        "        l = lowerBoundEqual(nums, target)\n",
        "        r = upperBoundEqual(nums, target)\n",
        "        return [l, r]"
      ],
      "execution_count": 0,
      "outputs": []
    },
    {
      "metadata": {
        "id": "bjIyKoGaU4M-",
        "colab_type": "text"
      },
      "cell_type": "markdown",
      "source": [
        "## MinMax Problem\n",
        "\n",
        "https://en.wikipedia.org/wiki/Minimax\n",
        "\n",
        "这个guess-number问题需要换个角度看成一个最优决策问题，那么算法就比较容易了：\n",
        "https://leetcode.com/problems/guess-number-higher-or-lower-ii/description/\n",
        "\n",
        "假设不管我猜什么数值，对手总是能改数字的，而他的目标是让我的损失最大，那么我的目标就是在我的决策中取 min(所有的max)\n",
        "\n",
        "```\n",
        "function minimax(node, depth, maximizingPlayer) is\n",
        "    if depth = 0 or node is a terminal node then\n",
        "        return the heuristic value of node\n",
        "    if maximizingPlayer then\n",
        "        value := −∞\n",
        "        for each child of node do\n",
        "            value := max(value, minimax(child, depth − 1, FALSE))\n",
        "        return value\n",
        "    else (* minimizing player *)\n",
        "        value := +∞\n",
        "        for each child of node do\n",
        "            value := min(value, minimax(child, depth − 1, TRUE))\n",
        "        return value\n",
        "```"
      ]
    },
    {
      "metadata": {
        "id": "11e7e6fDevWX",
        "colab_type": "code",
        "colab": {}
      },
      "cell_type": "code",
      "source": [
        "class Solution(object):\n",
        "    def getMoneyAmount(self, n):\n",
        "        \"\"\"\n",
        "        :type n: int\n",
        "        :rtype: int\n",
        "        \"\"\"\n",
        "        dp = [[0] *(n+1) for _ in range(n+1)]\n",
        "        def minMoneyAmount(lower, upper):\n",
        "            if lower >= upper:\n",
        "                return 0\n",
        "            if dp[lower][upper]:\n",
        "                return dp[lower][upper]\n",
        "            else:\n",
        "                minm = min( max(minMoneyAmount(lower, i-1), minMoneyAmount(i+1, upper)) + i \\\n",
        "                                for i in range(lower, upper+1)  )\n",
        "                dp[lower][upper] = minm\n",
        "                return minm\n",
        "            \n",
        "        return minMoneyAmount(1, n)\n",
        "        "
      ],
      "execution_count": 0,
      "outputs": []
    },
    {
      "metadata": {
        "id": "B2zTWEOC2M0b",
        "colab_type": "text"
      },
      "cell_type": "markdown",
      "source": [
        "## Sliding Window Problem\n",
        "\n",
        "\n",
        "普遍可以用一种类似槽位放珠子的思路来解这种题目，重点看下面的第一个例子\n",
        "\n",
        "https://leetcode.com/problems/longest-substring-without-repeating-characters/\n",
        "https://leetcode.com/problems/substring-with-concatenation-of-all-words/\n",
        "https://leetcode.com/problems/longest-substring-with-at-most-two-distinct-characters/\n",
        "https://leetcode.com/problems/find-all-anagrams-in-a-string/"
      ]
    },
    {
      "metadata": {
        "id": "U0x4ng-088_D",
        "colab_type": "text"
      },
      "cell_type": "markdown",
      "source": [
        "### [Find All Anagrams in a String](https://leetcode.com/problems/find-all-anagrams-in-a-string/description/)\n",
        "\n",
        "找出s中包含p的anagram的index位置，比如 s: \"cbaebabacd\" p: \"abc\"\n",
        "返回[0, 6]， 对应位置分别有\"cba\", \"bac\""
      ]
    },
    {
      "metadata": {
        "id": "SMSbiWK99a78",
        "colab_type": "code",
        "colab": {}
      },
      "cell_type": "code",
      "source": [
        "import collections\n",
        "class Solution(object):\n",
        "    def findAnagrams(self, s, p):\n",
        "        \"\"\"\n",
        "        :type s: str\n",
        "        :type p: str\n",
        "        :rtype: List[int]\n",
        "        \"\"\"\n",
        "        # 用珠子放进槽位的思路来想这道题：\n",
        "        # 如 p=aba 的槽位为 [ABA], 另外还有一个无效槽位区域[ABCD...Z]用来放没用的珠子\n",
        "        # 我们需要实现的是 所有的有效槽位[ABA]都被珠子放满了\n",
        "        # 槽位可以用dict或者array来实现, diff表示目前还差几个槽位没放满的\n",
        "        d, ret = collections.defaultdict(int), []\n",
        "        diff = n = len(p)\n",
        "        for a in p:\n",
        "            # -1表示有一个槽位需要被填充\n",
        "            d[a] -= 1\n",
        "        for i in range(len(s)):\n",
        "            # left, right表示左右指针, right为要放进来的，left为要拿出去的，right - left = n\n",
        "            left, right = i - n, i\n",
        "            # 拿出left, <=0 说明拿出的是有效区的珠子,diff+1\n",
        "            if left >= 0:\n",
        "                if d[s[left]] <= 0:\n",
        "                    diff += 1\n",
        "                d[s[left]] -= 1\n",
        "\n",
        "            # 放入right, 如果放的是有效区，那么diff-1\n",
        "            d[s[right]] += 1\n",
        "            if d[s[right]] <=0:\n",
        "                diff -= 1\n",
        "            \n",
        "            if diff == 0:\n",
        "                # append left\n",
        "                ret.append(left+1) \n",
        "                \n",
        "        return ret"
      ],
      "execution_count": 0,
      "outputs": []
    },
    {
      "metadata": {
        "id": "gewc-VtL9zsq",
        "colab_type": "text"
      },
      "cell_type": "markdown",
      "source": [
        "### [Longest Substring Without Repeating Characters](https://leetcode.com/problems/longest-substring-without-repeating-characters/description/)\n",
        "\n",
        "如题，比如\"abcabcbb\"返回 3， \"abc\" 就是最长的没有repeating的"
      ]
    },
    {
      "metadata": {
        "id": "t-_yhmVqDUEE",
        "colab_type": "code",
        "colab": {}
      },
      "cell_type": "code",
      "source": [
        "class Solution(object):\n",
        "    def lengthOfLongestSubstring(self, s):\n",
        "        \"\"\"\n",
        "        :type s: str\n",
        "        :rtype: int\n",
        "        \"\"\"\n",
        "        # 还是用槽里面放珠子的思路来想这道题\n",
        "        d = set()\n",
        "        left, right = 0, 0\n",
        "        maxlen = 0\n",
        "        while right < len(s):\n",
        "            # 槽空的，可以放\n",
        "            if s[right] not in d:\n",
        "                maxlen = max(maxlen, right-left+1)\n",
        "                d.add(s[right])\n",
        "                right += 1\n",
        "            else:\n",
        "                # 不能放了，先腾空\n",
        "                while s[right] in d:\n",
        "                    d.remove(s[left])\n",
        "                    left += 1\n",
        "        \n",
        "        return maxlen"
      ],
      "execution_count": 0,
      "outputs": []
    },
    {
      "metadata": {
        "id": "jPI8eWyk8rHk",
        "colab_type": "text"
      },
      "cell_type": "markdown",
      "source": [
        "### [Minimum Window Substring](https://leetcode.com/problems/minimum-window-substring/)\n",
        "\n",
        "找S中包含T中所有字母的最短substring. 如 S = \"ADOBECODEBANC\", T = \"ABC\" -> \"BANC\""
      ]
    },
    {
      "metadata": {
        "id": "D0QwQJw18nIa",
        "colab_type": "code",
        "colab": {}
      },
      "cell_type": "code",
      "source": [
        "class Solution(object):\n",
        "    def minWindow(self, s, t):\n",
        "        \"\"\"\n",
        "        :type s: str\n",
        "        :type t: str\n",
        "        :rtype: str\n",
        "        \"\"\"\n",
        "        \n",
        "        d, ret = collections.defaultdict(int), []\n",
        "        diff = len(t)\n",
        "        for a in t:\n",
        "            # -1表示有一个槽位需要被填充\n",
        "            d[a] -= 1\n",
        "        left, right, minlen, minstr = 0, 0, float(\"inf\"), \"\"\n",
        "        while right < len(s):\n",
        "            # left, right表示左右指针, right为要放进来的，left为要拿出去的\n",
        "            # 放入right, 如果放的是有效区，那么diff-1\n",
        "            \n",
        "            if diff >0:\n",
        "                d[s[right]] += 1\n",
        "                if d[s[right]] <=0:\n",
        "                    diff -= 1\n",
        "                right += 1\n",
        "                \n",
        "            while diff == 0:\n",
        "                # append left\n",
        "                if right - left < minlen:\n",
        "                    minlen = right - left\n",
        "                    minstr = s[left: right]\n",
        "                \n",
        "                # 拿出left, <=0 说明拿出的是有效区的珠子,diff+1\n",
        "                if d[s[left]] <= 0:\n",
        "                    diff += 1\n",
        "                d[s[left]] -= 1\n",
        "                left += 1\n",
        "                \n",
        "        return minstr"
      ],
      "execution_count": 0,
      "outputs": []
    },
    {
      "metadata": {
        "id": "xJ4aoY5QQTFk",
        "colab_type": "text"
      },
      "cell_type": "markdown",
      "source": [
        "### [Substring with Concatenation of All Words](https://leetcode.com/problems/substring-with-concatenation-of-all-words/description/)\n",
        "\n",
        "words里面的单词长度相同，用words组合成的string是s的substring，求index\n",
        "  s = \"barfoothefoobarman\",\n",
        "  words = [\"foo\",\"bar\"]\n",
        "Output: [0,9]"
      ]
    },
    {
      "metadata": {
        "id": "mtOQh4dZqD25",
        "colab_type": "text"
      },
      "cell_type": "markdown",
      "source": [
        "## 蓄水池抽样\n",
        "https://blog.csdn.net/Hackbuteer1/article/details/7971328\n",
        "很大的数据流里面抽取k个，使得所有数据被抽到的概率相同\n",
        "\n",
        "算法和随机洗牌也很类似\n",
        "\n",
        "```python\n",
        "# 初始化：reservoir = nums[:k]\n",
        "for i = k+1 to ...\n",
        "   M=random(1, i);\n",
        "   if( M < k):\n",
        "     SWAP(reservoir[k], nums[i])\n",
        "```\n",
        "\n",
        "一个应用的例子：https://leetcode.com/problems/linked-list-random-node/description/"
      ]
    },
    {
      "metadata": {
        "id": "mK6AUD9ErZra",
        "colab_type": "text"
      },
      "cell_type": "markdown",
      "source": [
        "## 布隆过滤器\n",
        "\n",
        "```python\n",
        "# init\n",
        "for url in urls:\n",
        "  for hash in hashes:\n",
        "    hash_bit_table[hash[url]] = 1  \n",
        "    \n",
        "# query\n",
        "return all([hash_bit_table[hash(url)] for hash in hashes])\n",
        "```"
      ]
    },
    {
      "metadata": {
        "id": "eSXEpKElboLA",
        "colab_type": "text"
      },
      "cell_type": "markdown",
      "source": [
        "## Boyer-Moore Majority Vote \n",
        "https://www.jianshu.com/p/dfd676b71ef0"
      ]
    },
    {
      "metadata": {
        "id": "Nnsl0qsPTIk6",
        "colab_type": "text"
      },
      "cell_type": "markdown",
      "source": [
        "## Manacher算法：求最大长度回文字串的线性算法\n",
        "\n",
        "\n",
        "```\n",
        "原始回文串是S，处理之后为S'\n",
        "1. 维护right(当前最大扩展到的右边界), center(扩展到右边界的时候的中心位置)和Z(以i为中心的最大回文串S'半径)\n",
        "2. 当i < MaxRight的时候：min(right - i, Z[2 * center - i])，然后扩展\n",
        "\n",
        "Z[i] = 以i为中心的最大半径\n",
        "------left--------center---i----right------\n",
        "\n",
        "因为扩展了两倍，半径中的最大值是原始回文长度的最大值\n",
        "```\n",
        "\n",
        "应用：\n",
        "\n",
        "https://leetcode.com/problems/palindromic-substrings/description/\n",
        "\n"
      ]
    },
    {
      "metadata": {
        "id": "dXmrP_fzVUrJ",
        "colab_type": "code",
        "colab": {}
      },
      "cell_type": "code",
      "source": [
        "def manacher(s):\n",
        "    #预处理\n",
        "    A = '@#' + '#'.join(s) + '#$'\n",
        "    Z = [0] * len(A)\n",
        "    center = right = 0\n",
        "    for i in range(1, len(A) - 1):\n",
        "        if i < right:\n",
        "            Z[i] = min(right - i, Z[2 * center - i])\n",
        "        # 左右扩展\n",
        "        while A[i + Z[i] + 1] == A[i - Z[i] - 1]:\n",
        "            Z[i] += 1\n",
        "        # 更新 center, right\n",
        "        if i + Z[i] > right:\n",
        "            center, right = i, i + Z[i]\n",
        "    return Z\n",
        "    # 如果求最大长度\n",
        "    #return max(Z)"
      ],
      "execution_count": 0,
      "outputs": []
    },
    {
      "metadata": {
        "id": "Ys7Qmi_1aTiX",
        "colab_type": "code",
        "colab": {
          "base_uri": "https://localhost:8080/",
          "height": 34
        },
        "outputId": "4691caad-69d8-47b9-a59e-d25fef9bf0c4"
      },
      "cell_type": "code",
      "source": [
        "manacher(\"abba\")"
      ],
      "execution_count": 4,
      "outputs": [
        {
          "output_type": "execute_result",
          "data": {
            "text/plain": [
              "[0, 0, 1, 0, 1, 4, 1, 0, 1, 0, 0]"
            ]
          },
          "metadata": {
            "tags": []
          },
          "execution_count": 4
        }
      ]
    },
    {
      "metadata": {
        "id": "Qd5jZ8a5vaJ_",
        "colab_type": "text"
      },
      "cell_type": "markdown",
      "source": [
        "## Next Permutation\n",
        "https://leetcode.com/problems/next-permutation/\n",
        "1. 找最大index k 满足 nums[k] < nums[k + 1]. 如果没有直接reverse\n",
        "比如 of [3, 2, 1] -> [1, 2, 3].\n",
        "2. 找最大 index l > k 满足 nums[k] < nums[l].\n",
        "3. 交换 nums[k],  nums[l].\n",
        "4. 逆序 nums[k + 1：] \n",
        "\n",
        "如 132  k=1 l=2  swap: 231 reverse: 213\n"
      ]
    },
    {
      "metadata": {
        "id": "tdrGdL6bwW2W",
        "colab_type": "code",
        "colab": {}
      },
      "cell_type": "code",
      "source": [
        "class Solution(object):\n",
        "    def nextPermutation(self, nums):\n",
        "        \"\"\"\n",
        "        :type nums: List[int]\n",
        "        :rtype: void Do not return anything, modify nums in-place instead.\n",
        "        \"\"\"\n",
        "\n",
        "        k = -1; l = -1\n",
        "        for i in range(len(nums)):\n",
        "            if i + 1 < len(nums) and nums[i] < nums[i + 1] :\n",
        "                k = i\n",
        "            if k != -1 and nums[i] > nums[k] and i > l:\n",
        "                l = i\n",
        "        if k == -1:\n",
        "            nums.reverse()\n",
        "        else:\n",
        "            nums[k], nums[l] = nums[l], nums[k]\n",
        "            nums[k+1:] = reversed(nums[k+1 :])\n",
        "        return nums"
      ],
      "execution_count": 0,
      "outputs": []
    },
    {
      "metadata": {
        "id": "IsgGWX5hF3Ze",
        "colab_type": "text"
      },
      "cell_type": "markdown",
      "source": [
        "## 几何经典算法\n",
        "找fence:\n",
        "https://leetcode.com/problems/erect-the-fence/description/\n",
        "https://leetcode.com/problems/erect-the-fence/solution/\n",
        "\n",
        "判断是否在多边形中：\n",
        "https://www.jianshu.com/p/3187832cb6cc"
      ]
    },
    {
      "metadata": {
        "id": "N9eH9KqFRxRr",
        "colab_type": "text"
      },
      "cell_type": "markdown",
      "source": [
        "### 找fence: Monotone_Chain_Convex_Hull\n",
        "http://www.algorithmist.com/index.php/Monotone_Chain_Convex_Hull"
      ]
    },
    {
      "metadata": {
        "id": "SWmbrcTjR3oV",
        "colab_type": "code",
        "colab": {}
      },
      "cell_type": "code",
      "source": [
        "from functools import reduce\n",
        "class Solution:\n",
        "    def outerTrees(self, points):\n",
        "        \"\"\"\n",
        "        :type points: List[Point]\n",
        "        :rtype: List[Point]\n",
        "        \"\"\"\n",
        "        def counter_clockwise(a1, a2, a3):\n",
        "            return (a2[1] - a1[1])*(a3[0] - a2[0]) <= (a3[1] - a2[1])*(a2[0] - a1[0])\n",
        "        \n",
        "        def drive(hull, r):\n",
        "            hull.append(r)\n",
        "            while len(hull) > 2 and not counter_clockwise(*hull[-3:]):\n",
        "                hull.pop(-2)\n",
        "            return hull\n",
        "        points.sort(key = lambda p: (p[0], p[1]))\n",
        "        lower = reduce(drive, points, [])\n",
        "        upper = reduce(drive, points[::-1], [])\n",
        "        #print(lower, upper)\n",
        "        return [[a, b] for a, b in list(set((a, b) for a, b in lower + upper))]\n",
        "        "
      ],
      "execution_count": 0,
      "outputs": []
    },
    {
      "metadata": {
        "id": "gDmxHM9TyeX2",
        "colab_type": "text"
      },
      "cell_type": "markdown",
      "source": [
        "## 图着色问题\n",
        "```\n",
        "图着色问题（英语：Graph Coloring Problem，简称GCP），又称着色问题，是最著名的NP-完全问题之一[1]。\n",
        "给定一个无向图 {\\displaystyle G=(V,E)} G=(V,E)，其中 {\\displaystyle V} V为顶点集合， {\\displaystyle E} E为边集合，图着色问题即为将 {\\displaystyle V} V分为K个颜色组，每个组形成一个独立集，即其中没有相邻的顶点。其优化版本是希望获得最小的K值[2]。\n",
        "```\n",
        "\n",
        "图的着色问题可以用回溯法来解\n",
        "\n",
        "也经常会使用贪心算法，但是贪心算法不能保证得到最优解，只能保证得到还不错的解。"
      ]
    },
    {
      "metadata": {
        "id": "rt39GfyVY4Uq",
        "colab_type": "text"
      },
      "cell_type": "markdown",
      "source": [
        "### 例子：Is Graph Bipartite\n",
        "https://leetcode.com/problems/is-graph-bipartite/description/\n",
        "\n",
        "下面给了两种解法，都需要记住"
      ]
    },
    {
      "metadata": {
        "id": "QT32TG14Y2sU",
        "colab_type": "code",
        "colab": {}
      },
      "cell_type": "code",
      "source": [
        "class Solution:\n",
        "    # 这种解法是经典的解法，但是对于这道题会LTE\n",
        "    def isBipartite1(self, graph):\n",
        "        \"\"\"\n",
        "        :type graph: List[List[int]]\n",
        "        :rtype: bool\n",
        "        \"\"\"\n",
        "        # 这是一个图着色问题，想用两种颜色把图着色\n",
        "        N = len(graph)\n",
        "        color_table = [0] * N # 颜色从1开始，0表示还没有颜色\n",
        "        \n",
        "        # 给顶点v涂色c 合法吗\n",
        "        def colorValid(color_table, c, v):\n",
        "            for neighbor in graph[v]:\n",
        "                if color_table[neighbor] == c:\n",
        "                    return False\n",
        "            return True\n",
        "        \n",
        "        \n",
        "        # m是可以用的颜色数量，v是当前标记的顶点\n",
        "        def colorUtil(color_table, m, v):\n",
        "            if v == N:\n",
        "                return True\n",
        "            # 逐次尝试\n",
        "            for c in range(1, m+1):\n",
        "                if colorValid(color_table, c, v):\n",
        "                    color_table[v] = c\n",
        "                    if colorUtil(color_table, m, v+1):\n",
        "                        return True\n",
        "                    #回溯\n",
        "                    color_table[v] = 0\n",
        "                    \n",
        "            return False\n",
        "        \n",
        "        return colorUtil(color_table, 2, 0)\n",
        "    \n",
        "    # 由于只有两种颜色，可以遍历的同时染色\n",
        "    def isBipartite(self, graph):\n",
        "        \"\"\"\n",
        "        :type graph: List[List[int]]\n",
        "        :rtype: bool\n",
        "        \"\"\"\n",
        "        # 这是一个图着色问题，想用两种颜色把图着色\n",
        "        N = len(graph)\n",
        "        color_table = [0] * N # 0表示还没有颜色, 颜色为1,-1\n",
        "        \n",
        "        \n",
        "        # m是可以用的颜色数量，v是当前标记的顶点\n",
        "        def dfs(color_table, v):\n",
        "            # 逐次尝试\n",
        "            for i in graph[v]:\n",
        "                if not color_table[i]:\n",
        "                    color_table[i] = -color_table[v]\n",
        "                    if not dfs(color_table, i):\n",
        "                        return False\n",
        "                elif color_table[v] == color_table[i]:\n",
        "                    return False\n",
        "            return True\n",
        "        \n",
        "        for i in range(N):\n",
        "            if not color_table[i]:\n",
        "                color_table[i] = 1\n",
        "                if not dfs(color_table, i):\n",
        "                    return False\n",
        "                    \n",
        "        return True"
      ],
      "execution_count": 0,
      "outputs": []
    },
    {
      "metadata": {
        "id": "HoJIw8MOphYf",
        "colab_type": "text"
      },
      "cell_type": "markdown",
      "source": [
        "## 随机洗牌算法\n",
        "生成一个0 - n-1的序列，序列顺序随机"
      ]
    },
    {
      "metadata": {
        "id": "RKUQJbYopsN5",
        "colab_type": "code",
        "colab": {}
      },
      "cell_type": "code",
      "source": [
        "import random\n",
        "def perm(n):\n",
        "    nums = list(range(n))\n",
        "    for i in range(n):\n",
        "        randindex = random.randint(i, n-1)\n",
        "        nums[i], nums[randindex] = nums[randindex], nums[i]\n",
        "    return nums"
      ],
      "execution_count": 0,
      "outputs": []
    },
    {
      "metadata": {
        "id": "Zz6Nsltb2L3r",
        "colab_type": "text"
      },
      "cell_type": "markdown",
      "source": [
        "### 例子: Random Flip Matrix\n",
        "\n",
        "https://leetcode.com/problems/random-flip-matrix/description/\n",
        "这是随机洗牌算法的一个巧妙改进：如何在节约空间和时间的前提下使用随机洗牌算法：本质还是随机洗牌，返回start数字，和start交换的那个数字可能不是n-1了 （已经被交换过了)，用d来记录变化后的数值\n"
      ]
    },
    {
      "metadata": {
        "id": "rbTTEXNr3ikG",
        "colab_type": "code",
        "colab": {}
      },
      "cell_type": "code",
      "source": [
        "class Solution(object):\n",
        "    def __init__(self, n_rows, n_cols):\n",
        "        \"\"\"\n",
        "        :type n_rows: int\n",
        "        :type n_cols: int\n",
        "        \"\"\"\n",
        "        self.n_rows = n_rows\n",
        "        self.n_cols = n_cols\n",
        "        self.start = 0\n",
        "        self.end = n_rows*n_cols - 1\n",
        "        self.d = {}\n",
        "        \n",
        "    def flip(self):\n",
        "        \"\"\"\n",
        "        :rtype: List[int]\n",
        "        \"\"\"\n",
        "        rand = random.randint(self.start, self.end)\n",
        "        ret = self.d.get(rand, rand)\n",
        "        self.d[rand] = self.d.get(self.start, self.start)\n",
        "        self.start +=1\n",
        "        return divmod(ret, self.n_cols)\n",
        "        \n",
        "    def reset(self):\n",
        "        \"\"\"\n",
        "        :rtype: void\n",
        "        \"\"\"\n",
        "        self.start = 0\n",
        "        self.d = {}\n",
        "\n",
        "# Your Solution object will be instantiated and called as such:\n",
        "# obj = Solution(n_rows, n_cols)\n",
        "# param_1 = obj.flip()\n",
        "# obj.reset()"
      ],
      "execution_count": 0,
      "outputs": []
    }
  ]
}